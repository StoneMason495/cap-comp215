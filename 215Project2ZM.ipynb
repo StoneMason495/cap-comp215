{
  "nbformat": 4,
  "nbformat_minor": 0,
  "metadata": {
    "colab": {
      "provenance": [],
      "authorship_tag": "ABX9TyOGu7f+ywONIKoUXWB0Fn7P",
      "include_colab_link": true
    },
    "kernelspec": {
      "name": "python3",
      "display_name": "Python 3"
    },
    "language_info": {
      "name": "python"
    }
  },
  "cells": [
    {
      "cell_type": "markdown",
      "metadata": {
        "id": "view-in-github",
        "colab_type": "text"
      },
      "source": [
        "<a href=\"https://colab.research.google.com/github/StoneMason495/cap-comp215/blob/main/215Project2ZM.ipynb\" target=\"_parent\"><img src=\"https://colab.research.google.com/assets/colab-badge.svg\" alt=\"Open In Colab\"/></a>"
      ]
    },
    {
      "cell_type": "markdown",
      "source": [
        "#Daisy World: Testing the Gaia Hypothesis\n",
        "###By: Zach Mason, COMP 215"
      ],
      "metadata": {
        "id": "BVTo2x-LQHgt"
      }
    },
    {
      "cell_type": "code",
      "execution_count": 8,
      "metadata": {
        "id": "VAmDAFnTQGhi"
      },
      "outputs": [],
      "source": [
        "import numpy as np\n",
        "import matplotlib\n",
        "import matplotlib.pyplot as plt\n",
        "import random\n",
        "from dataclasses import dataclass\n",
        "from matplotlib import animation\n",
        "import time\n",
        "from scipy.signal import correlate2d\n",
        "\n",
        "%matplotlib inline\n",
        "# Configure matplotlib's animation library to work in the browser.\n",
        "matplotlib.rc('animation', html='jshtml')"
      ]
    },
    {
      "cell_type": "markdown",
      "source": [
        "## 2D Animation Class:\n",
        "For future simulations using Cellular Automata, I took the Animation 2D class that we have used throughout the term, so I take no credit for the creation of this class."
      ],
      "metadata": {
        "id": "NUijtWNZyMJc"
      }
    },
    {
      "cell_type": "code",
      "source": [
        "class Animation2D:\n",
        "    \"\"\"\n",
        "      Animates any 2D model with a step() method and a draw() method, using matplotlib\n",
        "      model.step() should take no parameters - just step the model forward one step.\n",
        "      model.draw() should take 2 parameters, the matpltolib axes to draw on and an integer step number\n",
        "    \"\"\"\n",
        "\n",
        "    def __init__(self, model, frames=50, figsize=(8, 8)):\n",
        "        \"\"\"\n",
        "        :param model: the simulation object to animate, with step() and draw(axes, step) methods\n",
        "        :param frames: number of animation frames to generate\n",
        "        \"\"\"\n",
        "        self.model = model\n",
        "        self.frames = frames\n",
        "        self.fig, self.ax = plt.subplots(figsize=figsize)\n",
        "\n",
        "    def animation_step(self, step):\n",
        "        \"\"\" Step the model forward and draw the plot \"\"\"\n",
        "        if step > 0:\n",
        "            self.model.step()\n",
        "        self.model.draw(self.ax, step=step)\n",
        "\n",
        "    def show(self):\n",
        "        \"\"\" return the matplotlib animation object, ready for display \"\"\"\n",
        "        anim = animation.FuncAnimation(self.fig, self.animation_step, frames=self.frames)\n",
        "        plt.close()  # this ensures the last frame is not shown as a separate plot\n",
        "        return anim\n",
        "\n",
        "    def animate(self, interval=None):\n",
        "        \"\"\" Animate the model simulation directly in the notebook display block \"\"\"\n",
        "        from IPython.display import clear_output\n",
        "        try:\n",
        "            for i in range(self.frames):\n",
        "                clear_output(wait=True)  # clear the IPython display\n",
        "                self.ax.clear()          # clear old image from the axes (fixes a performance issue)\n",
        "                plt.figure(self.fig)     # add the figure back to pyplot ** sigh **\n",
        "                self.animation_step(i)\n",
        "                plt.show()               # show the current animation frame (pyplot then closes and throws away figure ** sigh **)\n",
        "                if interval:\n",
        "                    time.sleep(interval)\n",
        "        except KeyboardInterrupt:\n",
        "            pass"
      ],
      "metadata": {
        "id": "4rH4-O09yhJF"
      },
      "execution_count": 2,
      "outputs": []
    },
    {
      "cell_type": "code",
      "source": [
        "# Other borrowed elemtns \n",
        "DEFAULT_IMSHOW_OPTIONS = dict(\n",
        "    cmap='Blues',\n",
        "    interpolation='none',\n",
        "    origin='upper',\n",
        ")\n",
        "\n",
        "\n",
        "def plot_2D_array(array, axes=None, title='', **options):\n",
        "    \"\"\" Plot the 2D array as an image on the given axes  1's will be dark blue, 0's will be light blue. \"\"\"\n",
        "    axes = axes or plt.gca()  # If not axes are provided, draw on current axes\n",
        "    axes.set_title(title)\n",
        "    axes.set_xticks([], [])  # remove axes tick marks\n",
        "    axes.set_yticks([], [])\n",
        "    options = {**DEFAULT_IMSHOW_OPTIONS, **options}\n",
        "    axes.imshow(array, **options)"
      ],
      "metadata": {
        "id": "zz3CjKTUE-eY"
      },
      "execution_count": 3,
      "outputs": []
    },
    {
      "cell_type": "markdown",
      "source": [
        "##Daisy Class:\n",
        "I created a simple data class to create each daisy, which only has its colour (inputted as a string), and the albedo, or amount of light reflected by a surface in decimal/fraction form (inputted as a float)\n",
        "I chose the albedo values of 0.25 for black and 0.75 for white, as [this website](https://serc.carleton.edu/NAGTWorkshops/complexsystems/activities/daisyworld.html) utilized those values as well. The 0.75 value means that the white daisies will reflect 75% of the light shone upon them, where as the black daisies (with an albedo of 0.25) will absorb 75% of the light, and therefore the heat"
      ],
      "metadata": {
        "id": "mpAMWaFTINWW"
      }
    },
    {
      "cell_type": "code",
      "source": [
        "B = lambda T: 1 - 0.003265*(22.5-T)**2 #The rate of growth for the daisies, T is equal to the temperature on the planet/ of the daisies (if T<5 or T>40, then B = 0)\n",
        "@dataclass\n",
        "class Daisy: #a dataclass, with only the colour of the daisy, and the albedo value (fractional value of light that a surface reflects)\n",
        "  color : str\n",
        "  albedo : float\n",
        "  pop : float #Must be greater than 0, otherwise no growth can occur in a simulation\n",
        "  \n",
        "  def growth_rate(self, temp):\n",
        "    growth_rate = self.pop * B(temp)\n",
        "    return growth_rate if growth_rate > 0 else 0\n",
        "  def death_rate(self, gamma=0.3):\n",
        "    if self.pop > 0.01:\n",
        "      return self.pop * gamma\n",
        "    else:\n",
        "      return 0\n",
        "  def step(self):\n",
        "    return 1\n",
        "\n",
        "white = Daisy('white', 0.75, 0.001)\n",
        "black = Daisy('black', 0.25, 0.001)\n",
        "\n",
        "white.growth_rate(31), black.growth_rate(22.5)\n",
        "white.death_rate(), black.death_rate()"
      ],
      "metadata": {
        "colab": {
          "base_uri": "https://localhost:8080/"
        },
        "id": "5ZQFNcWWFsSW",
        "outputId": "7ea5355e-8b7d-48ca-cc76-5eb3e0b32f6b"
      },
      "execution_count": 4,
      "outputs": [
        {
          "output_type": "execute_result",
          "data": {
            "text/plain": [
              "(0, 0)"
            ]
          },
          "metadata": {},
          "execution_count": 4
        }
      ]
    },
    {
      "cell_type": "markdown",
      "source": [
        "##Daisyworld Class:\n",
        "In order to create a simulation, I created a second class, this time for the whole daisyworld, which takes inputs of a black and white daisy object, as well as leaving the option to lower the percentage of planet available, if one so desired"
      ],
      "metadata": {
        "id": "Mj02o2CoCe9l"
      }
    },
    {
      "cell_type": "code",
      "source": [
        "class Daisyworld:\n",
        "  def __init__(self, b_daisy, w_daisy, p=1.0):\n",
        "    '''initialize a Daisyworld object, in preparation for a simulation\n",
        "    b_daisy : Daisy, choose the object you want to be the black daisies\n",
        "    w_daisy : Daisy, choose the object you want to be the white daisies\n",
        "    p : float, amount of fertile ground on planet, designed to be left at 1.0 (100%), but can be changed if desired'''\n",
        "    self.black = b_daisy #the black daisy used in the simulation, designed to be a daisy class object\n",
        "    self.white = w_daisy #the white daisy used in the simulation, also designed to be a daisy class object\n",
        "    self.p = p #the total planet percentage as a decimal, designed to be 1.0, but could in theory be lowered\n",
        "    self.x = self.p - self.black.pop - self.white.pop #total planet remaining for expansion, utilized in calculations of growth\n",
        "    self.luminosity = 0.5 #initial value of luminosity, which will then increase each step by (0.02*)\n",
        "    self.sol_constant = 917\n",
        "    self.stefboltz = 5.67*(10**-8)\n",
        "    self.q = 0.2*(self.sol_constant/self.stefboltz)\n",
        "    self.cycle_num = 0\n",
        "  \n",
        "  def dw_temp(self):\n",
        "    '''calculates the temperature for the year on Daisyworld\n",
        "    daisyworldtemp = ((solar_flux*(1-planetary_albedo)/stefboltz)^(0.25))-273'''\n",
        "    temp = (((self.luminosity * self.sol_constant)*(1-self.dw_albedo())/self.stefboltz)**(0.25))-273\n",
        "    return temp\n",
        "\n",
        "  def dw_albedo(self):\n",
        "    '''calculates the albedo (reflective quantity as a decimal/fraction) of the entire planet\n",
        "    planetary_albedo = (white_daisies*WD_albedo)+(black_daisies*BD_albedo)+(X*bare_ground_albedo(=0.5))'''\n",
        "    planet_albedo = (self.white.pop * self.white.albedo) + (self.black.pop * self.black.albedo) + (self.x*0.5)\n",
        "    return planet_albedo\n",
        "\n",
        "  def daisy_temp(self, daisy):\n",
        "    '''Calculate the temperature of one of either black or white daisies in a daisyworld simulation\n",
        "    D_temp = ((q*(planetary_albedo-D_albedo)+((daisyworld__temp+273)^4))^(0.25))-273'''\n",
        "    d_temp = ((self.q*(self.dw_albedo()-daisy.albedo)+((self.dw_temp()+273)**4))**0.25)-273\n",
        "    return d_temp\n",
        "\n",
        "  def ground_temp(self):\n",
        "    '''ground temperature = ((q*(planetary_albedo - bare_ground_albedo) + ((daisyworld__temp + 273)^4))^(0.25))-273'''\n",
        "    g_temp = ((self.q*(self.dw_albedo-0.5) + ((self.dw_temp()+273)**4))**(0.25))-273\n",
        "    return g_temp\n",
        "\n",
        "  def step(self):\n",
        "    '''Advances the simulation one timestep'''\n",
        "    planet_temp = self.dw_temp()\n",
        "    bd_temp = self.daisy_temp(self.black)\n",
        "    wd_temp = self.daisy_temp(self.white)\n",
        "    self.black.pop = self.black.pop + (self.black.growth_rate(bd_temp)*self.x)-self.black.death_rate() #calculates the population of black daisies\n",
        "    self.white.pop = self.white.pop + (self.white.growth_rate(wd_temp)*self.x)-self.white.death_rate() #calculates the population of white daisies\n",
        "    self.x = self.p - self.black.pop - self.white.pop\n",
        "    planet_albedo = self.dw_albedo()\n",
        "    self.cycle_num += 1\n",
        "    self.luminosity += (0.02*self.cycle_num) if self.luminosity < 1 else 0\n",
        "\n",
        "\n",
        "world = Daisyworld(black, white)\n",
        "frames = 100\n",
        "b_daisypop = []\n",
        "w_daisypop = []\n",
        "x_remaining = []\n",
        "for i in range(frames):\n",
        "  world.step()\n",
        "  b_daisypop.append(world.black.pop)\n",
        "  w_daisypop.append(world.white.pop)\n",
        "  x_remaining.append(world.x)\n",
        "# b_daisypop = b_daisypop[40:]\n",
        "# w_daisypop = w_daisypop[40:]\n",
        "# x_remaining = x_remaining[40:]\n",
        "plt.plot(range(frames), b_daisypop)\n",
        "plt.plot(range(frames), w_daisypop)\n",
        "plt.plot(range(frames), x_remaining)\n",
        "plt.show()"
      ],
      "metadata": {
        "id": "5nwd2j5HCh41",
        "colab": {
          "base_uri": "https://localhost:8080/"
        },
        "outputId": "1c13a909-6980-4cc7-846e-6a07376d0c17"
      },
      "execution_count": 19,
      "outputs": [
        {
          "output_type": "execute_result",
          "data": {
            "text/plain": [
              "0.5657620194420939"
            ]
          },
          "metadata": {},
          "execution_count": 19
        }
      ]
    },
    {
      "cell_type": "markdown",
      "source": [
        "## Expanding the Daisyworld Class: Transitioning to Cellular Automata"
      ],
      "metadata": {
        "id": "H5VfPaLD3BC1"
      }
    },
    {
      "cell_type": "code",
      "source": [
        "class Daisyworld_CA(Daisyworld):\n",
        "  kernel = np.array([[0, 1, 0],\n",
        "                    [1, 1, 1],\n",
        "                    [0, 1, 0]])\n",
        "  #Define three possible states for the Daisyworld simulation\n",
        "  BARREN = 0\n",
        "  BLACK = 1\n",
        "  WHITE = 2\n",
        "\n",
        "  #Creating a colour map for each colour\n",
        "  cmap = [(0.6, 0.6, 0.7), (0, 0, 0), (1, 1, 1)]\n",
        "  dw_colour_map = matplotlib.colors.ListedColormap(cmap)\n",
        "\n",
        "  def __init__(self, b_daisy, w_daisy, rows, p=1.0):\n",
        "    '''initialize a Daisyworld object, in preparation for a simulation\n",
        "    b_daisy : Daisy, choose the object you want to be the black daisies\n",
        "    w_daisy : Daisy, choose the object you want to be the white daisies\n",
        "    p : float, amount of fertile ground on planet, designed to be left at 1.0 (100%), but can be changed if desired'''\n",
        "    Daisyworld.__init__(self, b_daisy, w_daisy, p=p)\n",
        "    self.rows = rows\n",
        "    self.array = np.random.choice([self.BARREN, self.BLACK, self.WHITE], (rows, rows), p=[0.9, 0.05, 0.05])\n",
        "\n",
        "  def bd_growth(self):\n",
        "    bd_temp = self.daisy_temp(self.black)\n",
        "    bd_growth = (self.black.growth_rate(bd_temp)*self.x)-self.black.death_rate() #calculates the population of black daisies\n",
        "    bd_growth = 0 if bd_growth < 0 else bd_growth\n",
        "    return bd_growth\n",
        "\n",
        "  def wd_growth(self):\n",
        "    wd_temp = self.daisy_temp(self.white)\n",
        "    wd_growth = self.white.pop + (self.white.growth_rate(wd_temp)*self.x)-self.white.death_rate() #calculates the population growth of white daisies\n",
        "    wd_growth = 0 if wd_growth < 0 else wd_growth\n",
        "    return wd_growth\n",
        "\n",
        "  def step(self):\n",
        "    planet_temp = self.dw_temp()\n",
        "    c = correlate2d(self.array, self.kernel, mode='same', boundary='wrap')\n",
        "    barren = (self.array == self.BARREN) #unoccupied land, that will continue to be unoccupied in the next timestep\n",
        "    black = (self.array == self.BLACK) #unoccupied land, will become a black daisy in the next timestep\n",
        "    white = (self.array == self.WHITE) #unoccupied land, will become a white daisy in the next timestep\n",
        "    soon_white = (self.array == self.BARREN) & (c>=2)\n",
        "    soon_black = (self.array == self.BARREN) & (c<2)\n",
        "    near_daisy = (self.array == self.BARREN) & (c>1)\n",
        "    # self.array[black] = np.random.choice([self.BARREN, self.BLACK], self.array[black].shape, p=[1-self.bd_growth(), self.bd_growth()])\n",
        "    # self.array[black] = self.BLACK\n",
        "    # self.array[white] = np.random.choice([self.BARREN, self.WHITE], self.array[white].shape, p=[1-self.wd_growth(), self.wd_growth()])\n",
        "    # self.array[white] = self.WHITE\n",
        "    self.array[near_daisy] = np.random.choice([self.BARREN, self.BLACK, self.WHITE], self.array[near_daisy].shape, p=[self.x, self.black.pop, self.white.pop])\n",
        "    self.cycle_num += 1\n",
        "    self.luminosity += (0.02*self.cycle_num) if self.luminosity < 1 else 0\n",
        "\n",
        "  def draw(self, axes=None, step=''): #Needed for the Animation2D class, taken from previous labs\n",
        "    \"\"\"Draws the CA cells using the colour map so values are coloured intuitively.\"\"\"\n",
        "    axes = axes or plt.gca()\n",
        "    title = f'Time:{step}'\n",
        "    plot_2D_array(self.array, axes=axes, title=title,\n",
        "                  cmap=self.dw_colour_map, vmin=0, vmax=len(self.dw_colour_map.colors))\n",
        "    \n",
        "CA_world = Daisyworld_CA(black, white, 10)\n",
        "CA_world.array\n",
        "\n",
        "Anim = Animation2D(CA_world, frames=100)\n",
        "Anim.animate()"
      ],
      "metadata": {
        "colab": {
          "base_uri": "https://localhost:8080/",
          "height": 675
        },
        "id": "-Elsl1U_GZuU",
        "outputId": "32233855-75a4-46a7-826c-dc3ee98d132d"
      },
      "execution_count": 46,
      "outputs": [
        {
          "output_type": "display_data",
          "data": {
            "text/plain": [
              "<Figure size 800x800 with 1 Axes>"
            ],
            "image/png": "[encoded data removed]"
          },
          "metadata": {}
        }
      ]
    }
  ]
}