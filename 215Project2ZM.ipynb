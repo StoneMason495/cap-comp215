{
  "nbformat": 4,
  "nbformat_minor": 0,
  "metadata": {
    "colab": {
      "provenance": [],
      "authorship_tag": "ABX9TyNA8r8xrss+m+odorBpgJ6p",
      "include_colab_link": true
    },
    "kernelspec": {
      "name": "python3",
      "display_name": "Python 3"
    },
    "language_info": {
      "name": "python"
    }
  },
  "cells": [
    {
      "cell_type": "markdown",
      "metadata": {
        "id": "view-in-github",
        "colab_type": "text"
      },
      "source": [
        "<a href=\"https://colab.research.google.com/github/StoneMason495/cap-comp215/blob/main/215Project2ZM.ipynb\" target=\"_parent\"><img src=\"https://colab.research.google.com/assets/colab-badge.svg\" alt=\"Open In Colab\"/></a>"
      ]
    },
    {
      "cell_type": "markdown",
      "source": [
        "#Daisy World: Testing the Gaia Hypothesis\n",
        "###By: Zach Mason, COMP 215"
      ],
      "metadata": {
        "id": "BVTo2x-LQHgt"
      }
    },
    {
      "cell_type": "code",
      "execution_count": 36,
      "metadata": {
        "id": "VAmDAFnTQGhi"
      },
      "outputs": [],
      "source": [
        "import numpy as np\n",
        "import matplotlib.pyplot as plt\n",
        "import random\n",
        "from dataclasses import dataclass"
      ]
    },
    {
      "cell_type": "markdown",
      "source": [
        "##Daisy Class:\n",
        "I created a simple data class to create each daisy, which only has its colour (inputted as a string), and the albedo, or amount of light reflected by a surface in decimal/fraction form (inputted as a float)\n",
        "I chose the albedo values of 0.25 for black and 0.75 for white, as [this website](https://serc.carleton.edu/NAGTWorkshops/complexsystems/activities/daisyworld.html) utilized those values as well. The 0.75 value means that the white daisies will reflect 75% of the light shone upon them, where as the black daisies (with an albedo of 0.25) will absorb 75% of the light, and therefore the heat"
      ],
      "metadata": {
        "id": "mpAMWaFTINWW"
      }
    },
    {
      "cell_type": "code",
      "source": [
        "B = lambda T: 1 - 0.003265*(22.5-T)**2 #The rate of growth for the daisies, T is equal to the temperature on the planet/ of the daisies (if T<5 or T>40, then B = 0)\n",
        "@dataclass\n",
        "class Daisy: #a dataclass, with only the colour of the daisy, and the albedo value (fractional value of light that a surface reflects)\n",
        "  color : str\n",
        "  albedo : float\n",
        "  pop : float #Must be greater than 0, otherwise no growth can occur in a simulation\n",
        "  \n",
        "  def growth_rate(self, temp):\n",
        "    growth_rate = self.pop * B(temp)\n",
        "    return growth_rate if growth_rate > 0 else 0\n",
        "  def death_rate(self, gamma=0.3):\n",
        "    if self.pop > 0.01:\n",
        "      return self.pop * gamma\n",
        "    else:\n",
        "      return 0\n",
        "  def step(self):\n",
        "    return 1\n",
        "\n",
        "white = Daisy('white', 0.75, 0.001)\n",
        "black = Daisy('black', 0.25, 0.001)\n",
        "\n",
        "white.growth_rate(31), black.growth_rate(22.5)\n",
        "white.death_rate(), black.death_rate()"
      ],
      "metadata": {
        "colab": {
          "base_uri": "https://localhost:8080/"
        },
        "id": "5ZQFNcWWFsSW",
        "outputId": "1620c420-8e75-4c97-9048-35d47a838c1c"
      },
      "execution_count": 37,
      "outputs": [
        {
          "output_type": "execute_result",
          "data": {
            "text/plain": [
              "(0, 0)"
            ]
          },
          "metadata": {},
          "execution_count": 37
        }
      ]
    },
    {
      "cell_type": "markdown",
      "source": [
        "##Daisyworld Class:\n",
        "In order to create a simulation, I created a second class, this time for the whole daisyworld, which takes inputs of a black and white daisy object, as well as leaving the option to lower the percentage of planet available, if one so desired"
      ],
      "metadata": {
        "id": "Mj02o2CoCe9l"
      }
    },
    {
      "cell_type": "code",
      "source": [
        "class Daisyworld:\n",
        "  def __init__(self, b_daisy, w_daisy, p=1.0):\n",
        "    '''initialize a Daisyworld object, in preparation for a simulation\n",
        "    b_daisy : Daisy, choose the object you want to be the black daisies\n",
        "    w_daisy : Daisy, choose the object you want to be the black daisies\n",
        "    p : float, amount of fertile ground on planet, designed to be left at 1.0 (100%), but can be changed if desired'''\n",
        "    self.black = b_daisy #the black daisy used in the simulation, designed to be a daisy class object\n",
        "    self.white = w_daisy #the white daisy used in the simulation, also designed to be a daisy class object\n",
        "    self.p = p #the total planet percentage as a decimal, designed to be 1.0, but could in theory be lowered\n",
        "    self.x = self.p - self.black.pop - self.white.pop #total planet remaining for expansion, utilized in calculations of growth\n",
        "    self.luminosity = 0.5 #initial value of luminosity, which will then increase each step by (0.02*)\n",
        "    self.sol_constant = 917\n",
        "    self.stefboltz = 5.67*(10**-8)\n",
        "    self.q = 0.2*(self.sol_constant/self.stefboltz)\n",
        "    self.cycle_num = 0\n",
        "  \n",
        "  def dw_temp(self):\n",
        "    '''calculates the temperature for the year on Daisyworld\n",
        "    daisyworldtemp = ((solar_flux*(1-planetary_albedo)/stefboltz)^(0.25))-273'''\n",
        "    temp = (((self.luminosity * self.sol_constant)*(1-self.dw_albedo())/self.stefboltz)**(0.25))-273\n",
        "    return temp\n",
        "\n",
        "  def dw_albedo(self):\n",
        "    '''calculates the albedo (reflective quantity as a decimal/fraction) of the entire planet\n",
        "    planetary_albedo = (white_daisies*WD_albedo)+(black_daisies*BD_albedo)+(X*bare_ground_albedo(=0.5))'''\n",
        "    planet_albedo = (self.white.pop * self.white.albedo) + (self.black.pop * self.black.albedo) + (self.x*0.5)\n",
        "    return planet_albedo\n",
        "\n",
        "  def daisy_temp(self, daisy):\n",
        "    '''Calculate the temperature of one of either black or white daisies in a daisyworld simulation\n",
        "    D_temp = ((q*(planetary_albedo-D_albedo)+((daisyworld__temp+273)^4))^(0.25))-273'''\n",
        "    d_temp = ((self.q*(self.dw_albedo()-daisy.albedo)+((self.dw_temp()+273)**4))**0.25)-273\n",
        "    return d_temp\n",
        "\n",
        "  def ground_temp(self):\n",
        "    '''ground temperature = ((q*(planetary_albedo - bare_ground_albedo) + ((daisyworld__temp + 273)^4))^(0.25))-273'''\n",
        "    g_temp = ((self.q*(self.dw_albedo-0.5) + ((self.dw_temp()+273)**4))**(0.25))-273\n",
        "    return g_temp\n",
        "\n",
        "  def step(self):\n",
        "    '''Advances the simulation one timestep'''\n",
        "    planet_temp = self.dw_temp()\n",
        "    bd_temp = self.daisy_temp(self.black)\n",
        "    wd_temp = self.daisy_temp(self.white)\n",
        "    self.black.pop = self.black.pop + (self.black.growth_rate(bd_temp)*self.x)-self.black.death_rate() #calculates the population of black daisies\n",
        "    self.white.pop = self.white.pop + (self.white.growth_rate(wd_temp)*self.x)-self.white.death_rate() #calculates the population of black daisies\n",
        "    self.x = self.p - self.black.pop - self.white.pop\n",
        "    planet_albedo = self.dw_albedo()\n",
        "    self.cycle_num += 1\n",
        "    self.luminosity += (0.02*self.cycle_num) if self.luminosity < 1 else 0\n",
        "\n",
        "\n",
        "world = Daisyworld(black, white)\n",
        "frames = 100\n",
        "b_daisypop = []\n",
        "w_daisypop = []\n",
        "x_remaining = []\n",
        "for i in range(frames):\n",
        "  world.step()\n",
        "  b_daisypop.append(world.black.pop)\n",
        "  w_daisypop.append(world.white.pop)\n",
        "  x_remaining.append(world.x)\n",
        "plt.plot(range(frames), b_daisypop)\n",
        "plt.plot(range(frames), w_daisypop)\n",
        "plt.plot(range(frames), x_remaining)\n",
        "plt.show()"
      ],
      "metadata": {
        "id": "5nwd2j5HCh41",
        "colab": {
          "base_uri": "https://localhost:8080/",
          "height": 430
        },
        "outputId": "0d7221cc-578d-4d83-8d1f-8157bec9ea0a"
      },
      "execution_count": 38,
      "outputs": [
        {
          "output_type": "display_data",
          "data": {
            "text/plain": [
              "<Figure size 640x480 with 1 Axes>"
            ],
            "image/png": "[encoded data removed]"
          },
          "metadata": {}
        }
      ]
    }
  ]
}