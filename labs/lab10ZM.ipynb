{
  "cells": [
    {
      "cell_type": "markdown",
      "source": [
        "# Labs 7 - 10: A CA model of Natural Disturbance\n",
        "In [1990](https://doi.org/10.1016/0375-9601(90)90451-S) Bak, Chen and Tang proposed a cellular automaton that is an abstract model of a forest fire. Each cell is in one of three states: empty, occupied by forest, or on fire.\n",
        "\n",
        "3 ecological processes are modelled: forest regeneration, fire ignition, and fire spread\n",
        "\n",
        "  * empty cells \"regenerate\" forest at a fixed rate, $p$\n",
        "  * forest fires ignite with a regular but small frequency, $f$\n",
        "  * forested cells catch fire when their neighbours are burning, and burn out in one time step.\n",
        "\n",
        "Over the remainder of term, we will develop 2D CA class that implements this model and run computational experiments on the spatial and temporal patterns that emerge."
      ],
      "metadata": {
        "collapsed": false,
        "id": "QJ2-_WzyHS8E"
      }
    },
    {
      "cell_type": "code",
      "execution_count": 66,
      "metadata": {
        "collapsed": true,
        "id": "evc0idK8HS8G",
        "colab": {
          "base_uri": "https://localhost:8080/"
        },
        "outputId": "bd58cedf-0ade-4b7d-d64b-54a6699f7baa"
      },
      "outputs": [
        {
          "output_type": "stream",
          "name": "stdout",
          "text": [
            "Looking in indexes: https://pypi.org/simple, https://us-python.pkg.dev/colab-wheels/public/simple/\n",
            "Requirement already satisfied: empiricaldist in /usr/local/lib/python3.9/dist-packages (0.6.8)\n"
          ]
        }
      ],
      "source": [
        "%matplotlib inline\n",
        "!pip install empiricaldist\n",
        "from empiricaldist import Pmf\n",
        "\n",
        "import time\n",
        "\n",
        "import matplotlib\n",
        "import matplotlib.pyplot as plt\n",
        "import numpy as np\n",
        "from matplotlib import animation\n",
        "from scipy.stats import linregress\n",
        "from scipy.signal import correlate2d\n",
        "import random\n",
        "\n",
        "# Configure matplotlib's animation library to work in the browser.\n",
        "matplotlib.rc('animation', html='jshtml')"
      ]
    },
    {
      "cell_type": "markdown",
      "source": [
        "### Helpers\n",
        "Some useful, re-usable bits of code developed in previous notebooks..."
      ],
      "metadata": {
        "collapsed": false,
        "pycharm": {
          "name": "#%% md\n"
        },
        "id": "fmYSMrd6HS8H"
      }
    },
    {
      "cell_type": "code",
      "execution_count": 67,
      "outputs": [],
      "source": [
        "DEFAULT_IMSHOW_OPTIONS = dict(\n",
        "    cmap='Blues',\n",
        "    interpolation='none',\n",
        "    origin='upper',\n",
        ")\n",
        "\n",
        "\n",
        "def plot_2D_array(array, axes=None, title='', **options):\n",
        "    \"\"\" Plot the 2D array as an image on the given axes  1's will be dark blue, 0's will be light blue. \"\"\"\n",
        "    axes = axes or plt.gca()  # If not axes are provided, draw on current axes\n",
        "    axes.set_title(title)\n",
        "    axes.set_xticks([], [])  # remove axes tick marks\n",
        "    axes.set_yticks([], [])\n",
        "    options = {**DEFAULT_IMSHOW_OPTIONS, **options}\n",
        "    axes.imshow(array, **options)"
      ],
      "metadata": {
        "pycharm": {
          "name": "#%%\n"
        },
        "id": "A5Yci-s4HS8H"
      }
    },
    {
      "cell_type": "code",
      "execution_count": 68,
      "outputs": [],
      "source": [
        "class Animation2D:\n",
        "    \"\"\"\n",
        "      Animates any 2D model with a step() method and a draw() method, using matplotlib\n",
        "      model.step() should take no parameters - just step the model forward one step.\n",
        "      model.draw() should take 2 parameters, the matpltolib axes to draw on and an integer step number\n",
        "\n",
        "      See https://www.allendowney.com/blog/2019/07/25/matplotlib-animation-in-jupyter/\n",
        "          for a discussion of the pros and cons of various animation techniques in jupyter notebooks\n",
        "    \"\"\"\n",
        "\n",
        "    def __init__(self, model, frames=50, steps_per_frame=1, figsize=(8, 8)):\n",
        "        \"\"\"\n",
        "        :param model: the simulation object to animate, with step() and draw(axes, step) methods\n",
        "        :param frames: number of animation frames to generate\n",
        "        \"\"\"\n",
        "        self.model = model\n",
        "        self.frames = frames\n",
        "        self.steps_per_frame = steps_per_frame\n",
        "        self.fig, self.ax = plt.subplots(figsize=figsize)\n",
        "\n",
        "    def animation_step(self, step):\n",
        "        \"\"\" Step the model forward and draw the plot \"\"\"\n",
        "        if step > 0:\n",
        "            for _ in range(self.steps_per_frame):\n",
        "                self.model.step()\n",
        "        self.model.draw(self.ax, step=step * self.steps_per_frame)\n",
        "\n",
        "    def show(self):\n",
        "        \"\"\" return the matplotlib animation object, ready for display \"\"\"\n",
        "        anim = animation.FuncAnimation(self.fig, self.animation_step, frames=self.frames)\n",
        "        plt.close()  # this ensures the last frame is not shown as a separate plot\n",
        "        return anim\n",
        "\n",
        "    def animate(self, interval=None):\n",
        "        \"\"\" Animate the model simulation directly in the notebook display block \"\"\"\n",
        "        from IPython.display import clear_output\n",
        "        try:\n",
        "            for i in range(self.frames):\n",
        "                clear_output(wait=True)  # clear the IPython display\n",
        "                self.ax.clear()  # clear old image from the axes (fixes a performance issue)\n",
        "                plt.figure(self.fig)  # add the figure back to pyplot ** sigh **\n",
        "                self.animation_step(i)\n",
        "                plt.show()  # show the current animation frame (pyplot then closes and throws away figure ** sigh **)\n",
        "                if interval:\n",
        "                    time.sleep(interval)\n",
        "        except KeyboardInterrupt:\n",
        "            pass"
      ],
      "metadata": {
        "pycharm": {
          "name": "#%%\n"
        },
        "id": "2I8yUx5EHS8H"
      }
    },
    {
      "cell_type": "markdown",
      "source": [
        "# Lab 7:  Implementing the Bak, Chen, Tang Model\n",
        "\n",
        "In this lab we will implement a 2D CA model using the same techniques as the GoL, Diffusion, and Percolation models.\n",
        "We are setting up the model we will use in future labs to run some computational experiments to answer questions about this system."
      ],
      "metadata": {
        "collapsed": false,
        "pycharm": {
          "name": "#%% md\n"
        },
        "id": "_ZRGPFQNHS8I"
      }
    },
    {
      "cell_type": "markdown",
      "source": [
        "## Ex. 7.1: Define the Cellular Automata\n",
        "This 2D CA will be similar to those we've seen before.\n",
        "\n",
        "1. Define the kernel (correlation matrix)\n",
        "    * what do we need to know about a cell's neighbourhood?\n",
        "    * how can we encode that using a dot product with a 3 x 3 correlation matrix?\n",
        "\n",
        "2. The step function will be more complex because it must implement the 4 rules:\n",
        "\n",
        "  *  An empty cell becomes occupied with probability $p$. #1\n",
        "  *  A cell with a tree burns if any of its neighbors is on fire. #4\n",
        "  *  A cell with a tree spontaneously burns, with probability $f$, even if none of its neighbors is on fire. #2\n",
        "  *  A cell with a burning tree becomes an empty cell in the next time step. #3\n",
        "\n",
        "Typical values for the parameters are $p=0.01$ and $f=0.001$"
      ],
      "metadata": {
        "collapsed": false,
        "id": "1DbV2e1dHS8I"
      }
    },
    {
      "cell_type": "code",
      "execution_count": 98,
      "outputs": [
        {
          "output_type": "stream",
          "name": "stdout",
          "text": [
            "5\n",
            "[[0 0 0]\n",
            " [1 0 5]\n",
            " [0 1 5]]\n",
            "\n",
            "\n",
            "[[0 0 0]\n",
            " [5 0 0]\n",
            " [0 5 0]]\n"
          ]
        }
      ],
      "source": [
        "class ForestFire:\n",
        "    \"\"\" 2D Cellular Automaton that simulates a fire-dominated landscape \"\"\"\n",
        "\n",
        "    # Define names for the 3 possible cell states\n",
        "    EMPTY = 0\n",
        "    OCCUPIED = 1\n",
        "    FIRE = 5\n",
        "\n",
        "    # Define a colour map that maps each cell state to an intuitive colour.\n",
        "    cmap = [(1, 0.5, 0), (0, 1, 0), (0, 0, 0), (0, 0, 0), (0, 0, 0), (1, 0, 0)]\n",
        "    cmap[EMPTY] = (1, 0.5, 0)  # brown\n",
        "    cmap[OCCUPIED] = (0, 1, 0)  # green\n",
        "    cmap[FIRE] = (1, 0, 0)  # red\n",
        "    forest_colour_map = matplotlib.colors.ListedColormap(cmap)\n",
        "\n",
        "    # TODO: define a sensible correlation kernel\n",
        "    kernel = np.array([[0, 1, 0],\n",
        "                       [1, 1, 1],\n",
        "                       [0, 1, 0]])\n",
        "\n",
        "\n",
        "    def __init__(self, n, p=0.01, f=0.001, q=0.5):\n",
        "        \"\"\"Initializes the model.\n",
        "\n",
        "        n: number of rows\n",
        "        p: probability an empty cells becomes \"forested\" (occupied)\n",
        "        f: probability of spontaneous file (e.g., 1/fire ignition interval)\n",
        "        q: initial forest density (probability cell is \"forested\" in initial state)\n",
        "        \"\"\"\n",
        "        self.n = n\n",
        "        self.p = p\n",
        "        self.f = f\n",
        "        # initialize landscape with approx. q proportion of cells OCCUPIED\n",
        "        self.array = np.random.choice([self.OCCUPIED, self.EMPTY], (n, n), p=[q, 1 - q])\n",
        "\n",
        "\n",
        "    def step(self):\n",
        "        \"\"\"Executes one time step, applying the CA rules to regenerate and burn forest.\"\"\"\n",
        "        # TODO: define the rules for the CA.  This is a significant challenge b/c there are 4 rules and they must act independently!\n",
        "        c = correlate2d(self.array, self.kernel, mode='same', boundary='wrap')\n",
        "        fire = (self.array==self.OCCUPIED) & (c>=self.FIRE) #occupied cells with at least one occupied neighbour on fire\n",
        "        empty = (self.array==self.EMPTY)\n",
        "        occupied = (self.array==self.OCCUPIED)\n",
        "        on_fire = (self.array==self.FIRE)\n",
        "        self.array[empty] = np.random.choice([self.OCCUPIED, self.EMPTY], self.array[empty].shape, p=[self.p, 1-self.p]) #An empty cell becomes occupied with probability p\n",
        "        self.array[occupied] = np.random.choice([self.OCCUPIED, self.FIRE], self.array[occupied].shape, p=[1-self.f, self.f]) #A cell with a tree spontaneously burns, with probability f, even if none of its neighbors is on fire\n",
        "        self.array[on_fire] = self.EMPTY #A cell with a burning tree becomes an empty cell in the next time step\n",
        "        self.array[fire] = self.FIRE #A cell with a tree burns if any of its neighbors is on fire\n",
        "\n",
        "\n",
        "    def num_occupied(self):\n",
        "        \"\"\" return the number of cells occupied by forest, includes cells that are currently on fire \"\"\"\n",
        "        occupied = (self.array==self.OCCUPIED)\n",
        "        on_fire = (self.array==self.FIRE)\n",
        "        return len(self.array[occupied]) + len(self.array[on_fire]) # TODO: count the number of forested cells.\n",
        "\n",
        "\n",
        "    def pct_occupied(self):\n",
        "        \"\"\" return the proportion of cells occupied by forest \"\"\"\n",
        "        return self.num_occupied() / self.array.size\n",
        "\n",
        "\n",
        "    def draw(self, axes=None, step=''):\n",
        "        \"\"\"Draws the CA cells using the forest colour map so values are coloured intuitively.\"\"\"\n",
        "        axes = axes or plt.gca()\n",
        "        title = f'Time:{step} Occupied: {round(self.pct_occupied() * 100, 2)}%'\n",
        "        plot_2D_array(self.array, axes=axes, title=title,\n",
        "                      cmap=self.forest_colour_map, vmin=0, vmax=len(self.forest_colour_map.colors))\n",
        "    \n",
        "test = ForestFire(3)\n",
        "test.array = np.array([[0,0,5],\n",
        "                       [1,0,1],\n",
        "                       [0,1,1]])\n",
        "print(test.num_occupied())\n",
        "test.step()\n",
        "print(test.array)\n",
        "test.step()\n",
        "print('\\n')\n",
        "print(test.array)"
      ],
      "metadata": {
        "pycharm": {
          "name": "#%%\n"
        },
        "colab": {
          "base_uri": "https://localhost:8080/"
        },
        "id": "4kz89AuoHS8I",
        "outputId": "5d52e59a-73fd-4f71-c71c-ad6ad2b486c3"
      }
    },
    {
      "cell_type": "markdown",
      "source": [
        "## Ex. 7.2: Animation\n",
        "Create a simple animation (using Animate2D class provided) so we can visualize and verify the system dynamics"
      ],
      "metadata": {
        "collapsed": false,
        "id": "lo8t6AwSHS8I"
      }
    },
    {
      "cell_type": "code",
      "execution_count": 70,
      "outputs": [
        {
          "output_type": "display_data",
          "data": {
            "text/plain": [
              "<Figure size 576x576 with 1 Axes>"
            ],
            "image/png": "[encoded data removed]"
          },
          "metadata": {}
        }
      ],
      "source": [
        "# Ex. 7.2 here\n",
        "#  Suggestions: use a small grid (e.g., 20x20)  and\n",
        "#               a short animation (100 frames) with interval=0.3, to slow it down so you can inspect its behaviour\n",
        "anim_fire = Animation2D(ForestFire(20), 100)\n",
        "anim_fire.animate(interval=0.3)"
      ],
      "metadata": {
        "pycharm": {
          "name": "#%%\n"
        },
        "id": "n-g78y9iHS8J",
        "outputId": "c0a07087-0255-4a45-b09b-2b76e26faab2",
        "colab": {
          "base_uri": "https://localhost:8080/",
          "height": 482
        }
      }
    },
    {
      "cell_type": "markdown",
      "source": [
        "# Question 7.3:\n",
        "In what ways is this model similar to Diffusion and/or Percolation?\n",
        "What kinds of behaviours might we predict from this more complex model based on what we learned from the simpler Diffusion and/or Precolation models?\n",
        "Provide concise (brief, point-form) answers below:\n",
        "\n",
        "## Answers:\n",
        "####Percolation:\n",
        "*   Can only occur in certain cells (the green)\n",
        "*   Cannot occur in the orange cells, as they are not inhabited\n",
        "\n",
        "#### Diffusion:\n",
        "*   Spreads out from a single cell\n",
        "*   The middle cell is 'extinguished' once the fire spreads out\n",
        "\n",
        "\n",
        "\n"
      ],
      "metadata": {
        "collapsed": false,
        "pycharm": {
          "name": "#%% md\n"
        },
        "id": "jgM8JfdFHS8J"
      }
    },
    {
      "cell_type": "markdown",
      "source": [
        "-------------------"
      ],
      "metadata": {
        "collapsed": false,
        "pycharm": {
          "name": "#%% md\n"
        },
        "id": "T1_tERF7HS8J"
      }
    },
    {
      "cell_type": "markdown",
      "source": [
        "# Lab 8:  Temporal Dynamics: Stability and Equilibrium\n",
        "\n",
        "The [dynamics](https://en.wikipedia.org/wiki/System_dynamics) of a system describe how it changes over time.  In mathematics, we typically express dyanamics with differential equations (i.e., expressing change over time).  In computation, we typically use a simulation model, like the one developed in Lab 7.\n",
        "\n",
        "Please watch: [Basic System Dyanmics (15 min)](https://youtu.be/qlRM1JlxfkU) for a quick introduction to these concepts.\n",
        "\n",
        "---------------------\n",
        "In this lab we will explore the patterns our `ForestFire` model traces out over time.  We'll try to determine if the model is stable or chaotic, whether there are any circumstances where it reaches [equilibirum](https://en.wikipedia.org/wiki/Mechanical_equilibrium)"
      ],
      "metadata": {
        "collapsed": false,
        "pycharm": {
          "name": "#%% md\n"
        },
        "id": "W9NbzTIpHS8J"
      }
    },
    {
      "cell_type": "markdown",
      "source": [
        "## Ex. 8.1: Exploratory Analysis\n",
        "Explore the behaviour of the model we defined above.\n",
        " 1. Alter the model's initial conditions - how does the behaviour change depending on the initial proportion of forested vs. empty cells?\n",
        " 2. Alter the regeneration and fire frequency parameters, $p$ and $f$, to see how this changes the model behaviour - how does the behaviour change as you increase or decrease each of these model parameters?"
      ],
      "metadata": {
        "collapsed": false,
        "id": "WbuUNS1wHS8J"
      }
    },
    {
      "cell_type": "code",
      "execution_count": 71,
      "outputs": [
        {
          "output_type": "display_data",
          "data": {
            "text/plain": [
              "<Figure size 576x576 with 1 Axes>"
            ],
            "image/png": "[encoded data removed]"
          },
          "metadata": {}
        }
      ],
      "source": [
        "# Ex. 8.1 here\n",
        "frames = 50\n",
        "exploratory_fire = ForestFire(10, p=0.1, f=0.01, q=0.5)\n",
        "anim_fire = Animation2D(exploratory_fire, frames)\n",
        "anim_fire.animate(interval=0.15)"
      ],
      "metadata": {
        "pycharm": {
          "name": "#%%\n"
        },
        "id": "Dbg9-E4gHS8J",
        "colab": {
          "base_uri": "https://localhost:8080/",
          "height": 482
        },
        "outputId": "70b63fa5-7148-4a76-822f-fcb906715bb9"
      }
    },
    {
      "cell_type": "markdown",
      "source": [
        "1. When the q value (the initial probability of a cell being 'inhabited') is very high (0.8 in my experimentation), the forest is destroyed almost totally right away. The reason for this is because it is more likely that a cell has a neighbour that is on fire, meaining it will be on fire in the next time-step. The reason for this is found in the code, a cell has a 0.1% chance of being randomly set ablaze, but only if there is vegetation in it, meaning the more vegetation, the more chances for that 1 in 1000 chance to occur. The opposite occurs with a low q value, the initial forest stays for longer, allowing it to grow.\n",
        "2. When both the p and f values are very low, the forest becomes very stable, with no growth or shrinkage occuring (almost no vegetation grows, and almost no fire occurs). When they are increased ten fold (p = 0.1, f= 0.01), there appears an almost constant period of both growth and fire, to the point it never settles into a stable state"
      ],
      "metadata": {
        "id": "vq2QgrYY6q4u"
      }
    },
    {
      "cell_type": "markdown",
      "source": [
        "## Ex. 8.2: Steady State\n",
        "Many complex systems never achieve a static [equilibirum](https://en.wikipedia.org/wiki/Mechanical_equilibrium), instead their state fluctuates around a value, called an [\"attractor\"](https://en.wikipedia.org/wiki/Attractor).  A system that is not trending is said to be in [\"steady state\"](https://en.wikipedia.org/wiki/Steady_state).\n",
        "Starting from a random initial condition, run the model until it reaches a \"steady state\" where the number of occupied cells is no longer trending (consistently increasing or decreasing).\n",
        "\n",
        "Design an experimental setup that allows you to detect when the system is in steady state with respect to the number of forested cells.\n",
        "This need not be fancy and need not automate the detection of steady state, so long as it provides some output that allows you to detect how long it takes for the system to settle into an equilibrium or cyclical pattern."
      ],
      "metadata": {
        "collapsed": false,
        "id": "cK9rH7C-HS8K"
      }
    },
    {
      "cell_type": "code",
      "execution_count": 72,
      "outputs": [
        {
          "output_type": "execute_result",
          "data": {
            "text/plain": [
              "0.2888545043478261"
            ]
          },
          "metadata": {},
          "execution_count": 72
        },
        {
          "output_type": "display_data",
          "data": {
            "text/plain": [
              "<Figure size 432x288 with 1 Axes>"
            ],
            "image/png": "[encoded data removed]"
          },
          "metadata": {
            "needs_background": "light"
          }
        }
      ],
      "source": [
        "# Ex. 8.2 here\n",
        "frames = 250\n",
        "s = ForestFire(500, p=0.015, f=0.0015)\n",
        "perc_occupied = []\n",
        "for i in range(frames):\n",
        "  s.step()\n",
        "  perc_occupied.append(s.pct_occupied())\n",
        "\n",
        "plt.plot(range(frames), perc_occupied)\n",
        "np.average(perc_occupied[20:])"
      ],
      "metadata": {
        "pycharm": {
          "name": "#%%\n"
        },
        "id": "fdX8sXfyHS8K",
        "colab": {
          "base_uri": "https://localhost:8080/",
          "height": 282
        },
        "outputId": "3982613f-0762-4233-c27c-41a2c3dcafeb"
      }
    },
    {
      "cell_type": "markdown",
      "source": [
        "### Question 8.3:\n",
        "Starting with a uniform random landscape, $q$ = 0.5, find the steady state proportion of forested cells of this system for 3 different combinations of $p$ and $f$, and the approx. number of time steps required to reach steady state.\n",
        "Fill in the table below with your experimental results:\n",
        "\n",
        "| p  | f   | steady-state | time steps | Cyclical? |\n",
        "|----|-----|--------------|------------|-----------|\n",
        "| 0.01 | 0.001 | Yes        | 200          | Yes         |\n",
        "| 0.1  | 0.01   | Yes            | 35          | Yes         |\n",
        "| 0.015  | 0.0015   | Yes            | 100          | Yes         |\n"
      ],
      "metadata": {
        "collapsed": false,
        "pycharm": {
          "name": "#%% md\n"
        },
        "id": "LoxqYXSeHS8K"
      }
    },
    {
      "cell_type": "markdown",
      "source": [
        "## Ex. 8.4: Stability\n",
        "A system is [\"stable\"](https://en.wikipedia.org/wiki/Ecological_stability) if it returns to its former steady state after a [disturbance](https://en.wikipedia.org/wiki/Disturbance_(ecology))\n",
        "\n",
        "A disturbance in our case might be an extreme fire year or an insect outbreak that changes the forest's susceptibility to fire, or several years of reduced regeneration due to a soil fungus killing seedlings.\n",
        "How could you emulate a disturbance like this in your model?  If you want to modify the model in some way, that's OK, but you may also find ways to emulate a disturbance as an \"external forcing function\".\n",
        "\n",
        "Run your model to steady-state, then emulate a major disturbance (over one or more time steps) to \"perturb\" the system away from its steady state.  Remove the external force and measure how long it takes for the system to return to steady state."
      ],
      "metadata": {
        "collapsed": false,
        "pycharm": {
          "name": "#%% md\n"
        },
        "id": "UV9Tq1f5HS8K"
      }
    },
    {
      "cell_type": "code",
      "execution_count": 73,
      "outputs": [
        {
          "output_type": "display_data",
          "data": {
            "text/plain": [
              "<Figure size 432x288 with 1 Axes>"
            ],
            "image/png": "[encoded data removed]"
          },
          "metadata": {
            "needs_background": "light"
          }
        },
        {
          "output_type": "display_data",
          "data": {
            "text/plain": [
              "<Figure size 432x288 with 1 Axes>"
            ],
            "image/png": "[encoded data removed]"
          },
          "metadata": {
            "needs_background": "light"
          }
        }
      ],
      "source": [
        "# Ex. 8.4 here\n",
        "s = ForestFire(50, p=0.01, f=0.001)\n",
        "perc_occupied = []\n",
        "disaster_years = [122,123,124,125,126]\n",
        "for i in range(frames):\n",
        "  if i in disaster_years:\n",
        "    s.f = 0.1\n",
        "  else:\n",
        "    s.f = 0.001\n",
        "  s.step()\n",
        "  perc_occupied.append(s.pct_occupied())\n",
        "highfire = plt.plot(range(frames), perc_occupied)\n",
        "plt.show()\n",
        "frames = 350\n",
        "t = ForestFire(50, p=0.01, f=0.001)\n",
        "perc_occupied = []\n",
        "for i in range(frames):\n",
        "  if i == frames//3 or i ==2*frames//3:\n",
        "    t.f = 1\n",
        "  else:\n",
        "    t.f = 0.001\n",
        "  t.step()\n",
        "  perc_occupied.append(t.pct_occupied())\n",
        "low_growth = plt.plot(range(frames), perc_occupied)\n",
        "plt.show()"
      ],
      "metadata": {
        "pycharm": {
          "name": "#%%\n"
        },
        "id": "e78lDmwmHS8K",
        "outputId": "f1a38c61-fdf8-4522-fce8-d23e5a8ddc77",
        "colab": {
          "base_uri": "https://localhost:8080/",
          "height": 513
        }
      }
    },
    {
      "cell_type": "markdown",
      "source": [
        "### Question 8.4:\n",
        "Does the model tend to return to the same steady-state, or does the attractor move to a different value?\n",
        "How long does it take for the model to return to steady-state dynamics?\n",
        "Does it appear to matter to these results how large the disturbance is?\n",
        "What does that tell you about the number of \"attractors\" in this system?\n",
        "\n",
        "#### Answers:\n",
        "The models return to about the same steady-state, though there is a slight elevation in both models in the years immedieately after the disaster year(s). It seems to take about 10 years for the simulations to revert back to complete normal. No matter what the size of the disturbance is, as one of the simulations is simulating a forestfire destroying the whole forest, it returs back to its pre-disaster level. "
      ],
      "metadata": {
        "collapsed": false,
        "pycharm": {
          "name": "#%% md\n"
        },
        "id": "VvkWUcRGHS8K"
      }
    },
    {
      "cell_type": "markdown",
      "source": [
        "-----------------"
      ],
      "metadata": {
        "collapsed": false,
        "pycharm": {
          "name": "#%% md\n"
        },
        "id": "Gb4KpO64HS8K"
      }
    },
    {
      "cell_type": "markdown",
      "source": [
        "# Lab 9: Patch Size Distribution\n",
        "\n",
        "The spatial patterns that emerge from this model tends to be landscapes with patches of forested and un-forested land of varying size.  A question naturally arises about this pattern:\n",
        "  * what is the size of patches created by fire?\n",
        "    This will alos tell us something about forest [fragmentation](https://en.wikipedia.org/wiki/Habitat_fragmentation), which impacts wildlife habitat, for example.\n",
        "\n",
        "Notice that rather than a single number, we will get a [distribution](https://en.wikipedia.org/wiki/Probability_distribution) of values for patch sizes.  The shape of this distribution emerges from the system dynamics, and serves as a way to compare our model results with empirical observations of patch-size distributions in real ecosystems.\n",
        "\n",
        "In this lab we will explore the spatial patterns our `ForestFire` model makes.  We'll ask if these patterns have a [heavy-tail distribution](https://en.wikipedia.org/wiki/Heavy-tailed_distribution) and thus exhibit [self-organizing criticality](https://en.wikipedia.org/wiki/Self-organized_criticality)"
      ],
      "metadata": {
        "collapsed": false,
        "pycharm": {
          "name": "#%% md\n"
        },
        "id": "5c7-wx_PHS8K"
      }
    },
    {
      "cell_type": "markdown",
      "source": [
        "### Identifying Contiguous Patches\n",
        "\n",
        "This is a surprisingly challenging problem to solve in the general case given how good our visual system is at identifying them!\n",
        "The idea I had here was to start by giving each forested cell a unique value, then \"grow\" patches by allowing the smallest of these unique values to propagate to neighbouring cells.  Repeat until the propagation is finished.  In the end, all the cells in each contiguous patch have the same, unique identifier.\n",
        "Notice that this is a modified diffusion / percolation algorithm - they are actually useful!"
      ],
      "metadata": {
        "collapsed": false,
        "pycharm": {
          "name": "#%% md\n"
        },
        "id": "sh0pQzRBHS8L"
      }
    },
    {
      "cell_type": "code",
      "execution_count": 74,
      "outputs": [],
      "source": [
        "neighbourhood = np.array([\n",
        "    [0, 1, 0],\n",
        "    [1, 1, 1],\n",
        "    [0, 1, 0],\n",
        "])\n",
        "\n",
        "\n",
        "def min_neighbour(a):\n",
        "    \"\"\" Return the smallest non-zero neighbourhood value or 0 if centre cell is a zero \"\"\"\n",
        "    p = a * neighbourhood\n",
        "    centre = tuple(d // 2 for d in a.shape)\n",
        "    return np.min(p[p > 0]) if a[centre] else 0\n",
        "\n",
        "\n",
        "def consolidate(array):\n",
        "    \"\"\" return copy of array with adjacent cells consolidated into a patch with the lowest value among occupied neighbours \"\"\"\n",
        "    rows, cols = array.shape\n",
        "    k = neighbourhood.shape[0]\n",
        "    array = np.pad(array, 1, 'constant')\n",
        "    return np.array([\n",
        "        [min_neighbour(array[row:row + k, col:col + k]) for col in range(cols)]\n",
        "        for row in range(rows)\n",
        "    ])\n",
        "\n",
        "\n",
        "def patchify(array, patch_category):\n",
        "    \"\"\" Return an array with each contiguous patch identified by a unique integer\n",
        "    array:  array of int categorical values\n",
        "    category: the category value to identify patches for\n",
        "\n",
        "    return: array of same shape with a unique value identifying cells in each patch and zeros elsewhere\n",
        "    \"\"\"\n",
        "    patches = np.zeros(array.shape, dtype=np.uint)\n",
        "    # assign each cell that falls in a patch a unique number, 1 .. N\n",
        "    patches[array == patch_category] = range(1, len(array[array == patch_category]) + 1)\n",
        "\n",
        "    patches_growing = np.array([True, ])\n",
        "    while np.any(patches_growing):\n",
        "        prev_patches = patches\n",
        "        patches = consolidate(prev_patches)\n",
        "        patches_growing = patches != prev_patches  # patches are growning until consolidate algorithm stabilizes.\n",
        "\n",
        "    return patches"
      ],
      "metadata": {
        "pycharm": {
          "name": "#%%\n"
        },
        "id": "aXFY9-jDHS8L"
      }
    },
    {
      "cell_type": "markdown",
      "source": [
        "#A Frequency Distribution Class\n",
        "You might notice some code duplicated in each of the experiments above to take convert the experimental observations, compute the frequency distribution, and plot it. Let's package that logic up for re-use.\n",
        "\n",
        "Note: the textbook author published a more full-featured (and efficient!) version of this class called empiricaldist on PyPi"
      ],
      "metadata": {
        "id": "Xd8tb_KkNchP"
      }
    },
    {
      "cell_type": "code",
      "source": [
        "class FrequencyDist:\n",
        "    \"\"\" Represents the Frequency Distribution for a set of observations on a discrete random variable \"\"\"\n",
        "    def __init__(self, observations, labels: dict=None, title='Trials'):\n",
        "        \"\"\" observations is a 1D sequence of empirical data, labels optionally relabel observation values \"\"\"\n",
        "        self.n_obs = len(observations)\n",
        "        self.title = title\n",
        "        # sort categories in same order as labels dict, if provided\n",
        "        key = (lambda v: list(labels.keys()).index(v)) if labels else None\n",
        "        self.categories = sorted(set(observations), key=key)\n",
        "        self.n_cat = len(self.categories)\n",
        "\n",
        "        # frequencies and matching category labels\n",
        "        self.counts = np.array([sum(1 for sample in observations if sample == category) for category in self.categories])\n",
        "        self.proportions = self.counts/self.n_obs\n",
        "        self.category_labels = tuple(labels[c] for c in self.categories) if labels else self.categories\n",
        "\n",
        "    def get_frequencies(self):\n",
        "        \"\"\" Return the frequency count of each category as a dict \"\"\"\n",
        "        return {\n",
        "            cat: freq for cat, freq in zip(self.category_labels, self.counts)\n",
        "        }\n",
        "\n",
        "    def print_frequencies(self):\n",
        "        \"\"\" Print the frequency of each category as a fraction of observations \"\"\"\n",
        "        print(f'{self.title}:', [f'p({o})=\", {n}/{self.n_obs}' for o, n in self.get_frequencies().items()] )\n",
        "\n",
        "    def bar(self, axes=None, **options):\n",
        "        \"\"\" Plot distribution as a bar chart. \"\"\"\n",
        "        axes = axes or plt.gca()  # If no axes are provided, draw on current axes\n",
        "        axes.set(**options)\n",
        "        axes.set_title(f'Frequency distribution for {self.n_obs} {self.title}')\n",
        "        axes.bar(self.category_labels, self.proportions)\n",
        "\n",
        "    def plot(self, axes=None, **options):\n",
        "        \"\"\" Plot distribution as a line graph. \"\"\"\n",
        "        axes = axes or plt.gca()  # If no axes are provided, draw on current axes\n",
        "        axes.set(**options)\n",
        "        axes.set_title(f'Frequency distribution for {self.n_obs} {self.title}')\n",
        "        axes.plot(self.categories, self.proportions)"
      ],
      "metadata": {
        "id": "SFBf_zCNNZmw"
      },
      "execution_count": 75,
      "outputs": []
    },
    {
      "cell_type": "markdown",
      "source": [
        "## Ex. 9.1 Patch Size Distribution\n",
        "\n",
        "Run your model to steady-state, and `patchify` the model state.\n",
        "You might want to plot these beside each other to verify that `patchify` is working as expected.\n",
        "\n",
        "With a unique value assigned to each patch, we can tally up the size of each patch simply by counting the number of cells for each unique value.\n",
        "*Tip*: use [numpy.unique](https://numpy.org/doc/stable/reference/generated/numpy.unique.html), with `return_counts=True`, which does exactly the job we want.\n",
        "\n",
        "Once you have an array of patch-size counts, create a histogram to display the distribution of patch sizes.\n",
        "You could feed the raw patch-size count data to [pyplot.hist](https://matplotlib.org/stable/api/_as_gen/matplotlib.pyplot.hist.html), but you'll get a much nicer graph if you tally the number of patches in each size class yourself and use [pyplot.bar](https://matplotlib.org/stable/api/_as_gen/matplotlib.pyplot.bar.html) to do the plotting.\n",
        "*Tip*: `np.unique` will also tally up the number of patches in each size class from the patch-size array!"
      ],
      "metadata": {
        "collapsed": false,
        "pycharm": {
          "name": "#%% md\n"
        },
        "id": "gLx7BlBsHS8L"
      }
    },
    {
      "cell_type": "code",
      "execution_count": 76,
      "outputs": [
        {
          "output_type": "execute_result",
          "data": {
            "text/plain": [
              "(array([1.000e+00, 2.000e+00, 4.000e+00, ..., 2.870e+03, 2.872e+03,\n",
              "        2.874e+03]), array([1, 2, 1, ..., 1, 2, 1]))"
            ]
          },
          "metadata": {},
          "execution_count": 76
        }
      ],
      "source": [
        "# Ex. 9.1 here\n",
        "steady_state = ForestFire(100)\n",
        "for i in range(200):\n",
        "  steady_state.step()\n",
        "# steady_state.draw()\n",
        "# print(steady_state.array)\n",
        "patched = patchify(steady_state.array, steady_state.OCCUPIED)\n",
        "# print(patched)\n",
        "u_patched = np.unique(patched[patched>0], return_counts=True)\n",
        "u_patched\n",
        "# steady_state.draw()"
      ],
      "metadata": {
        "pycharm": {
          "name": "#%%\n"
        },
        "id": "z2PudD1yHS8L",
        "colab": {
          "base_uri": "https://localhost:8080/"
        },
        "outputId": "456b8bb9-07dc-4213-fb53-a5bd40f0631d"
      }
    },
    {
      "cell_type": "code",
      "source": [
        "print(u_patched)\n",
        "u_patched = u_patched\n",
        "len(u_patched[0])"
      ],
      "metadata": {
        "id": "qlwubGezPAKG",
        "outputId": "9dc849c3-0b95-47ee-f5e9-c47fa951d58d",
        "colab": {
          "base_uri": "https://localhost:8080/"
        }
      },
      "execution_count": 77,
      "outputs": [
        {
          "output_type": "stream",
          "name": "stdout",
          "text": [
            "(array([1.000e+00, 2.000e+00, 4.000e+00, ..., 2.870e+03, 2.872e+03,\n",
            "       2.874e+03]), array([1, 2, 1, ..., 1, 2, 1]))\n"
          ]
        },
        {
          "output_type": "execute_result",
          "data": {
            "text/plain": [
              "1122"
            ]
          },
          "metadata": {},
          "execution_count": 77
        }
      ]
    },
    {
      "cell_type": "code",
      "source": [
        "dist = FrequencyDist(u_patched[1])\n",
        "dist.bar()"
      ],
      "metadata": {
        "colab": {
          "base_uri": "https://localhost:8080/",
          "height": 281
        },
        "id": "blmxau0iDuRl",
        "outputId": "8fd4b381-47fe-44b2-ae17-0f9100730aad"
      },
      "execution_count": 78,
      "outputs": [
        {
          "output_type": "display_data",
          "data": {
            "text/plain": [
              "<Figure size 432x288 with 1 Axes>"
            ],
            "image/png": "[encoded data removed]"
          },
          "metadata": {
            "needs_background": "light"
          }
        }
      ]
    },
    {
      "cell_type": "markdown",
      "source": [
        "## Ex. 9.2 Heavy-tailed distribution?\n",
        "The textbook author published a small Python package that encapsulates some of the work we did above to compute the \"empirical distribution\" from an array of data.  In paricular, his `PMF()` ([Probability Mass Function](https://en.wikipedia.org/wiki/Probability_mass_function)) function converts an array of unique values into an emirical distribution suitable for plotting\n",
        "\n",
        "You can see how this function is used in Ch. 10.5.\n",
        "And/Or check how it is used in the [chap10.ipynb notebook](https://github.com/pearcej/complex-colab/blob/master/notebooks/chap10.ipynb) in the complex-colab repo.\n",
        "And/Or look at the [API Documentation](https://nbviewer.org/github/AllenDowney/empiricaldist/blob/master/empiricaldist/dist_demo.ipynb)"
      ],
      "metadata": {
        "collapsed": false,
        "pycharm": {
          "name": "#%% md\n"
        },
        "id": "M_5zPzUvHS8L"
      }
    },
    {
      "cell_type": "markdown",
      "source": [
        "Create a plot of the patch size distribution, both on a linear and log-log scale, similar to the example in Ch. 10.5"
      ],
      "metadata": {
        "collapsed": false,
        "pycharm": {
          "name": "#%% md\n"
        },
        "id": "OcfTfdetHS8L"
      }
    },
    {
      "cell_type": "code",
      "execution_count": 79,
      "outputs": [
        {
          "output_type": "execute_result",
          "data": {
            "text/plain": [
              "<Axes: >"
            ]
          },
          "metadata": {},
          "execution_count": 79
        },
        {
          "output_type": "display_data",
          "data": {
            "text/plain": [
              "<Figure size 720x360 with 2 Axes>"
            ],
            "image/png": "[encoded data removed]"
          },
          "metadata": {
            "needs_background": "light"
          }
        }
      ],
      "source": [
        "# Ex. 9.2 here\n",
        "T,S = u_patched\n",
        "T = T[T>1]\n",
        "S = S[S>0]\n",
        "pmfT = Pmf(T)\n",
        "pmfS = Pmf(S)\n",
        "\n",
        "plt.figure(figsize=(10, 5))\n",
        "\n",
        "plt.subplot(1, 2, 1)\n",
        "pmfT.plot(label='T')\n",
        "\n",
        "plt.subplot(1, 2, 2)\n",
        "pmfS.plot(label='S')"
      ],
      "metadata": {
        "pycharm": {
          "name": "#%%\n"
        },
        "id": "O2SmTJpkHS8L",
        "colab": {
          "base_uri": "https://localhost:8080/",
          "height": 339
        },
        "outputId": "a3869109-6bc3-4b73-fd5d-dc8777050106"
      }
    },
    {
      "cell_type": "code",
      "source": [
        "def slope(xs, ys):\n",
        "    \"\"\" Return slope in log-space \"\"\"\n",
        "    return np.diff(np.log(ys)) / np.diff(np.log(xs))\n",
        "\n",
        "def plot_negative_one_slope(dist, axes=None):\n",
        "    \"\"\" Plot a line with slope -1 from the first point in the dist \"\"\"\n",
        "    axes = axes or plt.gca()\n",
        "    xs = [dist.categories[0], dist.categories[-1]]\n",
        "    ys = [dist.proportions[0], 0]\n",
        "    ys[1] = ys[0] * np.exp(-1*np.log(xs[1]/xs[0]))  # compute y1 so line has a slope exactly -1 in log space\n",
        "    # assert slope(xs, ys) == -1                      # double check that line has slope -1 in log space\n",
        "    print(slope(xs,ys))\n",
        "    axes.plot(xs, ys, color='gray', alpha=0.3, linewidth=4)\n",
        "\n",
        "# dist is a FrequencyDistribution object\n",
        "_, ax = plt.subplots(figsize=(6, 4))\n",
        "dist.plot(ax, xscale='log', yscale='log')\n",
        "plot_negative_one_slope(dist, ax)"
      ],
      "metadata": {
        "id": "w3nvBX4NaU85",
        "outputId": "2ab2aa86-80cd-493e-c5e6-0bcb72f726cc",
        "colab": {
          "base_uri": "https://localhost:8080/",
          "height": 302
        }
      },
      "execution_count": 80,
      "outputs": [
        {
          "output_type": "stream",
          "name": "stdout",
          "text": [
            "[-1.]\n"
          ]
        },
        {
          "output_type": "display_data",
          "data": {
            "text/plain": [
              "<Figure size 432x288 with 1 Axes>"
            ],
            "image/png": "[encoded data removed]"
          },
          "metadata": {
            "needs_background": "light"
          }
        }
      ]
    },
    {
      "cell_type": "markdown",
      "source": [
        "### Question 9.3\n",
        "\n",
        "Does the patch size distribution appear to follow the power law?\n",
        "Does it show any signs of being a \"heavy-tailed\" distribution?\n",
        "If it does, what might the implications be for our understanding of the dynamics of real forest ecosystems?\n",
        "\n",
        "#### Answers\n",
        "\n",
        "As you can see in the graph of 9.1, the frequency distribution graph follows the power law, as it tails off drastically after the first 5 or so bars of the graph. In additon to following the power law, there is no \"heavy-tailed distribution\", meaning that there is not sudden increase twoards the end of the graph, instead it slowly heads towards zero."
      ],
      "metadata": {
        "collapsed": false,
        "pycharm": {
          "name": "#%% md\n"
        },
        "id": "f_4Rgb7bHS8M"
      }
    },
    {
      "cell_type": "markdown",
      "source": [
        "---------------------"
      ],
      "metadata": {
        "collapsed": false,
        "pycharm": {
          "name": "#%% md\n"
        },
        "id": "MNc3C462HS8M"
      }
    },
    {
      "cell_type": "markdown",
      "source": [
        "# Lab 10:  Fractal Dimension\n",
        "\n",
        "I highly recommend you start with this [**_2Blue1Brown Video_**](https://youtu.be/gB9n2gHsHN4), if you've not yet seen it.\n",
        "\n",
        "-----------------\n",
        "In this lab we will calculate the [fractal dimension](https://en.wikipedia.org/wiki/Fractal_dimension) of the forested areas thatour `ForestFire` model generates."
      ],
      "metadata": {
        "collapsed": false,
        "pycharm": {
          "name": "#%% md\n"
        },
        "id": "BC-Ph-96HS8M"
      }
    },
    {
      "cell_type": "markdown",
      "source": [
        "## Ex. 10.1 Box Counting\n",
        "\n",
        "We'll use the [box counting](https://en.wikipedia.org/wiki/Box_counting) algorithm, which, in essence, estimates how the measured amount of forested area scales at different sized counting grids (2D rulers).  You are welcome to pilfer the `box_count` code developed for measuring fractal dimension in the **Precolation** model.\n",
        "\n",
        "Run your model forward to steady-state, and use the box counting algorithm to estimate how the pattern of forested patches scales.  The result here show how the count of \"forested\" cells scales with the size of the \"box\" (grid cell) used to do the counting.\n",
        "Just looking at the results, do you think this is closer to a linear or a squared scaling factor?"
      ],
      "metadata": {
        "collapsed": false,
        "id": "wKIKqMvwHS8M"
      }
    },
    {
      "cell_type": "code",
      "execution_count": 81,
      "outputs": [
        {
          "output_type": "stream",
          "name": "stdout",
          "text": [
            "Occupied cell counts by window calibre: {5: 399, 10: 100, 15: 36, 20: 25, 25: 16, 30: 9, 35: 4, 40: 4, 45: 4, 50: 4}\n"
          ]
        },
        {
          "output_type": "execute_result",
          "data": {
            "text/plain": [
              "<BarContainer object of 10 artists>"
            ]
          },
          "metadata": {},
          "execution_count": 81
        },
        {
          "output_type": "display_data",
          "data": {
            "text/plain": [
              "<Figure size 432x288 with 1 Axes>"
            ],
            "image/png": "[encoded data removed]"
          },
          "metadata": {
            "needs_background": "light"
          }
        }
      ],
      "source": [
        "# Ex. 10.1 here\n",
        "def box_count(array, calibre, target=ForestFire.OCCUPIED):\n",
        "    \"\"\"\n",
        "    Tile the 2D array with a grid of square windows of given calibre,\n",
        "     return number of windows in the grid that contain at least one target cell\n",
        "    \"\"\"\n",
        "    rows,cols = array.shape\n",
        "    grid = (array[i:i+calibre, j:j+calibre] for i in range(0, rows-calibre+1, calibre) for j in range(0, cols-calibre+1, calibre))\n",
        "    return sum(target in window for window in grid)\n",
        "\n",
        "calibres = np.array([5, 10, 15, 20, 25, 30, 35, 40, 45, 50])\n",
        "ss_box_counts = [box_count(steady_state.array, calibre) for calibre in calibres] # I already had a Forest Fire simulation ran to steady state, so i called that here instead of creating another one\n",
        "print(f'Occupied cell counts by window calibre: {dict((cal, cnt) for cal,cnt in zip(calibres, ss_box_counts))}')\n",
        "plt.bar(calibres, ss_box_counts)"
      ],
      "metadata": {
        "pycharm": {
          "name": "#%%\n"
        },
        "id": "MB2sNQPKHS8M",
        "colab": {
          "base_uri": "https://localhost:8080/",
          "height": 300
        },
        "outputId": "9a7eb0e7-1249-46a9-fde4-236c2a7f247e"
      }
    },
    {
      "cell_type": "markdown",
      "source": [
        "## Ex. 10.2  Estimate Fractal Dimension\n",
        "\n",
        "If we plot the count of forested cells versus the size of the \"box\" on a log-log scale, the slope estimates the fractal dimension.\n",
        "\n",
        "Estimate the slope of your box-count data using a log-log linear regression (again, feel free to pilfer the `log_slope` function).\n",
        "Plot the graph that shows the box-count data in relation to a simple linear and square scaling relation (again, pilfer code as needed)."
      ],
      "metadata": {
        "collapsed": false,
        "id": "4PGlAxD5HS8M"
      }
    },
    {
      "cell_type": "code",
      "execution_count": 88,
      "outputs": [
        {
          "output_type": "display_data",
          "data": {
            "text/plain": [
              "<Figure size 432x288 with 1 Axes>"
            ],
            "image/png": "[encoded data removed]"
          },
          "metadata": {
            "needs_background": "light"
          }
        }
      ],
      "source": [
        "# Ex. 10.2 here\n",
        "def log_slope(xs, ys):\n",
        "    \"\"\" Estimate the slope of log-space plot of data points using linear regression \"\"\"\n",
        "    slope,*_ = linregress(np.log(xs), np.log(ys))\n",
        "    return slope\n",
        "\n",
        "def plot_scaling(perc, calibres):\n",
        "    \"\"\"\n",
        "    Plot how the number of wet cells in the given perc model scales\n",
        "    Compare this plot to 1D (y = x) and 2D (y = x**2) scaling factors\n",
        "    \"\"\"\n",
        "    # calibres = calibres or np.array(range(2, perc.n//2, 10))\n",
        "    wet_counts = np.array([box_count(perc.array, calibre) for calibre in calibres])\n",
        "    xs = perc.n / calibres  # xs are the number of grid squares so they scale in same direction as counts\n",
        "\n",
        "    line_options = dict(linestyle='dashed', color='gray', alpha=0.7)\n",
        "    plt.plot(xs, xs**2, label='2-D', **line_options)              # y =  x**2\n",
        "    plt.plot(xs, wet_counts, '.', label=f'wet cells')             # y = 1 / wet cell count for window size x\n",
        "    plt.plot(xs, xs, label='1-D', **line_options)                 # y = x\n",
        "\n",
        "    title = f'Fractal Dimension: {log_slope(xs, wet_counts):0.2f}'\n",
        "    plt.gca().set(title=title, xlabel='Grid Size', ylabel='# Wet Cells', xscale='log', yscale='log')\n",
        "    plt.legend()\n",
        "\n",
        "\n",
        "\n",
        "log_slope(steady_state.n/calibres, ss_box_counts)\n",
        "plot_scaling(steady_state, calibres=calibres)"
      ],
      "metadata": {
        "pycharm": {
          "name": "#%%\n"
        },
        "id": "q06ghLqYHS8M",
        "colab": {
          "base_uri": "https://localhost:8080/",
          "height": 299
        },
        "outputId": "bb773f84-d065-40ac-86ed-9535ac7f8863"
      }
    },
    {
      "cell_type": "markdown",
      "source": [
        "## Ex. 10.3  Scaling Experiment\n",
        "\n",
        "In our study of Percolation patterns, we plotted the scaling factor and fractal dimension to visualize how the pattern scales compared to simple linear and square scaling.  We set up an experiment to explore how fractal dimension changed for different model paraemter values, and to idenify a critical values where [phase transitions](https://en.wikipedia.org/wiki/Phase_transition) occur.\n",
        "\n",
        "Repeat these experiments for the `ForestFire` model.  Again, you may adapt the code developed for Percolation."
      ],
      "metadata": {
        "collapsed": false,
        "pycharm": {
          "name": "#%% md\n"
        },
        "id": "R0nKNPjCHS8M"
      }
    },
    {
      "cell_type": "code",
      "execution_count": 99,
      "outputs": [
        {
          "output_type": "display_data",
          "data": {
            "text/plain": [
              "<Figure size 1296x432 with 2 Axes>"
            ],
            "image/png": "[encoded data removed]"
          },
          "metadata": {
            "needs_background": "light"
          }
        }
      ],
      "source": [
        "# Ex. 10.3 here\n",
        "def scaling_experiment(n, q):\n",
        "    \"\"\" Run an experiment to calculate and plot the fractal dimension of Percolation(n, q) \"\"\"\n",
        "    perc = ForestFire(n, q=q)\n",
        "    for i in range(200):\n",
        "      perc.step()\n",
        "\n",
        "    plt.subplots(1, 2, figsize=(18, 6))\n",
        "    plt.subplot(1, 2, 1)\n",
        "    perc.draw()\n",
        "    plt.subplot(1, 2, 2)\n",
        "    plot_scaling(perc, calibres)\n",
        "n=150\n",
        "q=0.6\n",
        "scaling_experiment(n,q)"
      ],
      "metadata": {
        "pycharm": {
          "name": "#%%\n"
        },
        "id": "MEruydjRHS8M",
        "colab": {
          "base_uri": "https://localhost:8080/",
          "height": 408
        },
        "outputId": "8514f112-c31c-4472-a56f-3cc4b8ec9ec7"
      }
    },
    {
      "cell_type": "code",
      "source": [
        "def fractal_dimensions_experiment(qs, n=100):\n",
        "    \"\"\"\n",
        "    Plot how the fractal dimension of percolation clusters change for different values of q\n",
        "    \"\"\"\n",
        "    calibres = np.array(range(5, n//2, 5))\n",
        "    fractal_dimensions = []\n",
        "    for p,f in qs:\n",
        "        perc = ForestFire(n, p = p, f=f)\n",
        "        for i in range(200):\n",
        "          perc.step()\n",
        "        wet_counts = np.array([box_count(perc.array, calibre) for calibre in calibres])\n",
        "        xs = perc.n / calibres  # xs are the number of grid squares so counts scale in same direction\n",
        "\n",
        "        fractal_dimensions.append( log_slope(xs, wet_counts) )\n",
        "    return fractal_dimensions\n",
        "\n",
        "n = 100\n",
        "p_and_f = [(0.01,0.001), (0.1,0.01), (0.015, 0.0015), (0.02,0.002)] # separate into two for graphing?\n",
        "dims = fractal_dimensions_experiment(p_and_f, n)\n",
        "title = f'Percolation Cluster Fractal Dimension'\n",
        "plt.gca().set(title=title, xlabel='q', ylabel='Df')\n",
        "plt.plot(p_and_f, dims)\n",
        "plt.show()"
      ],
      "metadata": {
        "id": "wVaxAdmoM4sW",
        "outputId": "7a707521-31dd-4481-9f86-4975be6e4899",
        "colab": {
          "base_uri": "https://localhost:8080/",
          "height": 295
        }
      },
      "execution_count": 106,
      "outputs": [
        {
          "output_type": "display_data",
          "data": {
            "text/plain": [
              "<Figure size 432x288 with 1 Axes>"
            ],
            "image/png": "[encoded data removed]"
          },
          "metadata": {
            "needs_background": "light"
          }
        }
      ]
    },
    {
      "cell_type": "markdown",
      "source": [
        "### Question 10.4:\n",
        "How does the fractal dimension change for different values of $p$ and $f$?\n",
        "Does there appear to be a critical value where the fractal dimension goes through a phase change, like we saw for Percolation?\n",
        "What conclusions might your draw about the complexity of forest edges in real forest ecosystems?  How does this compare the the man-made edges that typically result from industrial logging?\n",
        "\n",
        "#### Answers:"
      ],
      "metadata": {
        "collapsed": false,
        "id": "IA1ofWVJHS8M"
      }
    }
  ],
  "metadata": {
    "kernelspec": {
      "display_name": "Python 3",
      "language": "python",
      "name": "python3"
    },
    "language_info": {
      "codemirror_mode": {
        "name": "ipython",
        "version": 2
      },
      "file_extension": ".py",
      "mimetype": "text/x-python",
      "name": "python",
      "nbconvert_exporter": "python",
      "pygments_lexer": "ipython2",
      "version": "2.7.6"
    },
    "colab": {
      "provenance": []
    }
  },
  "nbformat": 4,
  "nbformat_minor": 0
}