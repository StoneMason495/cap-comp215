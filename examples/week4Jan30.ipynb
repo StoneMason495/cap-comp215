{
  "nbformat": 4,
  "nbformat_minor": 0,
  "metadata": {
    "colab": {
      "name": "week4.ipynb",
      "provenance": [],
      "include_colab_link": true
    },
    "kernelspec": {
      "name": "python3",
      "display_name": "Python 3"
    },
    "language_info": {
      "name": "python"
    }
  },
  "cells": [
    {
      "cell_type": "markdown",
      "metadata": {
        "id": "view-in-github",
        "colab_type": "text"
      },
      "source": [
        "<a href=\"https://colab.research.google.com/github/StoneMason495/cap-comp215/blob/main/examples/week4Jan30.ipynb\" target=\"_parent\"><img src=\"https://colab.research.google.com/assets/colab-badge.svg\" alt=\"Open In Colab\"/></a>"
      ]
    },
    {
      "cell_type": "markdown",
      "source": [
        "# Genertors and Random Numbers\n",
        "This is our week 4 examples notebook and will be available on Github from the powderflask/cap-comp215 repository.\n",
        "\n",
        "As usual, the first code block just imports the modules we will use."
      ],
      "metadata": {
        "id": "WBMC0GrjNRTM"
      }
    },
    {
      "cell_type": "code",
      "execution_count": 2,
      "outputs": [],
      "source": [
        "import random\n",
        "import matplotlib.pyplot as plt\n",
        "from pprint import pprint"
      ],
      "metadata": {
        "pycharm": {
          "name": "#%%\n"
        },
        "id": "8SuTMiUjAvps"
      }
    },
    {
      "cell_type": "markdown",
      "source": [
        "## Examples: generator expressions"
      ],
      "metadata": {
        "collapsed": false,
        "id": "5DpzonOmAvpz"
      }
    },
    {
      "cell_type": "code",
      "execution_count": 3,
      "outputs": [
        {
          "output_type": "stream",
          "name": "stdout",
          "text": [
            "<generator object <genexpr> at 0x7fde17de6a50>\n",
            "[(0, 1, 2), (1, 2, 3), (2, 3, 4), (3, 4, 5), (4, 5, 6), (5, 6, 7), (6, 7, 8), (7, 8, 9), (8, 9, 10)]\n",
            "[]\n"
          ]
        }
      ],
      "source": [
        "neighbours = ((i-1, i, i+1) for i in range(1, 10))\n",
        "print(neighbours)\n",
        "# We can turn a generator into a list to look at all its elements (though this somewhat defeats the purpose!)\n",
        "print(list(neighbours))\n",
        "'''Once the \"stream\" has flowed past, it is empty - there is no way to \"replenish\" it.'''\n",
        "print(list(neighbours))\n"
      ],
      "metadata": {
        "pycharm": {
          "name": "#%%\n"
        },
        "id": "0JI20lj0Avp0",
        "outputId": "ea8e0cdc-e179-4214-e353-1cdd8ebfb3b3",
        "colab": {
          "base_uri": "https://localhost:8080/"
        }
      }
    },
    {
      "cell_type": "code",
      "source": [
        "def generate_neighbours():\n",
        "  i = 1\n",
        "  while True:\n",
        "    yield (i-1, i, i+1) #using yield instead of return makes this function a generator\n",
        "    i = i+1\n",
        "\n",
        "neighbours2 = generate_neighbours()\n",
        "print(neighbours2)\n",
        "for el in range(20):\n",
        "  print(next(neighbours2))\n",
        "# print(list(neighbours2))\n",
        "# print(list(neighbours2))"
      ],
      "metadata": {
        "id": "Yx0vTWxpCyyw",
        "outputId": "338954dd-45f0-4927-b4fe-1771c38167eb",
        "colab": {
          "base_uri": "https://localhost:8080/"
        }
      },
      "execution_count": 4,
      "outputs": [
        {
          "output_type": "stream",
          "name": "stdout",
          "text": [
            "<generator object generate_neighbours at 0x7fde17de66d0>\n",
            "(0, 1, 2)\n",
            "(1, 2, 3)\n",
            "(2, 3, 4)\n",
            "(3, 4, 5)\n",
            "(4, 5, 6)\n",
            "(5, 6, 7)\n",
            "(6, 7, 8)\n",
            "(7, 8, 9)\n",
            "(8, 9, 10)\n",
            "(9, 10, 11)\n",
            "(10, 11, 12)\n",
            "(11, 12, 13)\n",
            "(12, 13, 14)\n",
            "(13, 14, 15)\n",
            "(14, 15, 16)\n",
            "(15, 16, 17)\n",
            "(16, 17, 18)\n",
            "(17, 18, 19)\n",
            "(18, 19, 20)\n",
            "(19, 20, 21)\n"
          ]
        }
      ]
    },
    {
      "cell_type": "markdown",
      "source": [
        "## Pseudo-Random Numbers"
      ],
      "metadata": {
        "collapsed": false,
        "id": "CVQCRs5dAvp2"
      }
    },
    {
      "cell_type": "code",
      "source": [
        "def rand2(seed=4):\n",
        "  while True:\n",
        "    seed = seed//10 + 7*(seed%10)\n",
        "    yield seed\n",
        "\n",
        "rand = rand2(seed=random.randint(1,99))\n",
        "xs = [next(rand) for i in range(10000)]\n",
        "ys = [next(rand) for i in range(10000)]\n",
        "plt.scatter(xs, ys)"
      ],
      "metadata": {
        "id": "XQiDUj15MuVd",
        "outputId": "f9610cd0-6091-486a-d2d9-8a3fa73089fb",
        "colab": {
          "base_uri": "https://localhost:8080/",
          "height": 282
        }
      },
      "execution_count": 30,
      "outputs": [
        {
          "output_type": "execute_result",
          "data": {
            "text/plain": [
              "<matplotlib.collections.PathCollection at 0x7fde12b02ac0>"
            ]
          },
          "metadata": {},
          "execution_count": 30
        },
        {
          "output_type": "display_data",
          "data": {
            "text/plain": [
              "<Figure size 432x288 with 1 Axes>"
            ],
            "image/png": "[encoded data removed]"
          },
          "metadata": {
            "needs_background": "light"
          }
        }
      ]
    },
    {
      "cell_type": "code",
      "execution_count": 6,
      "outputs": [
        {
          "output_type": "execute_result",
          "data": {
            "text/plain": [
              "[0.6752700755406216,\n",
              " 0.9839216643497811,\n",
              " 0.3229941247755881,\n",
              " 0.7476070463216241,\n",
              " 0.5954714644730391,\n",
              " 0.698250830299538,\n",
              " 0.5171792419289213,\n",
              " 0.5170462788954646,\n",
              " 0.4433246518213845,\n",
              " 0.9306131524606689]"
            ]
          },
          "metadata": {},
          "execution_count": 6
        }
      ],
      "source": [
        "# A list of n random numbers - again we are turning a \"generator\" in to a list\n",
        "n = 10\n",
        "[random.random() for i in range(n)]"
      ],
      "metadata": {
        "pycharm": {
          "name": "#%%\n"
        },
        "id": "WUFDxSwQAvp3",
        "outputId": "e4157c7b-cf82-4374-c4b3-73d480a2b95f",
        "colab": {
          "base_uri": "https://localhost:8080/"
        }
      }
    },
    {
      "cell_type": "code",
      "execution_count": 35,
      "outputs": [
        {
          "output_type": "execute_result",
          "data": {
            "text/plain": [
              "<matplotlib.axes._subplots.AxesSubplot at 0x7fde12a8ba90>"
            ]
          },
          "metadata": {},
          "execution_count": 35
        },
        {
          "output_type": "display_data",
          "data": {
            "text/plain": [
              "<Figure size 432x288 with 1 Axes>"
            ],
            "image/png": "[encoded data removed]"
          },
          "metadata": {
            "needs_background": "light"
          }
        }
      ],
      "source": [
        "# Scatter plot of random (x,y) coordinates\n",
        "n = 1000\n",
        "fig, ax = plt.subplots()\n",
        "ax.scatter([random.random() for i in range(n)], [random.random() for i in range(n)])\n",
        "ax"
      ],
      "metadata": {
        "pycharm": {
          "name": "#%%\n"
        },
        "id": "MYYB3Jj5Avp4",
        "outputId": "f6f35c36-50c7-451f-ec3f-54bd1d23d5f8",
        "colab": {
          "base_uri": "https://localhost:8080/",
          "height": 282
        }
      }
    },
    {
      "cell_type": "markdown",
      "source": [
        "## Chaotic Feedback\n",
        "\n",
        " * some mathematical functions produce chaotic patterns when you feed their output back in as the next input."
      ],
      "metadata": {
        "collapsed": false,
        "id": "O5gOo755Avp5"
      }
    },
    {
      "cell_type": "code",
      "execution_count": 39,
      "outputs": [
        {
          "output_type": "execute_result",
          "data": {
            "text/plain": [
              "[13, 22, 16, 43, 25, 37, 52, 19, 64, 34, 31, 10, 1, 7, 49, 67, 55, 40, 4, 28]"
            ]
          },
          "metadata": {},
          "execution_count": 39
        }
      ],
      "source": [
        "import time\n",
        "\n",
        "class TwoDigitRand:\n",
        "    \"\"\" demonstrates 'chaotic feedback' algorithm - not crypographic quality randomness!! \"\"\"\n",
        "    def __init__(self, seed=None):\n",
        "        seed = seed or int(time.time()*10**3)  # clock time in milli-seconds\n",
        "        self.seed = seed % 100  # 2-digit only!\n",
        "\n",
        "    def rand(self):\n",
        "        \"\"\" chaotic feedback algorithm - the last output is used as input to compute the next one \"\"\"\n",
        "        self.seed = self.seed//10 + 7*(self.seed%10)\n",
        "        return self.seed\n",
        "\n",
        "\n",
        "r = TwoDigitRand()\n",
        "[r.rand() for i in range(20)]"
      ],
      "metadata": {
        "pycharm": {
          "name": "#%%\n"
        },
        "id": "P2Vd9S_qAvp5",
        "outputId": "87733af9-6f7a-4879-f1f7-34b55b0ba95b",
        "colab": {
          "base_uri": "https://localhost:8080/"
        }
      }
    },
    {
      "cell_type": "code",
      "execution_count": 9,
      "outputs": [
        {
          "output_type": "stream",
          "name": "stdout",
          "text": [
            "Sequence seed: 37\n"
          ]
        },
        {
          "output_type": "execute_result",
          "data": {
            "text/plain": [
              "<matplotlib.axes._subplots.AxesSubplot at 0x7fde14331a30>"
            ]
          },
          "metadata": {},
          "execution_count": 9
        },
        {
          "output_type": "display_data",
          "data": {
            "text/plain": [
              "<Figure size 432x288 with 1 Axes>"
            ],
            "image/png": "[encoded data removed]"
          },
          "metadata": {
            "needs_background": "light"
          }
        }
      ],
      "source": [
        "# Scatter plot of (seed, rand(seed))\n",
        "fig, ax = plt.subplots()\n",
        "print(\"Sequence seed:\", r.seed)\n",
        "pairs = [(r.seed, r.rand()) for i in range(n)]\n",
        "ax.plot([x for x,y in pairs], [y for x,y in pairs])\n",
        "ax"
      ],
      "metadata": {
        "pycharm": {
          "name": "#%%\n"
        },
        "id": "Uw4vwXK4Avp6",
        "outputId": "a6aab7a5-3ecf-4a42-f4a1-419a65a54635",
        "colab": {
          "base_uri": "https://localhost:8080/",
          "height": 303
        }
      }
    },
    {
      "cell_type": "markdown",
      "source": [
        "## Example: computational experiment with random numbers\n",
        "\n",
        "We'll use the Histogram class developed last week to count the outcomes of the experiment"
      ],
      "metadata": {
        "collapsed": false,
        "id": "R0CnpSG5Avp7"
      }
    },
    {
      "cell_type": "code",
      "execution_count": 10,
      "outputs": [],
      "source": [
        "class Histogram:\n",
        "    \"\"\" A simple histogram with a nice API \"\"\"\n",
        "    def __init__(self, title, xlabel=None):\n",
        "        fig, ax = plt.subplots()\n",
        "        ax.set_title(title)\n",
        "        if xlabel:\n",
        "            ax.set_xlabel(xlabel)\n",
        "        ax.set_ylabel('Count')\n",
        "        self.ax = ax\n",
        "        self.fig = fig\n",
        "        self.counts = {}\n",
        "\n",
        "    def count(self, category):\n",
        "        self.counts[category] = self.counts.get(category, 0) + 1\n",
        "\n",
        "    def plot(self):\n",
        "        self.ax.bar(self.counts.keys(), self.counts.values())\n",
        "        plt.show()"
      ],
      "metadata": {
        "pycharm": {
          "name": "#%%\n"
        },
        "id": "5_tDMQahAvp7"
      }
    },
    {
      "cell_type": "code",
      "execution_count": 42,
      "outputs": [
        {
          "output_type": "display_data",
          "data": {
            "text/plain": [
              "<Figure size 432x288 with 1 Axes>"
            ],
            "image/png": "[encoded data removed]"
          },
          "metadata": {
            "needs_background": "light"
          }
        }
      ],
      "source": [
        "# Experiment: Roll some dice\n",
        "def roll_dice(sides=6):\n",
        "    return (random.randint(1,sides), random.randint(1,sides))\n",
        "\n",
        "# number rolls to use in this experiment\n",
        "n_rolls = 1000\n",
        "\n",
        "rolls = Histogram(\"Distribution of fair dice rolls\", xlabel='Sum of 2 dice')\n",
        "for i in range(n_rolls):\n",
        "    rolls.count(sum(roll_dice()))\n",
        "\n",
        "rolls.plot()"
      ],
      "metadata": {
        "pycharm": {
          "name": "#%%\n"
        },
        "id": "eaE8pFKwAvp8",
        "outputId": "ee682cdb-1596-4ec0-bd59-7c3f90b726e0",
        "colab": {
          "base_uri": "https://localhost:8080/",
          "height": 295
        }
      }
    },
    {
      "cell_type": "code",
      "execution_count": 11,
      "outputs": [],
      "source": [],
      "metadata": {
        "pycharm": {
          "name": "#%%\n"
        },
        "id": "Sca4MYFeAvp9"
      }
    }
  ]
}