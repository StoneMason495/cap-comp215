{
  "cells": [
    {
      "cell_type": "markdown",
      "source": [
        "# Self-Organized Criticality: Sandpile\n",
        "This is our week 7 examples notebook and will be available on Github from the powderflask/cap-comp215 repository.\n",
        "\n",
        "Many complex systems \"self-organize\" to produce emergent behaviours that are nearly impossible to predict.\n",
        "A simple system that illustrates this property is called \"Sandpile\" (though it is not a good model of a physical sandpile!)\n",
        "\n",
        "Credits:\n",
        "    Original code examples from Think Complexity, 2nd edition.\n",
        "    Copyright 2016 Allen Downey, MIT License\n",
        "\n",
        "As usual, the first code block just imports the modules we will use."
      ],
      "metadata": {
        "collapsed": false,
        "id": "W1eaU3MCTkEU"
      }
    },
    {
      "cell_type": "code",
      "execution_count": 1,
      "metadata": {
        "collapsed": true,
        "id": "HfceiTL5TkEY"
      },
      "outputs": [],
      "source": [
        "%matplotlib inline\n",
        "\n",
        "import math\n",
        "import time\n",
        "from dataclasses import dataclass\n",
        "\n",
        "import matplotlib\n",
        "import matplotlib.pyplot as plt\n",
        "from matplotlib import animation\n",
        "import numpy as np\n",
        "from scipy.signal import correlate2d\n",
        "\n",
        "# Configure matplotlib's animation library to work in the browser.\n",
        "matplotlib.rc('animation', html='jshtml')"
      ]
    },
    {
      "cell_type": "markdown",
      "source": [
        "### Helpers\n",
        "We're starting to collect some useful re-usable bits of code - we should consider putting these in an importable module..."
      ],
      "metadata": {
        "collapsed": false,
        "id": "aL8kQVnwTkEc"
      }
    },
    {
      "cell_type": "code",
      "execution_count": 2,
      "outputs": [],
      "source": [
        "DEFAULT_IMSHOW_OPTIONS = dict(\n",
        "    cmap = 'Blues',\n",
        "    interpolation='none',\n",
        "    origin='upper',\n",
        ")\n",
        "\n",
        "def plot_2D_array(array, axes=None, title='', **options):\n",
        "    \"\"\" Plot the 2D array as an image on the given axes  1's will be dark blue, 0's will be light blue. \"\"\"\n",
        "    axes = axes or plt.gca()   # If not axes are provided, draw on current axes\n",
        "    axes.set_title(title)\n",
        "    axes.set_xticks([], [])  # remove axes tick marks\n",
        "    axes.set_yticks([], [])\n",
        "    options = {**DEFAULT_IMSHOW_OPTIONS, **options}\n",
        "    axes.imshow(array, **options)"
      ],
      "metadata": {
        "id": "xyN0ZXenTkEd"
      }
    },
    {
      "cell_type": "code",
      "execution_count": 3,
      "outputs": [],
      "source": [
        "class Animation2D:\n",
        "    \"\"\"\n",
        "      Animates any 2D model with a step() method and a draw() method, using matplotlib\n",
        "      model.step() should take no parameters - just step the model forward one step.\n",
        "      model.draw() should take 2 parameters, the matpltolib axes to draw on and an integer step number\n",
        "\n",
        "      See https://www.allendowney.com/blog/2019/07/25/matplotlib-animation-in-jupyter/\n",
        "          for a discussion of the pros and cons of various animation techniques in jupyter notebooks\n",
        "    \"\"\"\n",
        "\n",
        "    def __init__(self, model, frames=50, steps_per_frame=1, figsize=(8, 8)):\n",
        "        \"\"\"\n",
        "        :param model: the simulation object to animate, with step() and draw(axes, step) methods\n",
        "        :param frames: number of animation frames to generate\n",
        "        \"\"\"\n",
        "        self.model = model\n",
        "        self.frames = frames\n",
        "        self.steps_per_frame = steps_per_frame\n",
        "        self.fig, self.ax = plt.subplots(figsize=figsize)\n",
        "\n",
        "    def animation_step(self, step):\n",
        "        \"\"\" Step the model forward and draw the plot \"\"\"\n",
        "        if step > 0:\n",
        "            for _ in range(self.steps_per_frame):\n",
        "                self.model.step()\n",
        "        self.model.draw(self.ax, step=step*self.steps_per_frame)\n",
        "\n",
        "    def show(self):\n",
        "        \"\"\" return the matplotlib animation object, ready for display \"\"\"\n",
        "        anim = animation.FuncAnimation(self.fig, self.animation_step, frames=self.frames)\n",
        "        plt.close()  # this ensures the last frame is not shown as a separate plot\n",
        "        return anim\n",
        "\n",
        "    def animate(self, interval=None):\n",
        "        \"\"\" Animate the model simulation directly in the notebook display block \"\"\"\n",
        "        from IPython.display import clear_output\n",
        "        try:\n",
        "            for i in range(self.frames):\n",
        "                clear_output(wait=True)  # clear the IPython display\n",
        "                self.ax.clear()          # clear old image from the axes (fixes a performance issue)\n",
        "                plt.figure(self.fig)     # add the figure back to pyplot ** sigh **\n",
        "                self.animation_step(i)\n",
        "                plt.show()               # show the current animation frame (pyplot then closes and throws away figure ** sigh **)\n",
        "                if interval:\n",
        "                    time.sleep(interval)\n",
        "        except KeyboardInterrupt:\n",
        "            pass"
      ],
      "metadata": {
        "id": "mLGLDVNATkEe"
      }
    },
    {
      "cell_type": "code",
      "execution_count": 4,
      "outputs": [],
      "source": [
        "class FrequencyDist:\n",
        "    \"\"\" Represents the Frequency Distribution for a set of observations on a discrete random variable \"\"\"\n",
        "    def __init__(self, observations, labels: dict=None, title='Trials'):\n",
        "        \"\"\" observations is a 1D sequence of empirical data, labels optionally relabel observation values \"\"\"\n",
        "        self.n_obs = len(observations)\n",
        "        self.title = title\n",
        "\n",
        "        # frequency for each unique category\n",
        "        self.categories, self.counts = np.unique(observations, return_counts=True)\n",
        "        self.n_cat = len(self.categories)\n",
        "        self.proportions = self.counts/self.n_obs\n",
        "        # matching category labels, if supplied\n",
        "        self.category_labels = tuple(labels[c] for c in self.categories) if labels else self.categories\n",
        "\n",
        "    def get_frequencies(self):\n",
        "        \"\"\" Return the frequency count of each category as a dict \"\"\"\n",
        "        return {\n",
        "            cat: freq for cat, freq in zip(self.category_labels, self.counts)\n",
        "        }\n",
        "\n",
        "    def print_frequencies(self):\n",
        "        \"\"\" Print the frequency of each category as a fraction of observations \"\"\"\n",
        "        print(f'{self.title}:', [f'p({o})=\", {n}/{self.n_obs}' for o, n in self.get_frequencies().items()] )\n",
        "\n",
        "    def bar(self, axes=None, **options):\n",
        "        \"\"\" Plot distribution as a bar chart. \"\"\"\n",
        "        axes = axes or plt.gca()  # If no axes are provided, draw on current axes\n",
        "        axes.set(**options)\n",
        "        axes.set_title(f'Frequency distribution for {self.n_obs} {self.title}')\n",
        "        axes.bar(self.category_labels, self.proportions)\n",
        "\n",
        "    def plot(self, axes=None, **options):\n",
        "        \"\"\" Plot distribution as a line graph. \"\"\"\n",
        "        axes = axes or plt.gca()  # If no axes are provided, draw on current axes\n",
        "        axes.set(**options)\n",
        "        axes.set_title(f'Frequency distribution for {self.n_obs} {self.title}')\n",
        "        axes.plot(self.categories, self.proportions)"
      ],
      "metadata": {
        "id": "AfOOo-e-TkEg"
      }
    },
    {
      "cell_type": "markdown",
      "source": [
        "## Simple Sandpile Model\n",
        "The Abelian sandpile model (ASM) was the first discovered example of a dynamical system displaying self-organized criticality. It was introduced by Per Bak, Chao Tang and Kurt Wiesenfeld in a 1987 paper.\n",
        "\n",
        "The model is a cellular automaton: each site on a finite grid has an associated value that corresponds to the slope of the pile. This slope builds up as \"grains of sand\" (or \"chips\") are randomly placed onto the pile, until the slope exceeds a specific threshold value at which time that site collapses transferring sand into the adjacent sites, increasing their slope. Bak, Tang, and Wiesenfeld considered process of successive random placement of sand grains on the grid; each such placement of sand at a particular site may have no effect, or it may cause a cascading reaction that will affect many sites.  [wikipedia](https://en.wikipedia.org/wiki/Abelian_sandpile_model)"
      ],
      "metadata": {
        "collapsed": false,
        "id": "JdQiRId1TkEi"
      }
    },
    {
      "cell_type": "markdown",
      "source": [
        "Here's a small example starting with two cells set to topple..."
      ],
      "metadata": {
        "collapsed": false,
        "id": "CXrMlT2uTkEj"
      }
    },
    {
      "cell_type": "code",
      "execution_count": 18,
      "outputs": [
        {
          "output_type": "stream",
          "name": "stdout",
          "text": [
            "[[0 0 0 0 0]\n",
            " [0 0 0 0 0]\n",
            " [0 4 0 4 0]\n",
            " [0 0 0 0 0]\n",
            " [0 0 0 0 0]]\n"
          ]
        }
      ],
      "source": [
        "n = 5\n",
        "pile = np.zeros((n, n), dtype=np.int32)\n",
        "pile[2, 1] = 4\n",
        "pile[2, 3] = 4\n",
        "print(pile)"
      ],
      "metadata": {
        "id": "1HBeMq-PTkEj",
        "outputId": "4f9d4b89-62dc-43b1-c022-596c5acaa06c",
        "colab": {
          "base_uri": "https://localhost:8080/"
        }
      }
    },
    {
      "cell_type": "markdown",
      "source": [
        "Identify all the cells that are about to \"topple\", or slide into their neighbours..."
      ],
      "metadata": {
        "collapsed": false,
        "id": "CAZqk-lMTkEm"
      }
    },
    {
      "cell_type": "code",
      "execution_count": 6,
      "outputs": [
        {
          "output_type": "stream",
          "name": "stdout",
          "text": [
            "[[0 0 0 0 0]\n",
            " [0 0 0 0 0]\n",
            " [0 1 0 1 0]\n",
            " [0 0 0 0 0]\n",
            " [0 0 0 0 0]]\n"
          ]
        }
      ],
      "source": [
        "critical_slope = 3\n",
        "toppling = pile > critical_slope\n",
        "print(toppling.astype(int))"
      ],
      "metadata": {
        "id": "mFjQfrPuTkEn",
        "outputId": "33f64952-c95b-4556-b7e6-d81f29979631",
        "colab": {
          "base_uri": "https://localhost:8080/"
        }
      }
    },
    {
      "cell_type": "markdown",
      "source": [
        "Use a simple diffusion kernel to move sand out of the toppled cells an into the neighbours..."
      ],
      "metadata": {
        "collapsed": false,
        "id": "D8hsAA1KTkEo"
      }
    },
    {
      "cell_type": "code",
      "execution_count": 25,
      "outputs": [
        {
          "output_type": "stream",
          "name": "stdout",
          "text": [
            "[[ 0  0  0  0  0]\n",
            " [ 0  1  0  1  0]\n",
            " [ 1 -4  2 -4  1]\n",
            " [ 0  1  0  1  0]\n",
            " [ 0  0  0  0  0]]\n"
          ]
        }
      ],
      "source": [
        "kernel = np.array([[0,  1, 0],\n",
        "                   [1, -4, 1 ],\n",
        "                   [0,  1, 0]])\n",
        "\n",
        "c = correlate2d(toppling, kernel, mode='same', boundary='fill', fillvalue=0)\n",
        "print(c)"
      ],
      "metadata": {
        "id": "uEnuk4EfTkEp",
        "outputId": "cbda7269-81dc-4a6d-84ca-d020ef948a96",
        "colab": {
          "base_uri": "https://localhost:8080/"
        }
      }
    },
    {
      "cell_type": "markdown",
      "source": [
        "and finally add the toppled sand back into the pile.  Grains that topple off the edge just disappear."
      ],
      "metadata": {
        "collapsed": false,
        "id": "jTYYUvw-TkEp"
      }
    },
    {
      "cell_type": "code",
      "execution_count": 26,
      "outputs": [
        {
          "output_type": "stream",
          "name": "stdout",
          "text": [
            "[[ 0  0  0  0  0]\n",
            " [ 0  2  0  2  0]\n",
            " [ 2 -4  4 -4  2]\n",
            " [ 0  2  0  2  0]\n",
            " [ 0  0  0  0  0]]\n"
          ]
        }
      ],
      "source": [
        "pile += c\n",
        "print(pile)"
      ],
      "metadata": {
        "id": "oBCTYm0TTkEq",
        "outputId": "90205287-6762-4cb4-c72d-17564076dfa3",
        "colab": {
          "base_uri": "https://localhost:8080/"
        }
      }
    },
    {
      "cell_type": "markdown",
      "source": [
        "## SandPile CA class\n",
        "As usual, let's package that behaviour into a reusable class\n",
        "\n",
        "Start with sand uniformly spread on the grid."
      ],
      "metadata": {
        "collapsed": false,
        "id": "Id19XVOjTkEr"
      }
    },
    {
      "cell_type": "code",
      "execution_count": 9,
      "outputs": [],
      "source": [
        "class SandPile:\n",
        "    \"\"\" Diffusion CA with a single grids, representing the slope or height of a pile of \"sand\" (or rice or chips). \"\"\"\n",
        "\n",
        "    # Critical \"slope\" beyond which sand topples / slides\n",
        "    critical = 3\n",
        "    # Slide to cardinal neighbours\n",
        "    kernel = np.array([[0,  1, 0],\n",
        "                       [1, -4, 1 ],\n",
        "                       [0,  1, 0]])\n",
        "\n",
        "    def __init__(self, n, initial_level=3):\n",
        "        \"\"\" Initializes nxn model with sand spread evenly at given initial_level \"\"\"\n",
        "        self.state = np.ones((n, n), dtype=np.int32) * initial_level\n",
        "        self.centre = (n//2, n//2)\n",
        "        self.toppled_seq = []\n",
        "\n",
        "    def topple(self):\n",
        "        \"\"\" Simulate one time step and return the number of cells that toppled \"\"\"\n",
        "        toppling = self.state > self.critical\n",
        "        num_toppled = np.sum(toppling)\n",
        "        self.toppled_seq.append(num_toppled)\n",
        "\n",
        "        c = correlate2d(toppling, self.kernel, mode='same')\n",
        "        self.state += c\n",
        "        return num_toppled\n",
        "\n",
        "    def drop(self):\n",
        "        \"\"\" Drop \"sand\" on the centre cell.\"\"\"\n",
        "        self.state[self.centre] += 1\n",
        "\n",
        "    def run(self):\n",
        "        \"\"\" Run the sandpile forward until it reaches equilibrium.\n",
        "\n",
        "        returns: avalanche duration, avalanche size (total number of topplings)\n",
        "        \"\"\"\n",
        "        size = 0\n",
        "        duration = 0\n",
        "        while (num_toppled := self.topple()) > 0: # The := is assigning num_toppled to the value of self.topple to the variable num_toppled, as = only doesnt work inside parentheses\n",
        "            size += num_toppled\n",
        "            duration +=1\n",
        "\n",
        "        return duration, size\n",
        "\n",
        "    def drop_and_run(self):\n",
        "        \"\"\" Drop a grain of sand and run model to equilibrium. \"\"\"\n",
        "        self.drop()\n",
        "        return self.run()\n",
        "\n",
        "    # alias for drop_and_run used by animation\n",
        "    step = drop_and_run\n",
        "\n",
        "    def plot_toppling_history(self, axes=None, title='SandPile: Toppled Cell History'):\n",
        "        \"\"\" Plot the history of number of cells toppled in this model \"\"\"\n",
        "        axes = axes or plt.gca()\n",
        "        axes.set_title(title)\n",
        "        axes.set_xlabel(\"Time Steps\")\n",
        "        axes.set_ylabel(\"Number of toppled cells\")\n",
        "        axes.plot(self.toppled_seq)\n",
        "\n",
        "    def draw(self, axes=None, step=''):\n",
        "        \"\"\"Draws the cells on given axes.\"\"\"\n",
        "        axes = axes or plt.gca()  # use current axes if none are provided.\n",
        "        plot_2D_array(self.state, axes, cmap='YlOrRd', vmax=5,  title=f'Sandpile {step}')"
      ],
      "metadata": {
        "id": "EfUPoxFETkEs"
      }
    },
    {
      "cell_type": "code",
      "execution_count": 28,
      "outputs": [
        {
          "output_type": "display_data",
          "data": {
            "text/plain": [
              "<Figure size 576x576 with 1 Axes>"
            ],
            "image/png": "[encoded data removed]"
          },
          "metadata": {}
        }
      ],
      "source": [
        "sandpile = SandPile(n=20)\n",
        "anim = Animation2D(sandpile, frames=100)\n",
        "anim.animate()"
      ],
      "metadata": {
        "id": "rlf9Wu4PTkEt",
        "outputId": "79c9663d-deec-47d9-c375-ae5f90e39fbc",
        "colab": {
          "base_uri": "https://localhost:8080/",
          "height": 482
        }
      }
    },
    {
      "cell_type": "markdown",
      "source": [
        "After a while, the pile looks pretty random.\n",
        "\n",
        "Here's a plot of the number of cells toppled after each `step`."
      ],
      "metadata": {
        "collapsed": false,
        "id": "jsdpUfphTkEu"
      }
    },
    {
      "cell_type": "code",
      "execution_count": 11,
      "outputs": [
        {
          "output_type": "display_data",
          "data": {
            "text/plain": [
              "<Figure size 432x288 with 1 Axes>"
            ],
            "image/png": "[encoded data removed]"
          },
          "metadata": {
            "needs_background": "light"
          }
        }
      ],
      "source": [
        "sandpile.plot_toppling_history()"
      ],
      "metadata": {
        "id": "txadgEVKTkEu",
        "outputId": "21467f8c-7cd0-4548-f578-3cb376210cd6",
        "colab": {
          "base_uri": "https://localhost:8080/",
          "height": 295
        }
      }
    },
    {
      "cell_type": "markdown",
      "source": [
        "The following figure shows the progression of the pile from ordered to apparently random."
      ],
      "metadata": {
        "collapsed": false,
        "id": "04jCmtkZTkEv"
      }
    },
    {
      "cell_type": "code",
      "execution_count": 32,
      "outputs": [
        {
          "output_type": "display_data",
          "data": {
            "text/plain": [
              "<Figure size 1728x216 with 3 Axes>"
            ],
            "image/png": "[encoded data removed]"
          },
          "metadata": {}
        }
      ],
      "source": [
        "sandpile = SandPile(n=21, initial_level=4)\n",
        "_, ax = plt.subplots(1, 3, figsize=(24, 3))\n",
        "\n",
        "sandpile.run()\n",
        "sandpile.draw(ax[0])\n",
        "\n",
        "for step in range(20):\n",
        "    sandpile.step()\n",
        "sandpile.draw(ax[1])\n",
        "\n",
        "for step in range(2000):\n",
        "    sandpile.step()\n",
        "sandpile.draw(ax[2])"
      ],
      "metadata": {
        "id": "5dyqupS2TkEv",
        "outputId": "c9a868c4-122d-465f-d56e-2ab14010b615",
        "colab": {
          "base_uri": "https://localhost:8080/",
          "height": 210
        }
      }
    },
    {
      "cell_type": "markdown",
      "source": [
        "## Heavy-tailed distributions\n",
        "\n",
        "If the sand pile is in a critical state, we expect quantities like the duration of an avalanche, `T`, and the number of cells affected, `S`, to have heavy-tailed distributions.\n",
        "\n",
        "Following Bak, Tang, and Wiesenseld, we start with a 50x50 array and plot the Frequency Distribution of `S` and `T` on a log-log scale."
      ],
      "metadata": {
        "collapsed": false,
        "id": "YE6E5dZ5TkEw"
      }
    },
    {
      "cell_type": "code",
      "execution_count": 35,
      "outputs": [
        {
          "output_type": "execute_result",
          "data": {
            "text/plain": [
              "(678, 398660)"
            ]
          },
          "metadata": {},
          "execution_count": 35
        }
      ],
      "source": [
        "sandpile2 = SandPile(n=50, initial_level=4)\n",
        "sandpile2.run()"
      ],
      "metadata": {
        "id": "xlgvcUraTkEw",
        "outputId": "e970d63a-a923-4a14-a3a3-81fc1ec431ff",
        "colab": {
          "base_uri": "https://localhost:8080/"
        }
      }
    },
    {
      "cell_type": "markdown",
      "source": [
        "Now we run the pile for many time steps and keep track of the durations and number of cells affected."
      ],
      "metadata": {
        "collapsed": false,
        "id": "6LQvCP-ZTkEx"
      }
    },
    {
      "cell_type": "code",
      "execution_count": 43,
      "outputs": [
        {
          "output_type": "stream",
          "name": "stdout",
          "text": [
            "CPU times: user 10.1 s, sys: 34.7 ms, total: 10.2 s\n",
            "Wall time: 10.3 s\n"
          ]
        }
      ],
      "source": [
        "steps = 5000\n",
        "%time results = [sandpile2.drop_and_run() for _ in range(steps)]"
      ],
      "metadata": {
        "id": "Wk2O-DjnTkEx",
        "outputId": "c1738161-b110-4009-a011-6fc50027993c",
        "colab": {
          "base_uri": "https://localhost:8080/"
        }
      }
    },
    {
      "cell_type": "markdown",
      "source": [
        "We can use `np.transpose` to extract the results as two NumPy arrays.\n",
        "\n",
        "A large majority of drops have duration 1 and no toppled cells.  We filter them out to get a clearer picture of the rest of the distribution."
      ],
      "metadata": {
        "collapsed": false,
        "id": "DLzveORxTkEy"
      }
    },
    {
      "cell_type": "code",
      "execution_count": 44,
      "outputs": [],
      "source": [
        "T, S = np.transpose(results)\n",
        "T = T[T>1]\n",
        "S = S[S>1]"
      ],
      "metadata": {
        "id": "QObDNS5HTkEz"
      }
    },
    {
      "cell_type": "markdown",
      "source": [
        "Plot the frequency distribution of `T` and `S`."
      ],
      "metadata": {
        "collapsed": false,
        "id": "3ULlRNlvTkEz"
      }
    },
    {
      "cell_type": "code",
      "execution_count": 45,
      "outputs": [
        {
          "output_type": "display_data",
          "data": {
            "text/plain": [
              "<Figure size 864x288 with 2 Axes>"
            ],
            "image/png": "[encoded data removed]"
          },
          "metadata": {
            "needs_background": "light"
          }
        }
      ],
      "source": [
        "T_dist = FrequencyDist(T, title='Avalanche Duration')\n",
        "S_dist = FrequencyDist(S, title='Avalance Size')\n",
        "\n",
        "_, (ax1, ax2) = plt.subplots(1, 2, figsize=(12, 4))\n",
        "\n",
        "T_dist.bar(ax1, xlim=(1,100))\n",
        "S_dist.bar(ax2, xlim=(1,100))\n"
      ],
      "metadata": {
        "id": "LjkNJ18VTkEz",
        "outputId": "2c31d9c8-3239-4ae2-cf52-6bc6b07a1ae4",
        "colab": {
          "base_uri": "https://localhost:8080/",
          "height": 281
        }
      }
    },
    {
      "cell_type": "markdown",
      "source": [
        "Plot on log-log scale against a line with slope -1 to look for evidence of a \"heavy-tail\"..."
      ],
      "metadata": {
        "collapsed": false,
        "id": "Y8xUl4EmTkE0"
      }
    },
    {
      "cell_type": "code",
      "execution_count": 46,
      "outputs": [
        {
          "output_type": "display_data",
          "data": {
            "text/plain": [
              "<Figure size 864x288 with 2 Axes>"
            ],
            "image/png": "[encoded data removed]"
          },
          "metadata": {
            "needs_background": "light"
          }
        }
      ],
      "source": [
        "def slope(xs, ys):\n",
        "    \"\"\" Return slope in log-space \"\"\"\n",
        "    return np.diff(np.log(ys)) / np.diff(np.log(xs))\n",
        "\n",
        "def plot_negative_one_slope(dist, axes=None):\n",
        "    \"\"\" Plot a line with slope -1 from the first point in the dist \"\"\"\n",
        "    axes = axes or plt.gca()\n",
        "    xs = [dist.categories[0], dist.categories[-1]]\n",
        "    ys = [dist.proportions[0], 0]\n",
        "    ys[1] = ys[0] * np.exp(-1*np.log(xs[1]/xs[0]))  # compute y1 so line has a slope exactly -1\n",
        "    assert slope(xs, ys) == -1\n",
        "    axes.plot(xs, ys, color='gray', alpha=0.3, linewidth=4)\n",
        "\n",
        "_, (ax1, ax2) = plt.subplots(1, 2, figsize=(12, 4))\n",
        "T_dist.plot(ax1, xscale='log', yscale='log')\n",
        "plot_negative_one_slope(T_dist, ax1)\n",
        "S_dist.plot(ax2, xscale='log', yscale='log')\n",
        "plot_negative_one_slope(S_dist, ax2)"
      ],
      "metadata": {
        "id": "55frAryzTkE1",
        "outputId": "a5b2ba1f-1393-49f2-9ec0-5deafae890a7",
        "colab": {
          "base_uri": "https://localhost:8080/",
          "height": 285
        }
      }
    },
    {
      "cell_type": "code",
      "execution_count": 17,
      "outputs": [],
      "source": [],
      "metadata": {
        "id": "yVAp_CRtTkE1"
      }
    }
  ],
  "metadata": {
    "kernelspec": {
      "display_name": "Python 3",
      "language": "python",
      "name": "python3"
    },
    "language_info": {
      "codemirror_mode": {
        "name": "ipython",
        "version": 2
      },
      "file_extension": ".py",
      "mimetype": "text/x-python",
      "name": "python",
      "nbconvert_exporter": "python",
      "pygments_lexer": "ipython2",
      "version": "2.7.6"
    },
    "colab": {
      "provenance": []
    }
  },
  "nbformat": 4,
  "nbformat_minor": 0
}