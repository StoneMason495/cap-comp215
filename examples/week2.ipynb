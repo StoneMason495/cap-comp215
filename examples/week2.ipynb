{
  "nbformat": 4,
  "nbformat_minor": 0,
  "metadata": {
    "colab": {
      "name": "week2.ipynb",
      "provenance": [],
      "include_colab_link": true
    },
    "kernelspec": {
      "name": "python3",
      "display_name": "Python 3"
    },
    "language_info": {
      "name": "python"
    }
  },
  "cells": [
    {
      "cell_type": "markdown",
      "metadata": {
        "id": "view-in-github",
        "colab_type": "text"
      },
      "source": [
        "<a href=\"https://colab.research.google.com/github/StoneMason495/cap-comp215/blob/main/examples/week2.ipynb\" target=\"_parent\"><img src=\"https://colab.research.google.com/assets/colab-badge.svg\" alt=\"Open In Colab\"/></a>"
      ]
    },
    {
      "cell_type": "markdown",
      "source": [
        "# Sequence and Map data structures - Strings, Tuples, Lists, Dictionaries\n",
        "This is our week 2 examples notebook and will be available on Github from the powderflask/cap-comp215 repository.\n",
        "\n",
        "As usual, the first code block just imports the modules we will use."
      ],
      "metadata": {
        "id": "WBMC0GrjNRTM"
      }
    },
    {
      "cell_type": "code",
      "execution_count": 3,
      "metadata": {
        "id": "C1a6aDXAM0WM"
      },
      "outputs": [],
      "source": [
        "import datetime\n",
        "import matplotlib.pyplot as plt\n",
        "import  matplotlib.dates as mdates\n",
        "from pprint import pprint"
      ]
    },
    {
      "cell_type": "markdown",
      "source": [
        "## f-strings\n",
        "A `string` is a sequence of characters / symbols.\n",
        "This familiar data structure is quite powerful, and format-strings (f-strings) take it to the next level...."
      ],
      "metadata": {
        "collapsed": false,
        "pycharm": {
          "name": "#%% md\n"
        },
        "id": "wBZ_sy2AJ16N"
      }
    },
    {
      "cell_type": "code",
      "execution_count": 4,
      "outputs": [
        {
          "output_type": "execute_result",
          "data": {
            "text/plain": [
              "'2023-01-11 is not special, but 42 and 3.1415926535 are!'"
            ],
            "application/vnd.google.colaboratory.intrinsic+json": {
              "type": "string"
            }
          },
          "metadata": {},
          "execution_count": 4
        }
      ],
      "source": [
        "today = datetime.date.today()\n",
        "the_answer = 42\n",
        "PI = 3.1415926535\n",
        "\n",
        "f'{today} is not special, but {the_answer} and {PI} are!'"
      ],
      "metadata": {
        "pycharm": {
          "name": "#%%\n"
        },
        "colab": {
          "base_uri": "https://localhost:8080/",
          "height": 35
        },
        "id": "DbhPR2N7J16P",
        "outputId": "6fa433eb-59ca-481c-aa4c-c7d1c0b87103"
      }
    },
    {
      "cell_type": "markdown",
      "source": [
        "## List Comprehension\n",
        "Provides a compact syntax for two very common sequence-processing algorithms:  Map  and Filter\n",
        "\n",
        "Basic syntax:"
      ],
      "metadata": {
        "id": "k70NJ-JTNwYN"
      }
    },
    {
      "cell_type": "code",
      "source": [
        "[i for i in range(10)]"
      ],
      "metadata": {
        "id": "HZSz8IftqJ72",
        "colab": {
          "base_uri": "https://localhost:8080/"
        },
        "outputId": "ce4b35cc-1b56-4923-b3ac-775490a46113"
      },
      "execution_count": 5,
      "outputs": [
        {
          "output_type": "execute_result",
          "data": {
            "text/plain": [
              "[0, 1, 2, 3, 4, 5, 6, 7, 8, 9]"
            ]
          },
          "metadata": {},
          "execution_count": 5
        }
      ]
    },
    {
      "cell_type": "markdown",
      "source": [
        "### Map Algorithm\n",
        "Apply the same function to every item in another sequence (i.e., provide a \"mapping\" from the source sequence to the target"
      ],
      "metadata": {
        "collapsed": false,
        "pycharm": {
          "name": "#%% md\n"
        },
        "id": "5Lh1UvyuJ16X"
      }
    },
    {
      "cell_type": "code",
      "execution_count": 6,
      "outputs": [
        {
          "output_type": "execute_result",
          "data": {
            "text/plain": [
              "[4, 16, 36, 64, 100]"
            ]
          },
          "metadata": {},
          "execution_count": 6
        }
      ],
      "source": [
        "# Problem:  compute the first 10 natural squares\n",
        "[x**2 for x in range(1,11) if x%2 == 0]"
      ],
      "metadata": {
        "pycharm": {
          "name": "#%%\n"
        },
        "colab": {
          "base_uri": "https://localhost:8080/"
        },
        "id": "fgIlGl87J16Z",
        "outputId": "f09823f3-b003-418f-f28f-76aaaabee146"
      }
    },
    {
      "cell_type": "markdown",
      "source": [
        "### Filter\n",
        "Select a sub-set of the elements from another sequence based on some criteria."
      ],
      "metadata": {
        "collapsed": false,
        "pycharm": {
          "name": "#%% md\n"
        },
        "id": "OEMnbRJ6J16b"
      }
    },
    {
      "cell_type": "code",
      "execution_count": 7,
      "outputs": [
        {
          "output_type": "execute_result",
          "data": {
            "text/plain": [
              "['o', 'e', 'i', 'u', 'a']"
            ]
          },
          "metadata": {},
          "execution_count": 7
        }
      ],
      "source": [
        "VOWELS = 'aeiouy'\n",
        "text = '''\n",
        "Lorem ipsum dolor sit amet, consectetur adipiscing elit, sed do eiusmod tempor incididunt ut labore et dolore magna aliqua. Ut enim ad minim veniam, quis nostrud exercitation ullamco laboris nisi ut aliquip ex ea commodo consequat.\n",
        "'''\n",
        "# Problem:  create a string with just the vowels from the text, in order.\n",
        "involved_vowels=[c for c in text if c in VOWELS]\n",
        "#'-'.join(involved_vowels)\n",
        "seen = set()\n",
        "def is_seen(c):\n",
        "  if c in seen:\n",
        "    return True\n",
        "  else:\n",
        "    seen.add(c)\n",
        "    return False\n",
        "#[v for v in involved_vowels if not is_seen(v)]\n",
        "unique = []\n",
        "for v in involved_vowels:\n",
        "  if not is_seen(v):\n",
        "    unique.append(v)\n",
        "unique"
      ],
      "metadata": {
        "pycharm": {
          "name": "#%%\n"
        },
        "colab": {
          "base_uri": "https://localhost:8080/"
        },
        "id": "eJZfz1oMJ16d",
        "outputId": "e3dbcc9c-7525-433a-afa6-b3a6478495d9"
      }
    },
    {
      "cell_type": "markdown",
      "source": [
        "## Data Wrangling with List Comprehension\n",
        "E-learn's Live Quiz module does track quiz scores for each student, but does not store them in the gradebook,\n",
        "and it reports on them in the most useless way.\n",
        "\n",
        "Let's do some \"data wrangling\" to make sense out of this mess!\n",
        "\n",
        "### The Problem: Unstructured Data!\n",
        "Notice it is just a single large string!  The real data set has 36 students, and I need to do this every week!"
      ],
      "metadata": {
        "collapsed": false,
        "pycharm": {
          "name": "#%% md\n"
        },
        "id": "wOIoYD3UJ16f"
      }
    },
    {
      "cell_type": "code",
      "execution_count": 8,
      "outputs": [],
      "source": [
        "quiz = \"\"\"\n",
        "  1.                 Ali Oop scored  7/ 8 = 87%\n",
        "\n",
        "\n",
        "  2.          Alison Ralison scored  8/ 8 = 100%\n",
        "\n",
        "\n",
        "  3.         Ambily Piturbed scored  8/ 8 = 100%\n",
        "\n",
        "\n",
        "  4.  Arshan Risnot Farquared scored  5/ 8 = 62%\n",
        "\n",
        "\n",
        "  5.       Ayushma Jugernaugh scored  5/ 8 = 62%\n",
        "\n",
        "\n",
        "  6.       Brayden Labaguette scored  7/ 8 = 87%\n",
        "\"\"\""
      ],
      "metadata": {
        "pycharm": {
          "name": "#%%\n"
        },
        "id": "raaZdOVVJ16g"
      }
    },
    {
      "cell_type": "markdown",
      "source": [
        "### Goal\n",
        "Turn this into structured data: a list of 2-tuples, each student's full name and their integer score."
      ],
      "metadata": {
        "collapsed": false,
        "pycharm": {
          "name": "#%% md\n"
        },
        "id": "fzzsjQ14J16l"
      }
    },
    {
      "cell_type": "code",
      "execution_count": 17,
      "outputs": [
        {
          "output_type": "error",
          "ename": "SyntaxError",
          "evalue": "ignored",
          "traceback": [
            "\u001b[0;36m  File \u001b[0;32m\"<ipython-input-17-ac4db5bdea73>\"\u001b[0;36m, line \u001b[0;32m2\u001b[0m\n\u001b[0;31m    scores = [(line[:-2]),int(line[-1][:-1]) for line in lines]\u001b[0m\n\u001b[0m                                             ^\u001b[0m\n\u001b[0;31mSyntaxError\u001b[0m\u001b[0;31m:\u001b[0m invalid syntax\n"
          ]
        }
      ],
      "source": [
        "lines = [line.split()[1:-3] for line in quiz.split('\\n') if line]\n",
        "scores = [(line[:-2]),int(line[-1][:-1]) for line in lines]\n",
        "scores"
      ],
      "metadata": {
        "pycharm": {
          "name": "#%%\n"
        },
        "colab": {
          "base_uri": "https://localhost:8080/",
          "height": 130
        },
        "id": "5r4qktouJ16m",
        "outputId": "f9f07477-4f51-401e-8223-d329a3050bdb"
      }
    },
    {
      "cell_type": "markdown",
      "source": [
        "## Records\n",
        "A *record* is a compound data value - a collection of simpler data values (fields) that all describe a single entity.\n",
        "\n",
        " * tuple\n",
        " * dictionary\n",
        " * object\n",
        "\n",
        "Problem: develop the data representation for a `student` in a student record system,\n",
        "where a `student` has a first and last name, student id, and date of birth"
      ],
      "metadata": {
        "collapsed": false,
        "id": "QBk2YXHYJ16m"
      }
    },
    {
      "cell_type": "code",
      "source": [
        "# Tuple\n",
        "\n",
        "# Dictionary\n",
        "\n",
        "# Object"
      ],
      "metadata": {
        "id": "Ai9qb3Bolw4h"
      },
      "execution_count": 10,
      "outputs": []
    },
    {
      "cell_type": "code",
      "execution_count": 10,
      "outputs": [],
      "source": [],
      "metadata": {
        "pycharm": {
          "name": "#%%\n"
        },
        "id": "mWNZGACZJ16o"
      }
    }
  ]
}