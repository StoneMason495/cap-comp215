{
  "nbformat": 4,
  "nbformat_minor": 0,
  "metadata": {
    "colab": {
      "name": "week2.ipynb",
      "provenance": [],
      "include_colab_link": true
    },
    "kernelspec": {
      "name": "python3",
      "display_name": "Python 3"
    },
    "language_info": {
      "name": "python"
    }
  },
  "cells": [
    {
      "cell_type": "markdown",
      "metadata": {
        "id": "view-in-github",
        "colab_type": "text"
      },
      "source": [
        "<a href=\"https://colab.research.google.com/github/StoneMason495/cap-comp215/blob/main/examples/week2_Jan16.ipynb\" target=\"_parent\"><img src=\"https://colab.research.google.com/assets/colab-badge.svg\" alt=\"Open In Colab\"/></a>"
      ]
    },
    {
      "cell_type": "markdown",
      "source": [
        "# Sequence and Map data structures - Strings, Tuples, Lists, Dictionaries\n",
        "This is our week 2 examples notebook and will be available on Github from the powderflask/cap-comp215 repository.\n",
        "\n",
        "As usual, the first code block just imports the modules we will use."
      ],
      "metadata": {
        "id": "WBMC0GrjNRTM"
      }
    },
    {
      "cell_type": "code",
      "execution_count": 21,
      "metadata": {
        "id": "C1a6aDXAM0WM"
      },
      "outputs": [],
      "source": [
        "import datetime\n",
        "import matplotlib.pyplot as plt\n",
        "import  matplotlib.dates as mdates\n",
        "from pprint import pprint"
      ]
    },
    {
      "cell_type": "markdown",
      "source": [
        "## f-strings\n",
        "A `string` is a sequence of characters / symbols.\n",
        "This familiar data structure is quite powerful, and format-strings (f-strings) take it to the next level...."
      ],
      "metadata": {
        "collapsed": false,
        "pycharm": {
          "name": "#%% md\n"
        },
        "id": "wBZ_sy2AJ16N"
      }
    },
    {
      "cell_type": "code",
      "execution_count": 15,
      "outputs": [
        {
          "output_type": "execute_result",
          "data": {
            "text/plain": [
              "'2023-01-16 is not special, but 42 and 3.1415926535 are!'"
            ],
            "application/vnd.google.colaboratory.intrinsic+json": {
              "type": "string"
            }
          },
          "metadata": {},
          "execution_count": 15
        }
      ],
      "source": [
        "today = datetime.date.today()\n",
        "the_answer = 42\n",
        "PI = 3.1415926535\n",
        "\n",
        "f'{today} is not special, but {the_answer} and {PI} are!'"
      ],
      "metadata": {
        "pycharm": {
          "name": "#%%\n"
        },
        "colab": {
          "base_uri": "https://localhost:8080/",
          "height": 35
        },
        "id": "DbhPR2N7J16P",
        "outputId": "fb701a00-dfca-4b33-9484-cefd50ab7b82"
      }
    },
    {
      "cell_type": "markdown",
      "source": [
        "## List Comprehension\n",
        "Provides a compact syntax for two very common sequence-processing algorithms:  Map  and Filter\n",
        "\n",
        "Basic syntax:"
      ],
      "metadata": {
        "id": "k70NJ-JTNwYN"
      }
    },
    {
      "cell_type": "code",
      "source": [
        "[i for i in range(100) if i % 2 == 0] # Filter Operation (Comes after Map operation if both are in the same comprehension)\n",
        "[2*i if i%2==0 else 3*i if i%3==0 else i*4 for i in range(100)] #Conditional Expression: Computing a single value - what if something, not if something what\n",
        "def calculate_it(val):\n",
        "  return 2*val if val%2==0 else 3*val if val%3==0 else val*4\n",
        "\n",
        "#{i:calculate_it(i) for i in range(0,100)} #Dictionary Function: makes i a key to the result/return of calculate_it(i)\n",
        "[calculate_it(i) for i in range(0,100)] # Map Function: applies a rule to a series of inputs\n",
        "\n",
        "from collections import defaultdict\n",
        "# def counter_factory(): # this function will be called by another function, later replaced by lambda\n",
        "#   return 0\n",
        "\n",
        "\n",
        "counts = defaultdict(lambda: 0)\n",
        "for i in range(0,100):\n",
        "  counts[calculate_it(i)] += 1\n",
        "\n",
        "counts"
      ],
      "metadata": {
        "id": "HZSz8IftqJ72",
        "colab": {
          "base_uri": "https://localhost:8080/"
        },
        "outputId": "a375bebd-9798-4afa-e055-eb1f1ed855b7"
      },
      "execution_count": 16,
      "outputs": [
        {
          "output_type": "execute_result",
          "data": {
            "text/plain": [
              "defaultdict(<function __main__.<lambda>()>,\n",
              "            {0: 1,\n",
              "             4: 2,\n",
              "             9: 1,\n",
              "             8: 1,\n",
              "             20: 2,\n",
              "             12: 1,\n",
              "             28: 2,\n",
              "             16: 1,\n",
              "             27: 1,\n",
              "             44: 2,\n",
              "             24: 1,\n",
              "             52: 2,\n",
              "             45: 1,\n",
              "             32: 1,\n",
              "             68: 2,\n",
              "             36: 1,\n",
              "             76: 2,\n",
              "             40: 1,\n",
              "             63: 1,\n",
              "             92: 2,\n",
              "             48: 1,\n",
              "             100: 2,\n",
              "             81: 1,\n",
              "             56: 1,\n",
              "             116: 2,\n",
              "             60: 1,\n",
              "             124: 2,\n",
              "             64: 1,\n",
              "             99: 1,\n",
              "             140: 2,\n",
              "             72: 1,\n",
              "             148: 2,\n",
              "             117: 1,\n",
              "             80: 1,\n",
              "             164: 2,\n",
              "             84: 1,\n",
              "             172: 2,\n",
              "             88: 1,\n",
              "             135: 1,\n",
              "             188: 2,\n",
              "             96: 1,\n",
              "             196: 2,\n",
              "             153: 1,\n",
              "             104: 1,\n",
              "             212: 1,\n",
              "             108: 1,\n",
              "             220: 1,\n",
              "             112: 1,\n",
              "             171: 1,\n",
              "             236: 1,\n",
              "             120: 1,\n",
              "             244: 1,\n",
              "             189: 1,\n",
              "             128: 1,\n",
              "             260: 1,\n",
              "             132: 1,\n",
              "             268: 1,\n",
              "             136: 1,\n",
              "             207: 1,\n",
              "             284: 1,\n",
              "             144: 1,\n",
              "             292: 1,\n",
              "             225: 1,\n",
              "             152: 1,\n",
              "             308: 1,\n",
              "             156: 1,\n",
              "             316: 1,\n",
              "             160: 1,\n",
              "             243: 1,\n",
              "             332: 1,\n",
              "             168: 1,\n",
              "             340: 1,\n",
              "             261: 1,\n",
              "             176: 1,\n",
              "             356: 1,\n",
              "             180: 1,\n",
              "             364: 1,\n",
              "             184: 1,\n",
              "             279: 1,\n",
              "             380: 1,\n",
              "             192: 1,\n",
              "             388: 1,\n",
              "             297: 1})"
            ]
          },
          "metadata": {},
          "execution_count": 16
        }
      ]
    },
    {
      "cell_type": "markdown",
      "source": [
        "### Map Algorithm\n",
        "Apply the same function to every item in another sequence (i.e., provide a \"mapping\" from the source sequence to the target"
      ],
      "metadata": {
        "collapsed": false,
        "pycharm": {
          "name": "#%% md\n"
        },
        "id": "5Lh1UvyuJ16X"
      }
    },
    {
      "cell_type": "code",
      "execution_count": 17,
      "outputs": [
        {
          "output_type": "execute_result",
          "data": {
            "text/plain": [
              "[4, 16, 36, 64, 100]"
            ]
          },
          "metadata": {},
          "execution_count": 17
        }
      ],
      "source": [
        "# Problem:  compute the first 10 natural squares\n",
        "[x**2 for x in range(1,11) if x%2 == 0]"
      ],
      "metadata": {
        "pycharm": {
          "name": "#%%\n"
        },
        "colab": {
          "base_uri": "https://localhost:8080/"
        },
        "id": "fgIlGl87J16Z",
        "outputId": "9a44f6ed-ef3f-4c08-c70e-b6395d21c46b"
      }
    },
    {
      "cell_type": "markdown",
      "source": [
        "### Filter\n",
        "Select a sub-set of the elements from another sequence based on some criteria."
      ],
      "metadata": {
        "collapsed": false,
        "pycharm": {
          "name": "#%% md\n"
        },
        "id": "OEMnbRJ6J16b"
      }
    },
    {
      "cell_type": "code",
      "execution_count": 18,
      "outputs": [
        {
          "output_type": "execute_result",
          "data": {
            "text/plain": [
              "['o', 'e', 'i', 'u', 'a']"
            ]
          },
          "metadata": {},
          "execution_count": 18
        }
      ],
      "source": [
        "VOWELS = 'aeiouy'\n",
        "text = '''\n",
        "Lorem ipsum dolor sit amet, consectetur adipiscing elit, sed do eiusmod tempor incididunt ut labore et dolore magna aliqua. Ut enim ad minim veniam, quis nostrud exercitation ullamco laboris nisi ut aliquip ex ea commodo consequat.\n",
        "'''\n",
        "# Problem:  create a string with just the vowels from the text, in order.\n",
        "involved_vowels=[c for c in text if c in VOWELS]\n",
        "#'-'.join(involved_vowels)\n",
        "seen = set()\n",
        "def is_seen(c):\n",
        "  if c in seen:\n",
        "    return True\n",
        "  else:\n",
        "    seen.add(c)\n",
        "    return False\n",
        "#[v for v in involved_vowels if not is_seen(v)]\n",
        "unique = []\n",
        "for v in involved_vowels:\n",
        "  if not is_seen(v):\n",
        "    unique.append(v)\n",
        "unique"
      ],
      "metadata": {
        "pycharm": {
          "name": "#%%\n"
        },
        "colab": {
          "base_uri": "https://localhost:8080/"
        },
        "id": "eJZfz1oMJ16d",
        "outputId": "ba7f665d-06af-4a6b-b1fc-8be21d079793"
      }
    },
    {
      "cell_type": "markdown",
      "source": [
        "## Data Wrangling with List Comprehension\n",
        "E-learn's Live Quiz module does track quiz scores for each student, but does not store them in the gradebook,\n",
        "and it reports on them in the most useless way.\n",
        "\n",
        "Let's do some \"data wrangling\" to make sense out of this mess!\n",
        "\n",
        "### The Problem: Unstructured Data!\n",
        "Notice it is just a single large string!  The real data set has 36 students, and I need to do this every week!"
      ],
      "metadata": {
        "collapsed": false,
        "pycharm": {
          "name": "#%% md\n"
        },
        "id": "wOIoYD3UJ16f"
      }
    },
    {
      "cell_type": "code",
      "execution_count": 19,
      "outputs": [],
      "source": [
        "quiz = \"\"\"\n",
        "  1.                 Ali Oop scored  7/ 8 = 87%\n",
        "\n",
        "\n",
        "  2.          Alison Ralison scored  8/ 8 = 100%\n",
        "\n",
        "\n",
        "  3.         Ambily Piturbed scored  8/ 8 = 100%\n",
        "\n",
        "\n",
        "  4.  Arshan Risnot Farquared scored  5/ 8 = 62%\n",
        "\n",
        "\n",
        "  5.       Ayushma Jugernaugh scored  5/ 8 = 62%\n",
        "\n",
        "\n",
        "  6.       Brayden Labaguette scored  7/ 8 = 87%\n",
        "\"\"\""
      ],
      "metadata": {
        "pycharm": {
          "name": "#%%\n"
        },
        "id": "raaZdOVVJ16g"
      }
    },
    {
      "cell_type": "markdown",
      "source": [
        "### Goal\n",
        "Turn this into structured data: a list of 2-tuples, each student's full name and their integer score."
      ],
      "metadata": {
        "collapsed": false,
        "pycharm": {
          "name": "#%% md\n"
        },
        "id": "fzzsjQ14J16l"
      }
    },
    {
      "cell_type": "code",
      "execution_count": 20,
      "outputs": [
        {
          "output_type": "error",
          "ename": "SyntaxError",
          "evalue": "ignored",
          "traceback": [
            "\u001b[0;36m  File \u001b[0;32m\"<ipython-input-20-ac4db5bdea73>\"\u001b[0;36m, line \u001b[0;32m2\u001b[0m\n\u001b[0;31m    scores = [(line[:-2]),int(line[-1][:-1]) for line in lines]\u001b[0m\n\u001b[0m                                             ^\u001b[0m\n\u001b[0;31mSyntaxError\u001b[0m\u001b[0;31m:\u001b[0m invalid syntax\n"
          ]
        }
      ],
      "source": [
        "lines = [line.split()[1:-3] for line in quiz.split('\\n') if line]\n",
        "scores = [(line[:-2]),int(line[-1][:-1]) for line in lines]\n",
        "scores"
      ],
      "metadata": {
        "pycharm": {
          "name": "#%%\n"
        },
        "colab": {
          "base_uri": "https://localhost:8080/",
          "height": 130
        },
        "id": "5r4qktouJ16m",
        "outputId": "0b7ef6d6-42ec-4a33-fb64-5cc5e7413e79"
      }
    },
    {
      "cell_type": "markdown",
      "source": [
        "## Records\n",
        "A *record* is a compound data value - a collection of simpler data values (fields) that all describe a single entity.\n",
        "\n",
        " * tuple\n",
        " * dictionary\n",
        " * object\n",
        "\n",
        "Problem: develop the data representation for a `student` in a student record system,\n",
        "where a `student` has a first and last name, student id, and date of birth"
      ],
      "metadata": {
        "collapsed": false,
        "id": "QBk2YXHYJ16m"
      }
    },
    {
      "cell_type": "code",
      "source": [
        "# Tuple\n",
        "tuple_students = [\n",
        "('Bob', '', 'Squarepants', 123456789, datetime.date(year = 1994, month = 2, day = 25)),\n",
        "('Dora', '',  'Explora', 192837465, datetime.date(year = 2001, month = 6, day = 13))\n",
        "]\n",
        "# s = s_records[-1]\n",
        "# age = datetime.date.today() - s[4]\n",
        "# age.days // 365\n",
        "# Dictionary\n",
        "dict_students = [\n",
        "    {\n",
        "      'first': 'Bob',\n",
        "      'last' : 'SqaurePants',\n",
        "      'sn': 123456789,\n",
        "      'dob': datetime.date(year = 1994, month = 2, day = 25)\n",
        "    },\n",
        "    {\n",
        "      'first': 'Dora',\n",
        "      'middle':'The',\n",
        "      'last' : 'Explora',\n",
        "      'sn': 192837465,\n",
        "      'dob': datetime.date(year = 2001, month = 6, day = 13)\n",
        "    }\n",
        "]\n",
        "s = dict_students[-1]\n",
        "s['dob']\n",
        "\n",
        "students = [\n",
        "    {'first':s[0], 'last':s[2], 'sn':s[3], 'dob':s[4]} for s in tuple_students\n",
        "]\n",
        "students"
      ],
      "metadata": {
        "id": "Ai9qb3Bolw4h",
        "outputId": "3f8d406a-7499-41f7-86bf-8d34e15e97fd",
        "colab": {
          "base_uri": "https://localhost:8080/"
        }
      },
      "execution_count": 40,
      "outputs": [
        {
          "output_type": "execute_result",
          "data": {
            "text/plain": [
              "[{'first': 'Bob',\n",
              "  'last': 'Squarepants',\n",
              "  'sn': 123456789,\n",
              "  'dob': datetime.date(1994, 2, 25)},\n",
              " {'first': 'Dora',\n",
              "  'last': 'Explora',\n",
              "  'sn': 192837465,\n",
              "  'dob': datetime.date(2001, 6, 13)}]"
            ]
          },
          "metadata": {},
          "execution_count": 40
        }
      ]
    },
    {
      "cell_type": "code",
      "source": [
        "# Objects\n",
        "from dataclasses import dataclass\n",
        "@dataclass\n",
        "class Student(): #uppercase first letter is reserved for naming of classes\n",
        "  first: str\n",
        "  last: str\n",
        "  sn : int\n",
        "  dob : datetime.date\n",
        "\n",
        "  def full_name(self):\n",
        "    return f'{self.first} {self.last}'\n",
        "\n",
        "students = [\n",
        "    Student('Bob', 'Squarepants', 123456789, datetime.date(year = 1994, month = 2, day = 25)),\n",
        "    Student('Dora',  'Explora', 192837465, datetime.date(year = 2001, month = 6, day = 13))\n",
        "]\n",
        "dora = [s for s in students if s.first == 'Bob'][0]\n",
        "dora.dob #Traditionally read backwards, with the . operator as the word of (D.O.B of Dora)\n",
        "#dora.full_name() #nothing in the bracket, as the first parameter is on the left side of the dot operator\n",
        "Student.full_name(dora) #exact same as above code, just a bit more ugly"
      ],
      "metadata": {
        "id": "Mw7YQyxT-VLu",
        "outputId": "349a1b88-744c-4e24-80c4-c3841d83c802",
        "colab": {
          "base_uri": "https://localhost:8080/",
          "height": 35
        }
      },
      "execution_count": 55,
      "outputs": [
        {
          "output_type": "execute_result",
          "data": {
            "text/plain": [
              "'Bob Squarepants'"
            ],
            "application/vnd.google.colaboratory.intrinsic+json": {
              "type": "string"
            }
          },
          "metadata": {},
          "execution_count": 55
        }
      ]
    },
    {
      "cell_type": "code",
      "execution_count": null,
      "outputs": [],
      "source": [],
      "metadata": {
        "pycharm": {
          "name": "#%%\n"
        },
        "id": "mWNZGACZJ16o"
      }
    }
  ]
}