{
  "nbformat": 4,
  "nbformat_minor": 0,
  "metadata": {
    "colab": {
      "provenance": [],
      "authorship_tag": "ABX9TyM48f9CiN1X4+kB8UrZbfxk",
      "include_colab_link": true
    },
    "kernelspec": {
      "name": "python3",
      "display_name": "Python 3"
    },
    "language_info": {
      "name": "python"
    }
  },
  "cells": [
    {
      "cell_type": "markdown",
      "metadata": {
        "id": "view-in-github",
        "colab_type": "text"
      },
      "source": [
        "<a href=\"https://colab.research.google.com/github/StoneMason495/cap-comp215/blob/main/COMP215Final.ipynb\" target=\"_parent\"><img src=\"https://colab.research.google.com/assets/colab-badge.svg\" alt=\"Open In Colab\"/></a>"
      ]
    },
    {
      "cell_type": "markdown",
      "source": [
        "#Prisoners Dilemma:\n",
        "####By Zach Mason, COMP 215\n",
        "\n",
        "\n",
        "The Prisoners Dilemma is a segment of game theory, the study of how and why people make certain decisions. The idea of the game is that two criminals are arrested, and placed into separate rooms for questioning. They have no way of communicating with one another"
      ],
      "metadata": {
        "id": "85QyF6-iVzX5"
      }
    },
    {
      "cell_type": "code",
      "execution_count": 54,
      "metadata": {
        "id": "6VDgU60YT0YC"
      },
      "outputs": [],
      "source": [
        "import numpy as np\n",
        "import random\n",
        "import matplotlib\n",
        "import matplotlib.pyplot as plt"
      ]
    },
    {
      "cell_type": "markdown",
      "source": [
        "## Prisoner Class:"
      ],
      "metadata": {
        "id": "vZAjKHbDVyEm"
      }
    },
    {
      "cell_type": "code",
      "source": [
        "class Prisoner:\n",
        "  #every possible combination of the 'opponents' last two moves, either ('C') cooperate with the other prisoner, or ('D') defect in the hope of a lesser sentence\n",
        "  lasttwo_sims = [(None, None), #The none here means that less than two games of prisoners dilemma have been played\n",
        "                  (None, 'C'),\n",
        "                  (None, 'D'),\n",
        "                  ('C', 'C'),\n",
        "                  ('C', 'D'),\n",
        "                  ('D', 'C'),\n",
        "                  ('D', 'D')]\n",
        "\n",
        "  def __init__(self, reactions, sentence=np.nan):\n",
        "    self.reactions = reactions if type(reactions) == list else list(reactions)\n",
        "    self.combinations = dict(zip(self.lasttwo_sims, reactions))\n",
        "    self.sentence = sentence\n",
        "\n",
        "  def reset(self):\n",
        "    self.hist = [None, None]\n",
        "    self.score = 0\n",
        "\n",
        "  def mutate(self):\n",
        "    '''Randomly select one element of the list to switch to the alternative choice (from 'C' to 'D' or vice versa)'''\n",
        "    index = np.random.choice(len(self.reactions))\n",
        "    self.reactions[index] = 'C' if self.reactions[index]== 'D' else 'D'\n",
        "    return self.reactions\n",
        "\n",
        "  def copy(self, p_mutation=0.05):\n",
        "    '''Create a clone of the Prisoner, with a chance to change one of the elements to the alternate choice'''\n",
        "    if random.random() > p_mutation:\n",
        "      reactions = self.reactions\n",
        "    else:\n",
        "      self.mutate()\n",
        "    return Prisoner(reactions)\n",
        "  \n",
        "  def past_responses(self, past=2):\n",
        "    '''returns a tuple of the last two responses'''\n",
        "    return (tuple(self.hist[-past:]))\n",
        "  \n",
        "  def respond(self, other):\n",
        "    hist_key = other.past_responses()\n",
        "    response = self.combinations[hist_key]\n",
        "    return response\n",
        "\n",
        "  def append(self, response, payoff):\n",
        "    self.hist.append(response)\n",
        "    self.score += payoff\n",
        "\n",
        "  def random_agents(n_agents):\n",
        "    agentlist = [Prisoner(np.random.choice(['C', 'D'], size = 7)) for i in range(n_agents)]\n",
        "    return agentlist\n",
        "\n",
        "  def identical_prisoners(n_prisoners, val):\n",
        "    p_list = [Prisoner(val) for i in range (n_prisoners)]\n",
        "    return p_list\n"
      ],
      "metadata": {
        "id": "44MI_Y8gUO3q"
      },
      "execution_count": 84,
      "outputs": []
    },
    {
      "cell_type": "code",
      "source": [
        "agent = Prisoner.identical_prisoners(10, ('CCDCDCD'))\n",
        "agent[3].combinations"
      ],
      "metadata": {
        "id": "VVXzO68-T9YH",
        "outputId": "8d607414-7cae-4ad8-8fe7-08f5c6563f24",
        "colab": {
          "base_uri": "https://localhost:8080/"
        }
      },
      "execution_count": 63,
      "outputs": [
        {
          "output_type": "execute_result",
          "data": {
            "text/plain": [
              "{(None, None): 'C',\n",
              " (None, 'C'): 'C',\n",
              " (None, 'D'): 'D',\n",
              " ('C', 'C'): 'C',\n",
              " ('C', 'D'): 'D',\n",
              " ('D', 'C'): 'C',\n",
              " ('D', 'D'): 'D'}"
            ]
          },
          "metadata": {},
          "execution_count": 63
        }
      ]
    },
    {
      "cell_type": "markdown",
      "source": [
        "## Metrics:"
      ],
      "metadata": {
        "id": "B1COCUj_LDAq"
      }
    },
    {
      "cell_type": "code",
      "source": [
        "class Metric:\n",
        "  def __init__(self):\n",
        "    self.metrics = []\n",
        "\n",
        "  def update(self, sim):\n",
        "    pass\n",
        "\n",
        "  def plot(self, **options):\n",
        "    plt.plot(self.metrics, **options)"
      ],
      "metadata": {
        "id": "48kMSDf_a44n"
      },
      "execution_count": 59,
      "outputs": []
    },
    {
      "cell_type": "code",
      "source": [
        "class MeanSentence(Metric):\n",
        "  label = 'Mean Sentence'\n",
        "  \n",
        "  def update(self, sim):\n",
        "    mean = np.nanmean(sim.get_sentences())\n",
        "    self.metrics.append(mean)"
      ],
      "metadata": {
        "id": "cgDTzCmULfs7"
      },
      "execution_count": 60,
      "outputs": []
    },
    {
      "cell_type": "code",
      "source": [
        "class Cooperation(Metric):\n",
        "  label = 'Cooperation Freq.'\n",
        "\n",
        "  def update(self, sim):\n",
        "    responses = [p.reactions[0] for p in sim.prisoners]\n",
        "    metric = np.mean(responses == 'C')\n",
        "    self.metrics.append(metric)"
      ],
      "metadata": {
        "id": "m-mAsMbZLgi7"
      },
      "execution_count": 61,
      "outputs": []
    },
    {
      "cell_type": "markdown",
      "source": [
        "## Tournament Class:"
      ],
      "metadata": {
        "id": "A8j2NtfhLF-0"
      }
    },
    {
      "cell_type": "code",
      "source": [
        "class PD_Tournament:\n",
        "  payoffs = {('C', 'C'): (3, 3),\n",
        "             ('C', 'D'): (0, 5),\n",
        "             ('D', 'C'): (5, 0),\n",
        "             ('D', 'D'): (1, 1)}\n",
        "  num_rounds = 6\n",
        "\n",
        "  def play(self, pri1, pri2):\n",
        "    pri1.reset()\n",
        "    pri2.reset()\n",
        "\n",
        "    for i in range(self.num_rounds):\n",
        "      pri1_resp = pri1.respond(pri2)\n",
        "      pri2_resp = pri2.respond(pri1)\n",
        "\n",
        "      pay1, pay2 = self.payoffs[pri1_resp, pri2_resp]\n",
        "\n",
        "      pri1.append(pri1_resp, pay1)\n",
        "      pri2.append(pri2_resp, pay2)\n",
        "\n",
        "    return pri1.score, pri2.score\n",
        "\n",
        "  def melee(self, agents, randomize=True):\n",
        "    if randomize:\n",
        "      agents = np.random.permutation(agents)\n",
        "\n",
        "    n = len(agents)\n",
        "    row_i = np.arange(n)\n",
        "    row_j = (row_i + 1) % n\n",
        "\n",
        "    totals = np.zeros(n)\n",
        "\n",
        "    for i, j in zip(row_i, row_j):\n",
        "      agent1, agent2 = agents[i], agents[j]\n",
        "      score1, score2 = self.play(agent1, agent2)\n",
        "      totals[i] += score1\n",
        "      totals[j] += score2\n",
        "    \n",
        "    for i in row_i:\n",
        "      agents[i].fitness = totals[i] / self.num_rounds / 2\n"
      ],
      "metadata": {
        "id": "_R4iCwctjuux",
        "outputId": "9139f948-d75c-4ac5-a7fe-16c8382f7416",
        "colab": {
          "base_uri": "https://localhost:8080/"
        }
      },
      "execution_count": 72,
      "outputs": [
        {
          "output_type": "execute_result",
          "data": {
            "text/plain": [
              "10"
            ]
          },
          "metadata": {},
          "execution_count": 72
        }
      ]
    },
    {
      "cell_type": "markdown",
      "source": [
        "## Simulation Class:"
      ],
      "metadata": {
        "id": "VLOJfqnPLaAH"
      }
    },
    {
      "cell_type": "code",
      "source": [
        "class PD_Simulation:\n",
        "  def __init__(self, tournament, prisoners):\n",
        "    self.tournament = tournament\n",
        "    self.prisoners = np.asarray(prisoners)\n",
        "    self.metrics = []\n",
        "\n",
        "  def add_metric(self, metric):\n",
        "    self.metrics.append(metric)\n",
        "\n",
        "  def get_sentences(self):\n",
        "    sent = [prisoner.sentence for prisoner in self.prisoners]\n",
        "    return np.array(sent)\n",
        "\n",
        "  def get_fitnesses(self)\n",
        "\n",
        "  def step(self):\n",
        "    self.tournament.melee(self.prisoners)\n",
        "\n",
        "    n = len(self.prisoners)\n",
        "    sent = self.get_sentences()\n",
        "\n",
        "    self.update_metrics()\n",
        "\n",
        "  def run(self, num_steps=500):\n",
        "    for i in range(num_steps):\n",
        "      self.step()\n",
        "\n",
        "  def update_metrics(self):\n",
        "    for metric in self.metrics:\n",
        "        metric.update(self)\n"
      ],
      "metadata": {
        "id": "whJr3ANsTnL9"
      },
      "execution_count": 82,
      "outputs": []
    },
    {
      "cell_type": "code",
      "source": [
        "tour = PD_Tournament()\n",
        "prisoners = Prisoner.identical_prisoners(100, 'CDCDCDC')\n",
        "sim = PD_Simulation(tour, prisoners)\n",
        "sim.add_metric(MeanSentence())\n",
        "sim.add_metric(Cooperation())\n",
        "sim.run(5000)\n",
        "sim.metrics[0].metrics"
      ],
      "metadata": {
        "id": "HJ3YOP_FTiQj",
        "outputId": "77b9a622-140e-4c6d-bcd1-586e2dfd0f4b",
        "colab": {
          "base_uri": "https://localhost:8080/",
          "height": 345
        }
      },
      "execution_count": 85,
      "outputs": [
        {
          "output_type": "error",
          "ename": "AttributeError",
          "evalue": "ignored",
          "traceback": [
            "\u001b[0;31m---------------------------------------------------------------------------\u001b[0m",
            "\u001b[0;31mAttributeError\u001b[0m                            Traceback (most recent call last)",
            "\u001b[0;32m<ipython-input-85-d03adc62be35>\u001b[0m in \u001b[0;36m<cell line: 6>\u001b[0;34m()\u001b[0m\n\u001b[1;32m      4\u001b[0m \u001b[0msim\u001b[0m\u001b[0;34m.\u001b[0m\u001b[0madd_metric\u001b[0m\u001b[0;34m(\u001b[0m\u001b[0mMeanSentence\u001b[0m\u001b[0;34m(\u001b[0m\u001b[0;34m)\u001b[0m\u001b[0;34m)\u001b[0m\u001b[0;34m\u001b[0m\u001b[0;34m\u001b[0m\u001b[0m\n\u001b[1;32m      5\u001b[0m \u001b[0msim\u001b[0m\u001b[0;34m.\u001b[0m\u001b[0madd_metric\u001b[0m\u001b[0;34m(\u001b[0m\u001b[0mCooperation\u001b[0m\u001b[0;34m(\u001b[0m\u001b[0;34m)\u001b[0m\u001b[0;34m)\u001b[0m\u001b[0;34m\u001b[0m\u001b[0;34m\u001b[0m\u001b[0m\n\u001b[0;32m----> 6\u001b[0;31m \u001b[0msim\u001b[0m\u001b[0;34m.\u001b[0m\u001b[0mrun\u001b[0m\u001b[0;34m(\u001b[0m\u001b[0;36m5000\u001b[0m\u001b[0;34m)\u001b[0m\u001b[0;34m\u001b[0m\u001b[0;34m\u001b[0m\u001b[0m\n\u001b[0m\u001b[1;32m      7\u001b[0m \u001b[0msim\u001b[0m\u001b[0;34m.\u001b[0m\u001b[0mmetrics\u001b[0m\u001b[0;34m[\u001b[0m\u001b[0;36m0\u001b[0m\u001b[0;34m]\u001b[0m\u001b[0;34m.\u001b[0m\u001b[0mmetrics\u001b[0m\u001b[0;34m\u001b[0m\u001b[0;34m\u001b[0m\u001b[0m\n",
            "\u001b[0;32m<ipython-input-82-cdbf5df09c1c>\u001b[0m in \u001b[0;36mrun\u001b[0;34m(self, num_steps)\u001b[0m\n\u001b[1;32m     22\u001b[0m   \u001b[0;32mdef\u001b[0m \u001b[0mrun\u001b[0m\u001b[0;34m(\u001b[0m\u001b[0mself\u001b[0m\u001b[0;34m,\u001b[0m \u001b[0mnum_steps\u001b[0m\u001b[0;34m=\u001b[0m\u001b[0;36m500\u001b[0m\u001b[0;34m)\u001b[0m\u001b[0;34m:\u001b[0m\u001b[0;34m\u001b[0m\u001b[0;34m\u001b[0m\u001b[0m\n\u001b[1;32m     23\u001b[0m     \u001b[0;32mfor\u001b[0m \u001b[0mi\u001b[0m \u001b[0;32min\u001b[0m \u001b[0mrange\u001b[0m\u001b[0;34m(\u001b[0m\u001b[0mnum_steps\u001b[0m\u001b[0;34m)\u001b[0m\u001b[0;34m:\u001b[0m\u001b[0;34m\u001b[0m\u001b[0;34m\u001b[0m\u001b[0m\n\u001b[0;32m---> 24\u001b[0;31m       \u001b[0mself\u001b[0m\u001b[0;34m.\u001b[0m\u001b[0mstep\u001b[0m\u001b[0;34m(\u001b[0m\u001b[0;34m)\u001b[0m\u001b[0;34m\u001b[0m\u001b[0;34m\u001b[0m\u001b[0m\n\u001b[0m\u001b[1;32m     25\u001b[0m \u001b[0;34m\u001b[0m\u001b[0m\n\u001b[1;32m     26\u001b[0m   \u001b[0;32mdef\u001b[0m \u001b[0mupdate_metrics\u001b[0m\u001b[0;34m(\u001b[0m\u001b[0mself\u001b[0m\u001b[0;34m)\u001b[0m\u001b[0;34m:\u001b[0m\u001b[0;34m\u001b[0m\u001b[0;34m\u001b[0m\u001b[0m\n",
            "\u001b[0;32m<ipython-input-82-cdbf5df09c1c>\u001b[0m in \u001b[0;36mstep\u001b[0;34m(self)\u001b[0m\n\u001b[1;32m     18\u001b[0m     \u001b[0msent\u001b[0m \u001b[0;34m=\u001b[0m \u001b[0mself\u001b[0m\u001b[0;34m.\u001b[0m\u001b[0mget_sentences\u001b[0m\u001b[0;34m(\u001b[0m\u001b[0;34m)\u001b[0m\u001b[0;34m\u001b[0m\u001b[0;34m\u001b[0m\u001b[0m\n\u001b[1;32m     19\u001b[0m \u001b[0;34m\u001b[0m\u001b[0m\n\u001b[0;32m---> 20\u001b[0;31m     \u001b[0mself\u001b[0m\u001b[0;34m.\u001b[0m\u001b[0mupdate_metrics\u001b[0m\u001b[0;34m(\u001b[0m\u001b[0;34m)\u001b[0m\u001b[0;34m\u001b[0m\u001b[0;34m\u001b[0m\u001b[0m\n\u001b[0m\u001b[1;32m     21\u001b[0m \u001b[0;34m\u001b[0m\u001b[0m\n\u001b[1;32m     22\u001b[0m   \u001b[0;32mdef\u001b[0m \u001b[0mrun\u001b[0m\u001b[0;34m(\u001b[0m\u001b[0mself\u001b[0m\u001b[0;34m,\u001b[0m \u001b[0mnum_steps\u001b[0m\u001b[0;34m=\u001b[0m\u001b[0;36m500\u001b[0m\u001b[0;34m)\u001b[0m\u001b[0;34m:\u001b[0m\u001b[0;34m\u001b[0m\u001b[0;34m\u001b[0m\u001b[0m\n",
            "\u001b[0;32m<ipython-input-82-cdbf5df09c1c>\u001b[0m in \u001b[0;36mupdate_metrics\u001b[0;34m(self)\u001b[0m\n\u001b[1;32m     26\u001b[0m   \u001b[0;32mdef\u001b[0m \u001b[0mupdate_metrics\u001b[0m\u001b[0;34m(\u001b[0m\u001b[0mself\u001b[0m\u001b[0;34m)\u001b[0m\u001b[0;34m:\u001b[0m\u001b[0;34m\u001b[0m\u001b[0;34m\u001b[0m\u001b[0m\n\u001b[1;32m     27\u001b[0m     \u001b[0;32mfor\u001b[0m \u001b[0mmetric\u001b[0m \u001b[0;32min\u001b[0m \u001b[0mself\u001b[0m\u001b[0;34m.\u001b[0m\u001b[0mmetrics\u001b[0m\u001b[0;34m:\u001b[0m\u001b[0;34m\u001b[0m\u001b[0;34m\u001b[0m\u001b[0m\n\u001b[0;32m---> 28\u001b[0;31m         \u001b[0mmetric\u001b[0m\u001b[0;34m.\u001b[0m\u001b[0mupdate\u001b[0m\u001b[0;34m(\u001b[0m\u001b[0mself\u001b[0m\u001b[0;34m)\u001b[0m\u001b[0;34m\u001b[0m\u001b[0;34m\u001b[0m\u001b[0m\n\u001b[0m",
            "\u001b[0;32m<ipython-input-60-ee48d09d73fd>\u001b[0m in \u001b[0;36mupdate\u001b[0;34m(self, sim)\u001b[0m\n\u001b[1;32m      3\u001b[0m \u001b[0;34m\u001b[0m\u001b[0m\n\u001b[1;32m      4\u001b[0m   \u001b[0;32mdef\u001b[0m \u001b[0mupdate\u001b[0m\u001b[0;34m(\u001b[0m\u001b[0mself\u001b[0m\u001b[0;34m,\u001b[0m \u001b[0msim\u001b[0m\u001b[0;34m)\u001b[0m\u001b[0;34m:\u001b[0m\u001b[0;34m\u001b[0m\u001b[0;34m\u001b[0m\u001b[0m\n\u001b[0;32m----> 5\u001b[0;31m     \u001b[0mmean\u001b[0m \u001b[0;34m=\u001b[0m \u001b[0mnp\u001b[0m\u001b[0;34m.\u001b[0m\u001b[0mnanmean\u001b[0m\u001b[0;34m(\u001b[0m\u001b[0msim\u001b[0m\u001b[0;34m.\u001b[0m\u001b[0mget_fitnesses\u001b[0m\u001b[0;34m(\u001b[0m\u001b[0;34m)\u001b[0m\u001b[0;34m)\u001b[0m\u001b[0;34m\u001b[0m\u001b[0;34m\u001b[0m\u001b[0m\n\u001b[0m\u001b[1;32m      6\u001b[0m     \u001b[0mself\u001b[0m\u001b[0;34m.\u001b[0m\u001b[0mmetrics\u001b[0m\u001b[0;34m.\u001b[0m\u001b[0mappend\u001b[0m\u001b[0;34m(\u001b[0m\u001b[0mmean\u001b[0m\u001b[0;34m)\u001b[0m\u001b[0;34m\u001b[0m\u001b[0;34m\u001b[0m\u001b[0m\n",
            "\u001b[0;31mAttributeError\u001b[0m: 'PD_Simulation' object has no attribute 'get_fitnesses'"
          ]
        }
      ]
    }
  ]
}