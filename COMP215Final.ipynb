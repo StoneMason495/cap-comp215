{
  "nbformat": 4,
  "nbformat_minor": 0,
  "metadata": {
    "colab": {
      "provenance": [],
      "authorship_tag": "ABX9TyPreOsNuXJCLSspMs/d3HRV",
      "include_colab_link": true
    },
    "kernelspec": {
      "name": "python3",
      "display_name": "Python 3"
    },
    "language_info": {
      "name": "python"
    }
  },
  "cells": [
    {
      "cell_type": "markdown",
      "metadata": {
        "id": "view-in-github",
        "colab_type": "text"
      },
      "source": [
        "<a href=\"https://colab.research.google.com/github/StoneMason495/cap-comp215/blob/main/COMP215Final.ipynb\" target=\"_parent\"><img src=\"https://colab.research.google.com/assets/colab-badge.svg\" alt=\"Open In Colab\"/></a>"
      ]
    },
    {
      "cell_type": "markdown",
      "source": [
        "#Prisoners Dilemma:\n",
        "####By Zach Mason, COMP 215\n",
        "\n",
        "\n",
        "The Prisoners Dilemma is a segment of game theory, the study of how and why people make certain decisions. The idea of the game is that two criminals are arrested, and placed into separate rooms for questioning. They have no way of communicating with one another"
      ],
      "metadata": {
        "id": "85QyF6-iVzX5"
      }
    },
    {
      "cell_type": "code",
      "execution_count": 92,
      "metadata": {
        "id": "6VDgU60YT0YC"
      },
      "outputs": [],
      "source": [
        "import numpy as np\n",
        "import random\n",
        "import matplotlib\n",
        "import matplotlib.pyplot as plt"
      ]
    },
    {
      "cell_type": "markdown",
      "source": [
        "## Prisoner Class:"
      ],
      "metadata": {
        "id": "vZAjKHbDVyEm"
      }
    },
    {
      "cell_type": "code",
      "source": [
        "class Prisoner:\n",
        "  #every possible combination of the 'opponents' last two moves, either ('C') cooperate with the other prisoner, or ('D') defect in the hope of a lesser sentence\n",
        "  lasttwo_sims = [(None, None), #The none here means that less than two games of prisoners dilemma have been played\n",
        "                  (None, 'C'),\n",
        "                  (None, 'D'),\n",
        "                  ('C', 'C'),\n",
        "                  ('C', 'D'),\n",
        "                  ('D', 'C'),\n",
        "                  ('D', 'D')]\n",
        "\n",
        "  def __init__(self, reactions, sentence=np.nan):\n",
        "    self.reactions = reactions if type(reactions) == list else list(reactions)\n",
        "    self.combinations = dict(zip(self.lasttwo_sims, reactions))\n",
        "    self.sentence = sentence\n",
        "\n",
        "  def reset(self):\n",
        "    self.hist = [None, None]\n",
        "    self.score = 0\n",
        "\n",
        "  def mutate(self):\n",
        "    '''Randomly select one element of the list to switch to the alternative choice (from 'C' to 'D' or vice versa)'''\n",
        "    index = np.random.choice(len(self.reactions))\n",
        "    self.reactions[index] = 'C' if self.reactions[index]== 'D' else 'D'\n",
        "    return self.reactions\n",
        "\n",
        "  def copy(self, p_mutation=0.05):\n",
        "    '''Create a clone of the Prisoner, with a chance to change one of the elements to the alternate choice'''\n",
        "    if random.random() > p_mutation:\n",
        "      reactions = self.reactions\n",
        "    else:\n",
        "      reactions = self.mutate()\n",
        "    return Prisoner(reactions)\n",
        "  \n",
        "  def past_responses(self, past=2):\n",
        "    '''returns a tuple of the last two responses'''\n",
        "    return (tuple(self.hist[-past:]))\n",
        "  \n",
        "  def respond(self, other):\n",
        "    hist_key = other.past_responses()\n",
        "    response = self.combinations[hist_key]\n",
        "    return response\n",
        "\n",
        "  def append(self, response, payoff):\n",
        "    self.hist.append(response)\n",
        "    self.score += payoff\n",
        "\n",
        "  def random_agents(n_agents):\n",
        "    agentlist = [Prisoner(np.random.choice(['C', 'D'], size = 7)) for i in range(n_agents)]\n",
        "    return agentlist\n",
        "\n",
        "  def identical_prisoners(n_prisoners, val):\n",
        "    p_list = [Prisoner(val) for i in range (n_prisoners)]\n",
        "    return p_list\n"
      ],
      "metadata": {
        "id": "44MI_Y8gUO3q"
      },
      "execution_count": 129,
      "outputs": []
    },
    {
      "cell_type": "code",
      "source": [
        "agent = Prisoner.identical_prisoners(10, ('CCDCDCD'))\n",
        "agent[3].combinations"
      ],
      "metadata": {
        "id": "VVXzO68-T9YH",
        "outputId": "8c6f9a8a-7f92-4ad8-f800-98257e099af8",
        "colab": {
          "base_uri": "https://localhost:8080/"
        }
      },
      "execution_count": 94,
      "outputs": [
        {
          "output_type": "execute_result",
          "data": {
            "text/plain": [
              "{(None, None): 'C',\n",
              " (None, 'C'): 'C',\n",
              " (None, 'D'): 'D',\n",
              " ('C', 'C'): 'C',\n",
              " ('C', 'D'): 'D',\n",
              " ('D', 'C'): 'C',\n",
              " ('D', 'D'): 'D'}"
            ]
          },
          "metadata": {},
          "execution_count": 94
        }
      ]
    },
    {
      "cell_type": "markdown",
      "source": [
        "## Metrics:"
      ],
      "metadata": {
        "id": "B1COCUj_LDAq"
      }
    },
    {
      "cell_type": "code",
      "source": [
        "class Metric:\n",
        "  def __init__(self):\n",
        "    self.metrics = []\n",
        "\n",
        "  def update(self, sim):\n",
        "    pass\n",
        "\n",
        "  def plot(self, **options):\n",
        "    plt.plot(self.metrics, **options)"
      ],
      "metadata": {
        "id": "48kMSDf_a44n"
      },
      "execution_count": 95,
      "outputs": []
    },
    {
      "cell_type": "code",
      "source": [
        "class MeanSentence(Metric):\n",
        "  label = 'Mean Sentence'\n",
        "  \n",
        "  def update(self, sim):\n",
        "    mean = np.nanmean(sim.get_sentences())\n",
        "    self.metrics.append(mean)"
      ],
      "metadata": {
        "id": "cgDTzCmULfs7"
      },
      "execution_count": 96,
      "outputs": []
    },
    {
      "cell_type": "code",
      "source": [
        "class Cooperation(Metric):\n",
        "  label = 'Cooperation Freq.'\n",
        "\n",
        "  def update(self, sim):\n",
        "    responses = np.array([p.reactions[0] for p in sim.prisoners])\n",
        "    metric = np.mean(responses == 'C')\n",
        "    self.metrics.append(metric)"
      ],
      "metadata": {
        "id": "m-mAsMbZLgi7"
      },
      "execution_count": 97,
      "outputs": []
    },
    {
      "cell_type": "markdown",
      "source": [
        "## Tournament Class:"
      ],
      "metadata": {
        "id": "A8j2NtfhLF-0"
      }
    },
    {
      "cell_type": "code",
      "source": [
        "class PD_Tournament:\n",
        "  payoffs = {('C', 'C'): (3, 3),\n",
        "             ('C', 'D'): (0, 5),\n",
        "             ('D', 'C'): (5, 0),\n",
        "             ('D', 'D'): (1, 1)}\n",
        "  num_rounds = 6\n",
        "\n",
        "  def play(self, pri1, pri2):\n",
        "    pri1.reset()\n",
        "    pri2.reset()\n",
        "\n",
        "    for i in range(self.num_rounds):\n",
        "      pri1_resp = pri1.respond(pri2)\n",
        "      pri2_resp = pri2.respond(pri1)\n",
        "\n",
        "      pay1, pay2 = self.payoffs[pri1_resp, pri2_resp]\n",
        "\n",
        "      pri1.append(pri1_resp, pay1)\n",
        "      pri2.append(pri2_resp, pay2)\n",
        "\n",
        "    return pri1.score, pri2.score\n",
        "\n",
        "  def melee(self, agents, randomize=True):\n",
        "    if randomize:\n",
        "      agents = np.random.permutation(agents)\n",
        "\n",
        "    n = len(agents)\n",
        "    row_i = np.arange(n)\n",
        "    row_j = (row_i + 1) % n\n",
        "\n",
        "    totals = np.zeros(n)\n",
        "\n",
        "    for i, j in zip(row_i, row_j):\n",
        "      agent1, agent2 = agents[i], agents[j]\n",
        "      score1, score2 = self.play(agent1, agent2)\n",
        "      totals[i] += score1\n",
        "      totals[j] += score2\n",
        "    \n",
        "    for i in row_i:\n",
        "      agents[i].sentence = totals[i] / self.num_rounds / 2\n"
      ],
      "metadata": {
        "id": "_R4iCwctjuux"
      },
      "execution_count": 98,
      "outputs": []
    },
    {
      "cell_type": "code",
      "source": [
        "agents = Prisoner.random_agents(10)\n",
        "tour = PD_Tournament()\n",
        "tour.melee(agents)\n",
        "agents[5].sentence"
      ],
      "metadata": {
        "id": "3ZRs4axmPifQ",
        "outputId": "776edd83-af06-480e-d782-03cf03fa5f35",
        "colab": {
          "base_uri": "https://localhost:8080/"
        }
      },
      "execution_count": 99,
      "outputs": [
        {
          "output_type": "execute_result",
          "data": {
            "text/plain": [
              "2.8333333333333335"
            ]
          },
          "metadata": {},
          "execution_count": 99
        }
      ]
    },
    {
      "cell_type": "markdown",
      "source": [
        "## Simulation Class:"
      ],
      "metadata": {
        "id": "VLOJfqnPLaAH"
      }
    },
    {
      "cell_type": "code",
      "source": [
        "class PD_Simulation:\n",
        "  def __init__(self, tournament, prisoners):\n",
        "    self.tournament = tournament\n",
        "    self.prisoners = np.asarray(prisoners)\n",
        "    self.metrics = []\n",
        "\n",
        "  def add_metric(self, metric):\n",
        "    self.metrics.append(metric)\n",
        "\n",
        "  def get_sentences(self):\n",
        "    sent = [prisoner.sentence for prisoner in self.prisoners]\n",
        "    return np.array(sent)\n",
        "\n",
        "  def step(self):\n",
        "    self.tournament.melee(self.prisoners)\n",
        "\n",
        "    n = len(self.prisoners)\n",
        "    sent = self.get_sentences()\n",
        "    \n",
        "    index_gone = self.remove_prisoners(sent)\n",
        "    num_gone = len(index_gone)\n",
        "\n",
        "    replacements = self.replace_prisoners(num_gone, sent)\n",
        "    self.prisoners[index_gone] = replacements\n",
        "\n",
        "    self.update_metrics()\n",
        "\n",
        "  def run(self, num_steps=500):\n",
        "\n",
        "    for i in range(num_steps):\n",
        "      self.step()\n",
        "\n",
        "  def update_metrics(self):\n",
        "    for metric in self.metrics:\n",
        "        metric.update(self)\n",
        "\n",
        "  def remove_prisoners(self, ps):\n",
        "    n = len(self.prisoners)\n",
        "    remove = np.random.random(n) < 0.1\n",
        "    index_out = np.nonzero(remove)[0]\n",
        "    return index_out\n",
        "\n",
        "  def replace_prisoners(self, n, weights):\n",
        "    prisoners = np.random.choice(self.prisoners, size=n, replace=True)\n",
        "    replacements = [prisoner.copy() for prisoner in prisoners]\n",
        "    return replacements\n"
      ],
      "metadata": {
        "id": "whJr3ANsTnL9"
      },
      "execution_count": 124,
      "outputs": []
    },
    {
      "cell_type": "code",
      "source": [
        "tourney = PD_Tournament()\n",
        "prisoners = Prisoner.identical_prisoners(100, 'DDDDDDD')\n",
        "# prisoners = Prisoner.random_agents(10)\n",
        "sim = PD_Simulation(tourney, prisoners)\n",
        "sim.add_metric(MeanSentence())\n",
        "# sim.add_metric(Cooperation())\n",
        "sim.run(5000)"
      ],
      "metadata": {
        "id": "HJ3YOP_FTiQj"
      },
      "execution_count": 135,
      "outputs": []
    },
    {
      "cell_type": "code",
      "source": [
        "plt.plot(range(5000), sim.metrics[0].metrics)"
      ],
      "metadata": {
        "id": "gJ1aQZ7oPU6h",
        "outputId": "fe42cd71-8f4e-4e90-c7b2-0b200f1b7e28",
        "colab": {
          "base_uri": "https://localhost:8080/",
          "height": 447
        }
      },
      "execution_count": 136,
      "outputs": [
        {
          "output_type": "execute_result",
          "data": {
            "text/plain": [
              "[<matplotlib.lines.Line2D at 0x7fb63e73e4f0>]"
            ]
          },
          "metadata": {},
          "execution_count": 136
        },
        {
          "output_type": "display_data",
          "data": {
            "text/plain": [
              "<Figure size 640x480 with 1 Axes>"
            ],
            "image/png": "[encoded data removed]"
          },
          "metadata": {}
        }
      ]
    }
  ]
}