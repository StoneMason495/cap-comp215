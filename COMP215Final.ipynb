{
  "nbformat": 4,
  "nbformat_minor": 0,
  "metadata": {
    "colab": {
      "provenance": [],
      "authorship_tag": "ABX9TyMhGepBUyoUYgtB7Hp+O7lh",
      "include_colab_link": true
    },
    "kernelspec": {
      "name": "python3",
      "display_name": "Python 3"
    },
    "language_info": {
      "name": "python"
    }
  },
  "cells": [
    {
      "cell_type": "markdown",
      "metadata": {
        "id": "view-in-github",
        "colab_type": "text"
      },
      "source": [
        "<a href=\"https://colab.research.google.com/github/StoneMason495/cap-comp215/blob/main/COMP215Final.ipynb\" target=\"_parent\"><img src=\"https://colab.research.google.com/assets/colab-badge.svg\" alt=\"Open In Colab\"/></a>"
      ]
    },
    {
      "cell_type": "markdown",
      "source": [
        "#Prisoners Dilemma:\n",
        "####By Zach Mason, COMP 215\n",
        "\n",
        "\n",
        "The Prisoners Dilemma is a segment of game theory, the study of how and why people make certain decisions. The idea of the game is that two criminals are arrested, and placed into separate rooms for questioning. They have no way of communicating with one another"
      ],
      "metadata": {
        "id": "85QyF6-iVzX5"
      }
    },
    {
      "cell_type": "code",
      "execution_count": null,
      "metadata": {
        "id": "6VDgU60YT0YC"
      },
      "outputs": [],
      "source": [
        "import numpy as np\n",
        "import random"
      ]
    },
    {
      "cell_type": "markdown",
      "source": [],
      "metadata": {
        "id": "vZAjKHbDVyEm"
      }
    },
    {
      "cell_type": "code",
      "source": [
        "class Prisoner:\n",
        "  #every possible combination of the 'opponents' last two moves, either ('C') cooperate with the other prisoner, or ('D') defect in the hope of a lesser sentence\n",
        "  lasttwo_sims = [(None, None), #The none here means that less than two games of prisoners dilemma have been played\n",
        "                  (None, 'C'),\n",
        "                  (None, 'D'),\n",
        "                  ('C', 'C'),\n",
        "                  ('C', 'D'),\n",
        "                  ('D', 'C'),\n",
        "                  ('D', 'D')]\n",
        "\n",
        "  def __init__(self, reactions):\n",
        "    self.reactions = reactions if type(reactions) == list else list(reactions)\n",
        "    self.combinations = dict(zip(self.lasttwo_sims, reactions))\n",
        "\n",
        "  def reset(self):\n",
        "    self.hist = [None, None]\n",
        "    self.score = 0\n",
        "\n",
        "  def mutate(self):\n",
        "    '''Randomly select one element of the list to switch to the alternative choice (from 'C' to 'D' or vice versa)'''\n",
        "    index = np.random.choice(len(self.reactions))\n",
        "    self.reactions[index] = 'C' if self.reactions[index]== 'D' else 'D'\n",
        "    return self.reactions\n",
        "\n",
        "  def copy(self, p_mutation=0.05):\n",
        "    '''Create a clone of the Prisoner, with a chance to change one of the elements to the alternate choice'''\n",
        "    if random.random() > p_mutation:\n",
        "      reactions = self.reactions\n",
        "    else:\n",
        "      self.mutate()\n",
        "    return Prisoner(reactions)\n",
        "  \n",
        "  def past_responses(self, past=2):\n",
        "    '''returns a tuple of the last two responses'''\n",
        "    return (tuple(self.hist[-past:]))\n",
        "  \n",
        "  def respond(self, other):\n",
        "    hist_key = other.past_responses()\n",
        "    response = self.combinations[hist_key]\n",
        "    return response\n",
        "\n",
        "  def append(self, response, payoff):\n",
        "    self.hist.append(response)\n",
        "    self.score += payoff\n"
      ],
      "metadata": {
        "colab": {
          "base_uri": "https://localhost:8080/"
        },
        "id": "44MI_Y8gUO3q",
        "outputId": "6d6872d4-89f2-45d8-ade3-8e8b96e9a199"
      },
      "execution_count": 5,
      "outputs": [
        {
          "output_type": "execute_result",
          "data": {
            "text/plain": [
              "{(None, None): 'C',\n",
              " (None, 'C'): 'D',\n",
              " (None, 'D'): 'C',\n",
              " ('C', 'C'): 'D',\n",
              " ('C', 'D'): 'C',\n",
              " ('D', 'C'): 'D',\n",
              " ('D', 'D'): 'C'}"
            ]
          },
          "metadata": {},
          "execution_count": 5
        }
      ]
    },
    {
      "cell_type": "code",
      "source": [
        "def random_agents(n_agents):\n",
        "  agentlist = [Prisoner(np.random.choice(['C', 'D'], size = 7)) for i in range(n_agents)]\n",
        "  return agentlist\n",
        "\n",
        "agent = random_agents(10)\n",
        "agent[3].combinations"
      ],
      "metadata": {
        "id": "VVXzO68-T9YH",
        "outputId": "318b8601-9295-4e16-a308-2c7ef9fc1da1",
        "colab": {
          "base_uri": "https://localhost:8080/"
        }
      },
      "execution_count": 11,
      "outputs": [
        {
          "output_type": "execute_result",
          "data": {
            "text/plain": [
              "{(None, None): 'C',\n",
              " (None, 'C'): 'C',\n",
              " (None, 'D'): 'D',\n",
              " ('C', 'C'): 'D',\n",
              " ('C', 'D'): 'C',\n",
              " ('D', 'C'): 'D',\n",
              " ('D', 'D'): 'C'}"
            ]
          },
          "metadata": {},
          "execution_count": 11
        }
      ]
    },
    {
      "cell_type": "code",
      "source": [
        "class MeanFitness:\n",
        "  def __init__(self):\n",
        "    self.fitness = []\n",
        "\n",
        "  def update(self, sim):\n",
        "    mean = np.nanmean(sim.get_fitnesses())\n",
        "    self.metrics.append(mean)"
      ],
      "metadata": {
        "id": "48kMSDf_a44n"
      },
      "execution_count": null,
      "outputs": []
    },
    {
      "cell_type": "code",
      "source": [
        "class PD_Tournament:\n",
        "  payoffs = {('C', 'C'): (3, 3),\n",
        "             ('C', 'D'): (0, 5),\n",
        "             ('D', 'C'): (5, 0),\n",
        "             ('D', 'D'): (1, 1)}\n",
        "  num_rounds = 6\n",
        "\n",
        "  def play(self, pri1, pri2):\n",
        "    pri1.reset()\n",
        "    pri2.reset()\n",
        "\n",
        "    for i in range(self.num_rounds):\n",
        "      pri1_resp = pri1.respond(pri2)\n",
        "      pri2_resp = pri2.respond(pri1)\n",
        "\n",
        "      pay1, pay2 = self.payoffs[pri1_resp, pri2_resp]\n",
        "\n",
        "      pri1.append(pri1_resp, pay1)\n",
        "      pri2.append(pri2_resp, pay2)\n",
        "\n",
        "    return pri1.score, pri2.score\n",
        "\n",
        "  def melee(self, agents, randomize=True):\n",
        "    if randomize:\n",
        "      agents = np.random.permutation(agents)\n",
        "\n",
        "    n = len(agents)\n",
        "    row_i = np.arange(n)\n",
        "    row_j = (row_i + 1) % n\n",
        "\n",
        "    totals = np.zeros(n)\n",
        "\n",
        "    for i, j in zip(row_i, row_j):\n",
        "      agent1, agent2 = agents[i], agents[j]\n",
        "      score1, score2 = self.play(agent1, agent2)\n",
        "      totals[i] += score1\n",
        "      totals[j] += score2\n"
      ],
      "metadata": {
        "id": "_R4iCwctjuux"
      },
      "execution_count": null,
      "outputs": []
    },
    {
      "cell_type": "code",
      "source": [
        "class PD_Simulation:\n",
        "  def __init__(self, tournament, prisoners):\n",
        "    self.tournament = tournament\n",
        "    self.prisoners = np.asarray(prisoners)"
      ],
      "metadata": {
        "id": "whJr3ANsTnL9"
      },
      "execution_count": null,
      "outputs": []
    }
  ]
}