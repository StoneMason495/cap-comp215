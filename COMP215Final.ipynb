{
  "nbformat": 4,
  "nbformat_minor": 0,
  "metadata": {
    "colab": {
      "provenance": [],
      "authorship_tag": "ABX9TyP+sWJx2vKRo0WedAGABzDM",
      "include_colab_link": true
    },
    "kernelspec": {
      "name": "python3",
      "display_name": "Python 3"
    },
    "language_info": {
      "name": "python"
    }
  },
  "cells": [
    {
      "cell_type": "markdown",
      "metadata": {
        "id": "view-in-github",
        "colab_type": "text"
      },
      "source": [
        "<a href=\"https://colab.research.google.com/github/StoneMason495/cap-comp215/blob/main/COMP215Final.ipynb\" target=\"_parent\"><img src=\"https://colab.research.google.com/assets/colab-badge.svg\" alt=\"Open In Colab\"/></a>"
      ]
    },
    {
      "cell_type": "markdown",
      "source": [
        "#Prisoners Dilemma:\n",
        "####By Zach Mason, COMP 215\n",
        "\n",
        "\n",
        "The Prisoners Dilemma is a segment of game theory, the study of how and why people make certain decisions. The idea of the game is that two criminals are arrested, and placed into separate rooms for questioning. They have no way of communicating with one another"
      ],
      "metadata": {
        "id": "85QyF6-iVzX5"
      }
    },
    {
      "cell_type": "code",
      "execution_count": 12,
      "metadata": {
        "id": "6VDgU60YT0YC"
      },
      "outputs": [],
      "source": [
        "import numpy as np\n",
        "import random"
      ]
    },
    {
      "cell_type": "markdown",
      "source": [],
      "metadata": {
        "id": "vZAjKHbDVyEm"
      }
    },
    {
      "cell_type": "code",
      "source": [
        "class Prisoner:\n",
        "  #every possible combination of the 'opponents' last two moves, either ('C') cooperate with the other prisoner, or ('D') defect in the hope of a lesser sentence\n",
        "  lasttwo_sims = [(None, None), #The none here means that less than two games of prisoners dilemma have been played\n",
        "                  (None, 'C'),\n",
        "                  (None, 'D'),\n",
        "                  ('C', 'C'),\n",
        "                  ('C', 'D'),\n",
        "                  ('D', 'C'),\n",
        "                  ('D', 'D')]\n",
        "\n",
        "  def __init__(self, reactions):\n",
        "    self.reactions = reactions if type(reactions) == list else list(reactions)\n",
        "    self.combinations = dict(zip(self.lasttwo_sims, reactions))\n",
        "\n",
        "  def mutate(self):\n",
        "    '''Randomly select one element of the list to switch to the alternative choice (from 'C' to 'D' or vice versa)'''\n",
        "    index = np.random.choice(len(self.reactions))\n",
        "    self.reactions[index] = 'C' if self.reactions[index]== 'D' else 'D'\n",
        "    return self.reactions\n",
        "\n",
        "  def copy(self, p_mutation=0.05):\n",
        "    '''Create a clone of the Prisoner, with a chance to change one of the elements to the alternate choice'''\n",
        "    if random.random() > p_mutation:\n",
        "      reactions = self.reactions\n",
        "    else:\n",
        "      self.mutate()\n",
        "    return Prisoner(reactions)\n"
      ],
      "metadata": {
        "colab": {
          "base_uri": "https://localhost:8080/"
        },
        "id": "44MI_Y8gUO3q",
        "outputId": "23c54a6d-6dd0-4122-c332-57195097647b"
      },
      "execution_count": 16,
      "outputs": [
        {
          "output_type": "stream",
          "name": "stdout",
          "text": [
            "['C', 'C', 'C', 'C', 'C', 'C', 'C']\n"
          ]
        },
        {
          "output_type": "execute_result",
          "data": {
            "text/plain": [
              "['D', 'C', 'C', 'C', 'C', 'C', 'C']"
            ]
          },
          "metadata": {},
          "execution_count": 16
        }
      ]
    },
    {
      "cell_type": "code",
      "source": [
        "class PD_Tournament:\n",
        "  payoffs = {('C', 'C'): (3, 3),\n",
        "             ('C', 'D'): (0, 5),\n",
        "             ('D', 'C'): (5, 0),\n",
        "             ('D', 'D'): (1, 1)}\n",
        "  num_rounds = 10"
      ],
      "metadata": {
        "id": "_R4iCwctjuux"
      },
      "execution_count": null,
      "outputs": []
    }
  ]
}