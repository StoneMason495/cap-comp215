{
  "cells": [
    {
      "cell_type": "markdown",
      "metadata": {
        "id": "view-in-github",
        "colab_type": "text"
      },
      "source": [
        "<a href=\"https://colab.research.google.com/github/StoneMason495/cap-comp215/blob/main/lab1ZM.ipynb\" target=\"_parent\"><img src=\"https://colab.research.google.com/assets/colab-badge.svg\" alt=\"Open In Colab\"/></a>"
      ]
    },
    {
      "cell_type": "markdown",
      "metadata": {
        "collapsed": true,
        "pycharm": {
          "name": "#%% md\n"
        },
        "id": "UO4namhuBH3l"
      },
      "source": [
        "COMP 215 - LAB 1\n",
        "----------------\n",
        "#### Name: Zach Mason\n",
        "#### Date: January 9th, 2023\n",
        "\n",
        "This lab exercise is mostly to introduce some of the power in Jupyter Notebooks.\n",
        "Note that a Notebook is composed of \"cells\" - some are \"text\", like this one, while others are \"code\"\n",
        "\n",
        "We'll also review some basic data types (like `int` and `str`) and data structures (like `list` and `dict`)\n",
        "\n",
        "**New Python Concepts**:\n",
        "  * `datetime.date` objects represent a calendar date (these are very powerful)\n",
        "  * *list comprehension* provides a compact way to represent map and filter algorithms\n",
        "\n",
        "As will be usual, the fist code cell, below, simply imports all the modules we'll be using..."
      ]
    },
    {
      "cell_type": "code",
      "source": [
        "import datetime, json, requests\n",
        "import matplotlib.pyplot as plt\n",
        "import  matplotlib.dates as mdates\n",
        "from pprint import pprint    # Pretty Print - built-in python function to nicely format data structures"
      ],
      "metadata": {
        "pycharm": {
          "name": "#%%\n"
        },
        "id": "DqSJNdSdBH3n"
      },
      "execution_count": 1,
      "outputs": []
    },
    {
      "cell_type": "markdown",
      "source": [
        "### API Query\n",
        "\n",
        "Now, let's fetch some Covid-19 daily case-count data from the Open Covid API:  https://opencovid.ca/api/\n",
        "\n",
        "Query:\n",
        "  - `stat=cases`        # the type of data to fetch\n",
        "  - `loc=BC`            # the location to fetch data for\n",
        "  - `after=2022-11-01`  # since the 1st of november (note date format:  yyyy-mm-dd)"
      ],
      "metadata": {
        "collapsed": false,
        "id": "0rnf67FTBH3p"
      }
    },
    {
      "cell_type": "code",
      "execution_count": 9,
      "outputs": [
        {
          "output_type": "stream",
          "name": "stdout",
          "text": [
            "hruid codes for all of Canada can be found here: https://github.com/ccodwg/CovidTimelineCanada/blob/main/geo/hr.csv\n",
            "Input hruid code for desired region: 593\n",
            "Input desired start date (YYYY-MM-DD)2023-01-01\n",
            "https://api.opencovid.ca/timeseries?geo=hr&stat=cases&loc=593&after=2023-01-01\n",
            "Response data type: <class 'str'>\n"
          ]
        }
      ],
      "source": [
        "#Exercise 2 rewrites\n",
        "print(\"hruid codes for all of Canada can be found here: https://github.com/ccodwg/CovidTimelineCanada/blob/main/geo/hr.csv\") #Link to Covid Timeline/hruid codes\n",
        "hr_code = input(\"Input hruid code for desired region: \") #input for hruid code\n",
        "start_date = input(\"Input desired start date (YYYY-MM-DD)\") #input for starting date (must be put in YYYY-MM-DD with dashes)\n",
        "query = f'https://api.opencovid.ca/timeseries?geo=hr&stat=cases&loc={hr_code}&after={start_date}'\n",
        "print(query)\n",
        "response = requests.request(\"GET\", query, headers={}, data={})\n",
        "print('Response data type:', type(response.text))"
      ],
      "metadata": {
        "pycharm": {
          "name": "#%%\n"
        },
        "id": "Al2T68b2BH3p",
        "outputId": "ff478eba-9cc2-48a7-8186-cbce11726f6c",
        "colab": {
          "base_uri": "https://localhost:8080/"
        }
      }
    },
    {
      "cell_type": "markdown",
      "source": [
        "Notice that the response looks like a dictionary, but is actually just a string of text (most data is exchanged on the web as plain text!).  This particular data format is called \"[JSON](https://en.wikipedia.org/wiki/JSON)\" \n",
        "\n",
        "The `json.loads` function \"parses\" such text and loads the data into a dictionary..."
      ],
      "metadata": {
        "collapsed": false,
        "pycharm": {
          "name": "#%% md\n"
        },
        "id": "np4HQTmABH3q"
      }
    },
    {
      "cell_type": "code",
      "execution_count": 10,
      "outputs": [
        {
          "output_type": "stream",
          "name": "stdout",
          "text": [
            "{'data': {'cases': [{'date': '2023-01-01',\n",
            "                     'name': 'cases',\n",
            "                     'region': 'BC',\n",
            "                     'sub_region_1': '593',\n",
            "                     'value': 79913,\n",
            "                     'value_daily': 26},\n",
            "                    {'date': '2023-01-02',\n",
            "                     'name': 'cases',\n",
            "                     'region': 'BC',\n",
            "                     'sub_region_1': '593',\n",
            "                     'value': 79933,\n",
            "                     'value_daily': 20},\n",
            "                    {'date': '2023-01-03',\n",
            "                     'name': 'cases',\n",
            "                     'region': 'BC',\n",
            "                     'sub_region_1': '593',\n",
            "                     'value': 79949,\n",
            "                     'value_daily': 16},\n",
            "                    {'date': '2023-01-04',\n",
            "                     'name': 'cases',\n",
            "                     'region': 'BC',\n",
            "                     'sub_region_1': '593',\n",
            "                     'value': 79969,\n",
            "                     'value_daily': 20},\n",
            "                    {'date': '2023-01-05',\n",
            "                     'name': 'cases',\n",
            "                     'region': 'BC',\n",
            "                     'sub_region_1': '593',\n",
            "                     'value': 79993,\n",
            "                     'value_daily': 24},\n",
            "                    {'date': '2023-01-06',\n",
            "                     'name': 'cases',\n",
            "                     'region': 'BC',\n",
            "                     'sub_region_1': '593',\n",
            "                     'value': 80011,\n",
            "                     'value_daily': 18},\n",
            "                    {'date': '2023-01-07',\n",
            "                     'name': 'cases',\n",
            "                     'region': 'BC',\n",
            "                     'sub_region_1': '593',\n",
            "                     'value': 80029,\n",
            "                     'value_daily': 18}]},\n",
            " 'version': '2023-01-14 10:08 EST'}\n"
          ]
        }
      ],
      "source": [
        "result = json.loads(response.text)\n",
        "pprint(result)   # pretty-print the entire data structure we got back..."
      ],
      "metadata": {
        "pycharm": {
          "name": "#%%\n"
        },
        "id": "M5wV1C_0BH3q",
        "outputId": "14943ae7-a693-486b-ce63-7a1bf6e322b0",
        "colab": {
          "base_uri": "https://localhost:8080/"
        }
      }
    },
    {
      "cell_type": "markdown",
      "source": [
        "### Extract data items from a list of dictionaries\n",
        "Next we use \"list comprehension\" to extract the list of dates and associated cases into \"parallel lists\"\n",
        "\n",
        "Notice how we \"parse\" the date strings, using strptime, into a real date objects so they are easier to work with (format: yyyy-mm-dd)"
      ],
      "metadata": {
        "collapsed": false,
        "pycharm": {
          "name": "#%% md\n"
        },
        "id": "dAXX9kuZBH3r"
      }
    },
    {
      "cell_type": "code",
      "execution_count": 4,
      "outputs": [
        {
          "output_type": "stream",
          "name": "stdout",
          "text": [
            "Dates: ['2022-11-01', '2022-11-02', '2022-11-03', '2022-11-04', '2022-11-05', '2022-11-06', '2022-11-07', '2022-11-08', '2022-11-09', '2022-11-10']\n",
            "Cases: [8, 11, 16, 12, 5, 11, 17, 13, 7, 14]\n",
            "Zipped: [('2022-11-01', 8), ('2022-11-02', 11), ('2022-11-03', 16), ('2022-11-04', 12), ('2022-11-05', 5), ('2022-11-06', 11), ('2022-11-07', 17), ('2022-11-08', 13), ('2022-11-09', 7), ('2022-11-10', 14)]\n"
          ]
        }
      ],
      "source": [
        "cases = result['data']['cases']\n",
        "case_dates = [daily['date'] for daily in cases]     # List Comprehension #1: extract the case date strings\n",
        "n_cases = [daily['value_daily'] for daily in cases] # List Comprehension #2:  extract the case counts\n",
        "\n",
        "print('Dates:', case_dates[:10])      # do you recall the \"slice\" operation?  If not, look it up in the ThinkCsPy textbook!\n",
        "print('Cases:', n_cases[:10])\n",
        "print('Zipped:', list(zip(case_dates[:10], n_cases[:10])))  # zip is a very handy function to \"zip\" 2 lists together like a zipper..."
      ],
      "metadata": {
        "pycharm": {
          "name": "#%%\n"
        },
        "id": "JOFe4vNCBH3s",
        "outputId": "8721cd4c-02b1-4288-d036-508961697227",
        "colab": {
          "base_uri": "https://localhost:8080/"
        }
      }
    },
    {
      "cell_type": "markdown",
      "source": [
        "### Datetime.date\n",
        "Working with date stings is a pain.  So many formats!  Even within Canada, you might see:\n",
        "\"Jan. 9, 2023\" or \"09-01-2023\" or \"2023-01-09\" or ....\n",
        "Imagine trying to do a calculation like \"how many days between these 2 dates\"!!\n",
        "The build-in `datetime` package makes working with dates much easier.\n",
        "  * step 1: \"parse\" the date string data (`strptime` ==  \"string-parse-datetime object\")\n",
        "  * step 2: get the date part (i.e., without the time)"
      ],
      "metadata": {
        "collapsed": false,
        "pycharm": {
          "name": "#%% md\n"
        },
        "id": "2ubRKtjZtASG"
      }
    },
    {
      "cell_type": "code",
      "execution_count": 5,
      "outputs": [
        {
          "output_type": "stream",
          "name": "stdout",
          "text": [
            "[datetime.datetime(2022, 11, 1, 0, 0), datetime.datetime(2022, 11, 2, 0, 0), datetime.datetime(2022, 11, 3, 0, 0), datetime.datetime(2022, 11, 4, 0, 0), datetime.datetime(2022, 11, 5, 0, 0), datetime.datetime(2022, 11, 6, 0, 0), datetime.datetime(2022, 11, 7, 0, 0), datetime.datetime(2022, 11, 8, 0, 0), datetime.datetime(2022, 11, 9, 0, 0), datetime.datetime(2022, 11, 10, 0, 0), datetime.datetime(2022, 11, 11, 0, 0), datetime.datetime(2022, 11, 12, 0, 0), datetime.datetime(2022, 11, 13, 0, 0), datetime.datetime(2022, 11, 14, 0, 0), datetime.datetime(2022, 11, 15, 0, 0), datetime.datetime(2022, 11, 16, 0, 0), datetime.datetime(2022, 11, 17, 0, 0), datetime.datetime(2022, 11, 18, 0, 0), datetime.datetime(2022, 11, 19, 0, 0), datetime.datetime(2022, 11, 20, 0, 0), datetime.datetime(2022, 11, 21, 0, 0), datetime.datetime(2022, 11, 22, 0, 0), datetime.datetime(2022, 11, 23, 0, 0), datetime.datetime(2022, 11, 24, 0, 0), datetime.datetime(2022, 11, 25, 0, 0), datetime.datetime(2022, 11, 26, 0, 0), datetime.datetime(2022, 11, 27, 0, 0), datetime.datetime(2022, 11, 28, 0, 0), datetime.datetime(2022, 11, 29, 0, 0), datetime.datetime(2022, 11, 30, 0, 0), datetime.datetime(2022, 12, 1, 0, 0), datetime.datetime(2022, 12, 2, 0, 0), datetime.datetime(2022, 12, 3, 0, 0), datetime.datetime(2022, 12, 4, 0, 0), datetime.datetime(2022, 12, 5, 0, 0), datetime.datetime(2022, 12, 6, 0, 0), datetime.datetime(2022, 12, 7, 0, 0), datetime.datetime(2022, 12, 8, 0, 0), datetime.datetime(2022, 12, 9, 0, 0), datetime.datetime(2022, 12, 10, 0, 0), datetime.datetime(2022, 12, 11, 0, 0), datetime.datetime(2022, 12, 12, 0, 0), datetime.datetime(2022, 12, 13, 0, 0), datetime.datetime(2022, 12, 14, 0, 0), datetime.datetime(2022, 12, 15, 0, 0), datetime.datetime(2022, 12, 16, 0, 0), datetime.datetime(2022, 12, 17, 0, 0), datetime.datetime(2022, 12, 18, 0, 0), datetime.datetime(2022, 12, 19, 0, 0), datetime.datetime(2022, 12, 20, 0, 0), datetime.datetime(2022, 12, 21, 0, 0), datetime.datetime(2022, 12, 22, 0, 0), datetime.datetime(2022, 12, 23, 0, 0), datetime.datetime(2022, 12, 24, 0, 0), datetime.datetime(2022, 12, 25, 0, 0), datetime.datetime(2022, 12, 26, 0, 0), datetime.datetime(2022, 12, 27, 0, 0), datetime.datetime(2022, 12, 28, 0, 0), datetime.datetime(2022, 12, 29, 0, 0), datetime.datetime(2022, 12, 30, 0, 0), datetime.datetime(2022, 12, 31, 0, 0), datetime.datetime(2023, 1, 1, 0, 0), datetime.datetime(2023, 1, 2, 0, 0), datetime.datetime(2023, 1, 3, 0, 0), datetime.datetime(2023, 1, 4, 0, 0), datetime.datetime(2023, 1, 5, 0, 0), datetime.datetime(2023, 1, 6, 0, 0), datetime.datetime(2023, 1, 7, 0, 0), datetime.datetime(2023, 1, 8, 0, 0), datetime.datetime(2023, 1, 9, 0, 0)]\n",
            "[datetime.date(2022, 11, 1), datetime.date(2022, 11, 2), datetime.date(2022, 11, 3), datetime.date(2022, 11, 4), datetime.date(2022, 11, 5), datetime.date(2022, 11, 6), datetime.date(2022, 11, 7), datetime.date(2022, 11, 8), datetime.date(2022, 11, 9), datetime.date(2022, 11, 10)]\n"
          ]
        }
      ],
      "source": [
        "# parse a datetime object from a string by supplying the correct \"format\" string.\n",
        "datetime_objects = [datetime.datetime.strptime(date, '%Y-%m-%d') for date in case_dates]  # List Comprehension #3\n",
        "print(datetime_objects)\n",
        "# but we only need the \"date\" part...\n",
        "dates = [dt.date() for dt in datetime_objects]\n",
        "print(dates[:10])"
      ],
      "metadata": {
        "pycharm": {
          "name": "#%%\n"
        },
        "id": "2Noa3qsptASG",
        "outputId": "4b59a2b1-2f86-496a-a234-ec373e82b7aa",
        "colab": {
          "base_uri": "https://localhost:8080/"
        }
      }
    },
    {
      "cell_type": "markdown",
      "source": [
        "## Exercise 1\n",
        "\n",
        "In the code cell below, re-write each of the 3 \"List Comprehensions\" in the code cells above as a loop so you understand how they work.\n",
        "\n",
        "Notice that a \"list comprehension\" is a compact way to write a \"list accumulator\" algorithm (and more efficient too!)"
      ],
      "metadata": {
        "collapsed": false,
        "pycharm": {
          "name": "#%% md\n"
        },
        "id": "koVKiju9BH3s"
      }
    },
    {
      "cell_type": "code",
      "execution_count": 8,
      "outputs": [
        {
          "output_type": "stream",
          "name": "stdout",
          "text": [
            "['2022-11-01', '2022-11-02', '2022-11-03', '2022-11-04', '2022-11-05', '2022-11-06', '2022-11-07', '2022-11-08', '2022-11-09', '2022-11-10']\n",
            "[8, 11, 16, 12, 5, 11, 17, 13, 7, 14]\n",
            "[datetime.datetime(2022, 11, 1, 0, 0), datetime.datetime(2022, 11, 2, 0, 0), datetime.datetime(2022, 11, 3, 0, 0), datetime.datetime(2022, 11, 4, 0, 0), datetime.datetime(2022, 11, 5, 0, 0), datetime.datetime(2022, 11, 6, 0, 0), datetime.datetime(2022, 11, 7, 0, 0), datetime.datetime(2022, 11, 8, 0, 0), datetime.datetime(2022, 11, 9, 0, 0), datetime.datetime(2022, 11, 10, 0, 0), datetime.datetime(2022, 11, 11, 0, 0), datetime.datetime(2022, 11, 12, 0, 0), datetime.datetime(2022, 11, 13, 0, 0), datetime.datetime(2022, 11, 14, 0, 0), datetime.datetime(2022, 11, 15, 0, 0), datetime.datetime(2022, 11, 16, 0, 0), datetime.datetime(2022, 11, 17, 0, 0), datetime.datetime(2022, 11, 18, 0, 0), datetime.datetime(2022, 11, 19, 0, 0), datetime.datetime(2022, 11, 20, 0, 0), datetime.datetime(2022, 11, 21, 0, 0), datetime.datetime(2022, 11, 22, 0, 0), datetime.datetime(2022, 11, 23, 0, 0), datetime.datetime(2022, 11, 24, 0, 0), datetime.datetime(2022, 11, 25, 0, 0), datetime.datetime(2022, 11, 26, 0, 0), datetime.datetime(2022, 11, 27, 0, 0), datetime.datetime(2022, 11, 28, 0, 0), datetime.datetime(2022, 11, 29, 0, 0), datetime.datetime(2022, 11, 30, 0, 0), datetime.datetime(2022, 12, 1, 0, 0), datetime.datetime(2022, 12, 2, 0, 0), datetime.datetime(2022, 12, 3, 0, 0), datetime.datetime(2022, 12, 4, 0, 0), datetime.datetime(2022, 12, 5, 0, 0), datetime.datetime(2022, 12, 6, 0, 0), datetime.datetime(2022, 12, 7, 0, 0), datetime.datetime(2022, 12, 8, 0, 0), datetime.datetime(2022, 12, 9, 0, 0), datetime.datetime(2022, 12, 10, 0, 0), datetime.datetime(2022, 12, 11, 0, 0), datetime.datetime(2022, 12, 12, 0, 0), datetime.datetime(2022, 12, 13, 0, 0), datetime.datetime(2022, 12, 14, 0, 0), datetime.datetime(2022, 12, 15, 0, 0), datetime.datetime(2022, 12, 16, 0, 0), datetime.datetime(2022, 12, 17, 0, 0), datetime.datetime(2022, 12, 18, 0, 0), datetime.datetime(2022, 12, 19, 0, 0), datetime.datetime(2022, 12, 20, 0, 0), datetime.datetime(2022, 12, 21, 0, 0), datetime.datetime(2022, 12, 22, 0, 0), datetime.datetime(2022, 12, 23, 0, 0), datetime.datetime(2022, 12, 24, 0, 0), datetime.datetime(2022, 12, 25, 0, 0), datetime.datetime(2022, 12, 26, 0, 0), datetime.datetime(2022, 12, 27, 0, 0), datetime.datetime(2022, 12, 28, 0, 0), datetime.datetime(2022, 12, 29, 0, 0), datetime.datetime(2022, 12, 30, 0, 0), datetime.datetime(2022, 12, 31, 0, 0), datetime.datetime(2023, 1, 1, 0, 0), datetime.datetime(2023, 1, 2, 0, 0), datetime.datetime(2023, 1, 3, 0, 0), datetime.datetime(2023, 1, 4, 0, 0), datetime.datetime(2023, 1, 5, 0, 0), datetime.datetime(2023, 1, 6, 0, 0), datetime.datetime(2023, 1, 7, 0, 0), datetime.datetime(2023, 1, 8, 0, 0), datetime.datetime(2023, 1, 9, 0, 0)]\n"
          ]
        }
      ],
      "source": [
        "#  Exercise 1 code here\n",
        "date_list = []\n",
        "case_list = []\n",
        "for daily in cases[:10]:  # List Comp #1\n",
        "  date_value = daily['date']\n",
        "  date_list.append(date_value)\n",
        "print(date_list)\n",
        "\n",
        "for daily in cases[:10]:  # List Comp #2\n",
        "  cases_value = daily['value_daily']\n",
        "  case_list.append(cases_value)\n",
        "print(case_list)\n",
        "\n",
        "date_objects = []\n",
        "for date in case_dates: # List Comp #3\n",
        "  date_objects.append(datetime.datetime.strptime(date, '%Y-%m-%d'))\n",
        "print(date_objects)"
      ],
      "metadata": {
        "pycharm": {
          "name": "#%%\n"
        },
        "id": "aa5xLcWEBH3t",
        "outputId": "81d33098-dc34-4d6d-f730-bf5b2ff4127d",
        "colab": {
          "base_uri": "https://localhost:8080/"
        }
      }
    },
    {
      "cell_type": "markdown",
      "source": [
        "### Generating a plot\n",
        "\n",
        "Finally, we'll plot the (dates,cases) data as a nice x-y line graph.\n",
        "\n",
        "The code to format the x-axis labels is taken from https://matplotlib.org/stable/gallery/ticks/date_concise_formatter.html"
      ],
      "metadata": {
        "collapsed": false,
        "id": "2ow28BuTBH3u"
      }
    },
    {
      "cell_type": "code",
      "execution_count": 7,
      "outputs": [
        {
          "output_type": "display_data",
          "data": {
            "text/plain": [
              "<Figure size 432x288 with 1 Axes>"
            ],
            "image/png": "[encoded data removed]"
          },
          "metadata": {
            "needs_background": "light"
          }
        }
      ],
      "source": [
        "def format_date_axis(ax):\n",
        "  \"\"\" format the dates shown on the x-axis of given axes, ax  \"\"\"\n",
        "  locator = mdates.AutoDateLocator(minticks=10, maxticks=20)\n",
        "  formatter = mdates.ConciseDateFormatter(locator)\n",
        "  ax.xaxis.set_major_locator(locator)\n",
        "  ax.xaxis.set_major_formatter(formatter)\n",
        "\n",
        "fig, ax = plt.subplots()\n",
        "format_date_axis(ax)\n",
        "ax.plot(dates, n_cases, label='Daily Cases')  # Plot some data on the axes.\n",
        "ax.set_xlabel('Date')  # Add an x-label to the axes.\n",
        "ax.set_ylabel('confirmed casess')  # Add a y-label to the axes.\n",
        "ax.set_title(\"Covid-19 case counts for BC\")  # Add a title to the axes.\n",
        "ax.legend();"
      ],
      "metadata": {
        "pycharm": {
          "name": "#%%\n"
        },
        "id": "FgwPH8mTBH3v",
        "outputId": "94eccc16-e690-488a-fa1d-580b74697994",
        "colab": {
          "base_uri": "https://localhost:8080/",
          "height": 295
        }
      }
    },
    {
      "cell_type": "markdown",
      "source": [
        "## Exercise 2\n",
        "\n",
        "Repeat the analysis above, but this time only for Vancouver Coastal Health Region.\n",
        "\n",
        " * Try to modify as little code as you can (just need to change the \"query\"), and re-run the analysis\n",
        " * You can get the ***hruid*** location code for each health region here:  https://github.com/ccodwg/CovidTimelineCanada/blob/main/geo/hr.csv\n",
        " * Can you generalize the code in the 2nd code cell to make it easier to repeat the analysis for different locations?  What about for different dates?\n",
        "\n",
        "## OPTIONAL - Take your skills to the next level...\n",
        "\n",
        "## Exercise 3\n",
        "\n",
        "Notice that the data plot looks quite erratic.  These swings most likely represent artifacts attributable to the reporting process rather than actual changes in infection rates.\n",
        "\n",
        " * One way to fix this is is to \"smooth\" the date with a \"7-day rolling average\".\n",
        "Each day, we take the average of the previous 7 days cases.\n",
        " * Add new code cell below, compute the 7-day rolling average for each day from the cases list.\n",
        " * Create a plot to display the rolling average data and compare your plot with the one produced above.\n",
        "\n",
        " Hints: you are free to do this however you like, but a quite elegant solution uses list comprehension, range, and slices"
      ],
      "metadata": {
        "collapsed": false,
        "id": "qqeTORnvBH3v"
      }
    },
    {
      "cell_type": "code",
      "execution_count": 7,
      "outputs": [],
      "source": [],
      "metadata": {
        "pycharm": {
          "name": "#%%\n"
        },
        "id": "YzzCOsN1tASI"
      }
    }
  ],
  "metadata": {
    "kernelspec": {
      "display_name": "Python 3",
      "language": "python",
      "name": "python3"
    },
    "language_info": {
      "codemirror_mode": {
        "name": "ipython",
        "version": 2
      },
      "file_extension": ".py",
      "mimetype": "text/x-python",
      "name": "python",
      "nbconvert_exporter": "python",
      "pygments_lexer": "ipython2",
      "version": "2.7.6"
    },
    "colab": {
      "provenance": [],
      "include_colab_link": true
    }
  },
  "nbformat": 4,
  "nbformat_minor": 0
}